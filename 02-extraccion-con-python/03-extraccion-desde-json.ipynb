{
 "cells": [
  {
   "cell_type": "markdown",
   "id": "8155fd01",
   "metadata": {},
   "source": [
    "# Extracción de contenido con Python a partir de JSON\n",
    "\n",
    "<html><p><span style=\"font-size:x-small\">En GitHub, los enlaces de la tabla de contenidos de un notebook Jupyter no funcionan. Para una versión con enlaces, abrir en <a href=\"\">NbViewer</a>. Para una versión interactiva del notebook, abrir en Binder:</span></p></html>\n",
    "\n",
    "- [Introducción: JSON](#s-intro)\n",
    "- [Extracción del contenido](#s-extraccion-xml)\n",
    "  - [Metadatos](#ss-metadatos)\n",
    "  - [Texto del poema](#ss-texto)\n",
    "- [Guardar la información extraída en una dataframe](#s-guardar-dataframe)\n",
    "\n",
    "<a name=\"s-intro\"></a>\n",
    "\n",
    "# Introducción: JSON\n",
    "\n",
    "Como se vio en el capítulo, JSON (acrónimo de *JavaScript Object Notation*, y que podemos pronunciar como *jotasón*) es un lenguaje para representar contenido de forma estructurada. El formalismo para representar JSON mediante una cadena de texto identifica el contenido con pares anidables de clave-valor, en vez de con pares de etiquetas anidables, contrariamente al formalismo de los formatos HTML y XML.\n",
    "\n",
    "Como se vio en el [presente repositorio](../01-extraccion-con-openrefine/02-extraccion-desde-json.md), OpenRefine tiene algunas funciones para manipular JSON. En este notebook abordamos la manipulación de JSON con el lenguaje Python.\n",
    "\n",
    "\n",
    "<a name=\"ss-sintaxis\"></a>\n",
    "\n",
    "## Sintaxis\n",
    "\n",
    "En JSON la información se estructura con pares de clave-valor.\n",
    "\n",
    "En el ejemplo, vemos claves como *poema*, *texto* y otras.\n",
    "\n",
    "Hay varios tipos de valores posibles, los que vemos en el ejemplo son:\n",
    "\n",
    "- cadenas de caracteres: P. ej. el valor asociado a la clave *nombre* dentro de *autoria*\n",
    "- objetos: Los valores que se dan entre llaves `{}`. P. ej. los valores asociados a la clave *metadatos* y a la clave *autoria* son objetos\n",
    "- listas: Aparecen entre `[]`. El valor para la clave *versos* es una lista, cuyos miembros son las cadenas de texto de cada verso\n",
    "\n",
    "En JSON también puede haber valores numéricos y booleanos (verdaero, falso), así como un valor nulo.\n",
    "\n",
    "Ya que las comillas forman parte de la sintaxis (tanto las claves como los valores de tipo cadena van entre comillas), si queremos usar comillas dentro de un valor, irán escapadas con barra inversa `\\`, p. ej. el título del poema es *frigo y \"frigo\"*, que en JSON es `\"frigo & \\\"frigo\\\"\"`\n",
    "\n",
    "<a name=\"frag-ejemplo-json\"></a>\n",
    "\n",
    "**Ejemplo de documento expresado en JSON**\n",
    "<html><span style=\"font-size:small\">Elaboración propia</span></html>\n",
    "\n",
    "```json\n",
    "{\n",
    "  \"poema\": {\n",
    "    \"metadatos\": {\n",
    "      \"autoria\": {\n",
    "        \"nombre\": \"Guillermo Carlos\",\n",
    "        \"apellido\": \"Guillermos\"\n",
    "      },\n",
    "      \"titulo\": \"frigo & \\\"frigo\\\"\",\n",
    "      \"fecha\": \"\"\n",
    "    },\n",
    "    \"texto\": {\n",
    "      \"titulo\": \"frigo & \\\"frigo\\\"\",\n",
    "      \"estrofas\": [\n",
    "        {\n",
    "          \"estrofa\": {\n",
    "            \"tipo\": \"haiku\",\n",
    "            \"versos\": [\n",
    "              \"come la fruta\",\n",
    "              \"del refrigerador\",\n",
    "              \"muy deliciosa\"\n",
    "            ]\n",
    "          }\n",
    "        }\n",
    "      ]\n",
    "    }\n",
    "  }\n",
    "}\n",
    "\n",
    "```\n",
    "\n",
    "Los datos en JSON, como pasa con los datos en XML, son datos ya estructurados: Hay identificadores (claves en JSON, etiquetas en XML) asociados a diferentes tipos de contenido, y podemos procesar el contenido en función de los identificadores. Cuando hacemos *scraping*, típicamente pasamos de contenido no estructurado (p. ej en HTML o en texto plano) a contenido estructurado. No obstante, puede haber contenido en JSON como parte de los contenidos web que manipulamos con el *scraping*, con lo cual se menciona el formato aquí. \n",
    "\n",
    "\n",
    "<a name=\"s-extraccion-xml\"></a>\n",
    "\n",
    "# Extracción del contenido\n",
    "\n",
    "Wikisource también puede ofrecer su contenido en JSON, a través de comandos de su API (Application Programming Interface o interfaz de programación de aplicaciones, es decir, conjunto de instrucciones para interaccionar con un programa a partir de otro programa).\n",
    "\n",
    "Bajaremos con la API la página del poema ya visto en el capítulo, \"Una viñeta\" de Delmira Agustini, pero en JSON en vez de en HTML. El URL es https://es.wikisource.org/w/api.php?action=parse&page=Una_vi%C3%B1eta&format=json.\n",
    "\n",
    "No se dan detalles sobre la parte del código que ya se ha visto en el [notebook](01-extraccion-desde-html.ipynb) sobre scraping desde HTML.\n",
    "\n",
    "La novedad aquí es que, en vez de crear un árbol con BeautifulSoup, creamos un objeto JSON, asignado a la variable `ojson` y extraemos el contenido que nos interesa usando métodos (funciones) asociados al objeto. Python tiene un módulo por defecto para manipular JSON, llamado `json`, que se importa aquí. Para crear un objeto JSON desde una cadena de caracteres, se usa la instrucción `loads()` (la letra *s* en *loads* nos recuerda que estamos cargando una cadena o *string*)."
   ]
  },
  {
   "cell_type": "code",
   "execution_count": 1,
   "id": "9a54aa77",
   "metadata": {},
   "outputs": [],
   "source": [
    "import json\n",
    "import requests\n",
    "\n",
    "url_pagina = \"https://es.wikisource.org/w/api.php?action=parse&page=Una_vi%C3%B1eta&format=json\"\n",
    "respuesta = requests.get(url_pagina)\n",
    "contenido = respuesta.text\n",
    "ojson =  json.loads(contenido)"
   ]
  },
  {
   "cell_type": "code",
   "execution_count": 2,
   "id": "770f518e",
   "metadata": {},
   "outputs": [
    {
     "data": {
      "text/plain": [
       "{'parse': {'title': 'Una viñeta',\n",
       "  'pageid': 27121,\n",
       "  'revid': 1193682,\n",
       "  'text': {'*': '<div class=\"mw-parser-output\"><style data-mw-deduplicate=\"TemplateStyles:r1188054\">.mw-parser-output #headertemplate{text-align:center;padding:1em;background:#F4F0E5;border-top:1px solid #A0A0A0;border-bottom:1px solid #A0A0A0;margin:10px auto;display:table;width:95%}.mw-parser-output #headerprevious,.mw-parser-output #footerprevious{padding:0;display:table-cell;vertical-align:middle;width:16%}.mw-parser-output #headernext,.mw-parser-output #footernext{padding:0;display:table-cell;vertical-align:middle;width:16%}.mw-parser-output .prev-span{float:left;display:block;font-size:smaller}.mw-parser-output .prev-span-arrow{margin-right:0.5em;position:relative;top:1.5px}.mw-parser-output .middle-div{width:68%;display:table-cell;vertical-align:middle}.mw-parser-output .next-span{float:right;display:block;font-size:smaller}.mw-parser-output .next-span-arrow{margin-left:0.5em;position:relative;top:1.5px}.mw-parser-output .lower-div{clear:both;padding:0.5em;text-align:center;margin:0 auto;font-size:80%}.mw-parser-output .notes{font-size:90%;width:95%;margin:-10px auto 10px}</style>\\n<div id=\"headertemplate\" class=\"noprint ws-noexport\"><div id=\"headerprevious\"></div><div class=\"middle-div\"><i><b>&#8203;Una viñeta&#8203;</b></i>&#160;de&#160;<a href=\"/wiki/Autor:Delmira_Agustini\" title=\"Autor:Delmira Agustini\">Delmira Agustini</a><br /><div class=\"noprint plainlinks lower-div\"><a href=\"/wiki/Archivo:Wikidata-logo.svg\" class=\"image\"><img alt=\"Wikidata-logo.svg\" src=\"//upload.wikimedia.org/wikipedia/commons/thumb/f/ff/Wikidata-logo.svg/16px-Wikidata-logo.svg.png\" decoding=\"async\" width=\"16\" height=\"9\" srcset=\"//upload.wikimedia.org/wikipedia/commons/thumb/f/ff/Wikidata-logo.svg/24px-Wikidata-logo.svg.png 1.5x, //upload.wikimedia.org/wikipedia/commons/thumb/f/ff/Wikidata-logo.svg/32px-Wikidata-logo.svg.png 2x\" data-file-width=\"1050\" data-file-height=\"590\" /></a>&#160;<a href=\"https://www.wikidata.org/wiki/Q19492667\" class=\"extiw\" title=\"d:Q19492667\">metadatos</a>.&#160;&#160;&#160;<div style=\"font-size:80%\">Descargar como &#160;<a href=\"https://wsexport.toolforge.org/tool/book.php?lang=es&amp;format=epub&amp;page=Una+vi%C3%B1eta\" title=\"Descargar en formato ePub\"><img alt=\"Descargar en formato ePub\" src=\"//upload.wikimedia.org/wikipedia/commons/thumb/d/d5/EPUB_silk_icon.svg/12px-EPUB_silk_icon.svg.png\" decoding=\"async\" width=\"12\" height=\"12\" srcset=\"//upload.wikimedia.org/wikipedia/commons/thumb/d/d5/EPUB_silk_icon.svg/18px-EPUB_silk_icon.svg.png 1.5x, //upload.wikimedia.org/wikipedia/commons/thumb/d/d5/EPUB_silk_icon.svg/24px-EPUB_silk_icon.svg.png 2x\" data-file-width=\"512\" data-file-height=\"512\" /></a>&#160;<a href=\"https://wsexport.toolforge.org/tool/book.php?lang=es&amp;page=Una+vi%C3%B1eta&amp;format=pdf-a5\" title=\"Descargar en formato PDF\"><img alt=\"Descargar en formato PDF\" src=\"//upload.wikimedia.org/wikipedia/commons/thumb/5/5f/Document-pdf.svg/15px-Document-pdf.svg.png\" decoding=\"async\" width=\"15\" height=\"14\" srcset=\"//upload.wikimedia.org/wikipedia/commons/thumb/5/5f/Document-pdf.svg/23px-Document-pdf.svg.png 1.5x, //upload.wikimedia.org/wikipedia/commons/thumb/5/5f/Document-pdf.svg/30px-Document-pdf.svg.png 2x\" data-file-width=\"714\" data-file-height=\"672\" /></a>&#160;<a href=\"https://wsexport.toolforge.org/tool/book.php?lang=es&amp;page=Una+vi%C3%B1eta&amp;format=mobi\" title=\"Descargar en formato mobi\"><img alt=\"Descargar en formato mobi\" src=\"//upload.wikimedia.org/wikipedia/commons/thumb/a/ae/Mobi_icon.svg/22px-Mobi_icon.svg.png\" decoding=\"async\" width=\"22\" height=\"13\" srcset=\"//upload.wikimedia.org/wikipedia/commons/thumb/a/ae/Mobi_icon.svg/33px-Mobi_icon.svg.png 1.5x, //upload.wikimedia.org/wikipedia/commons/thumb/a/ae/Mobi_icon.svg/44px-Mobi_icon.svg.png 2x\" data-file-width=\"273\" data-file-height=\"163\" /></a></div></div></div><div id=\"headernext\"></div></div><div id=\"ws-data\" class=\"ws-noexport\" style=\"display:none\"><span class=\"ws-title\">Una viñeta</span><span class=\"ws-author\">Delmira Agustini</span></div>\\n<p><br />\\n</p>\\n<div class=\"poem\">\\n<p>&#160;Tarde sucia de invierno. El caserío,   <br />\\n&#160;como si fuera un croquis al creyón,   <br />\\n&#160;se hunde en la noche. El humo de un bohío,   <br />\\n&#160;que sube en forma de tirabuzón;   <br />\\n&#160;<br />\\n<br />\\n&#160;mancha el paisaje que produce frío,  <br />\\n&#160;y debajo de la genuflexión   <br />\\n&#160;de la arboleda, somormuja el río   <br />\\n&#160;su canción, su somnífera canción.   <br />\\n&#160;<br />\\n<br />\\n&#160;Los labradores, camellón abajo,   <br />\\n&#160;retornan fatigosos del trabajo,  <br />\\n&#160;como un problema sin definición.   <br />\\n&#160;<br />\\n<br />\\n&#160;Y el dueño del terruño, indiferente,   <br />\\n&#160;rápidamente, muy rápidamente,   <br />\\n&#160;baja en su coche por el camellón.\\n</p>\\n</div>\\n<!-- \\nNewPP limit report\\nParsed by mw1409\\nCached time: 20220802160034\\nCache expiry: 1814400\\nReduced expiry: false\\nComplications: []\\nCPU time usage: 0.076 seconds\\nReal time usage: 0.104 seconds\\nPreprocessor visited node count: 31/1000000\\nPost‐expand include size: 2167/2097152 bytes\\nTemplate argument size: 0/2097152 bytes\\nHighest expansion depth: 4/100\\nExpensive parser function count: 0/500\\nUnstrip recursion depth: 1/20\\nUnstrip post‐expand size: 2370/5000000 bytes\\nLua time usage: 0.023/10.000 seconds\\nLua memory usage: 836150/52428800 bytes\\nNumber of Wikibase entities loaded: 1/400\\n-->\\n<!--\\nTransclusion expansion time report (%,ms,calls,template)\\n100.00%   80.396      1 -total\\n100.00%   80.396      1 Plantilla:Encabezado\\n 12.75%   10.252      1 Plantilla:Interwiki-extra\\n-->\\n\\n<!-- Saved in parser cache with key eswikisource:pcache:idhash:27121-0!canonical and timestamp 20220802160034 and revision id 1193682.\\n -->\\n</div>'},\n",
       "  'langlinks': [],\n",
       "  'categories': [{'sortkey': '', '*': 'ES-U'},\n",
       "   {'sortkey': '', '*': 'Sonetos'},\n",
       "   {'sortkey': '', '*': 'Sonetos_de_Delmira_Agustini'},\n",
       "   {'sortkey': '', '*': 'Literatura_uruguaya_(Títulos)'}],\n",
       "  'links': [{'ns': 106, 'exists': '', '*': 'Autor:Delmira Agustini'}],\n",
       "  'templates': [{'ns': 10, 'exists': '', '*': 'Plantilla:Encabezado'},\n",
       "   {'ns': 10, 'exists': '', '*': 'Plantilla:Encabezado/estilo.css'},\n",
       "   {'ns': 10, 'exists': '', '*': 'Plantilla:Interwiki-extra'},\n",
       "   {'ns': 828, 'exists': '', '*': 'Módulo:Encabezado'},\n",
       "   {'ns': 828, 'exists': '', '*': 'Módulo:Wikidata'},\n",
       "   {'ns': 828, 'exists': '', '*': 'Módulo:Tablas'},\n",
       "   {'ns': 828, 'exists': '', '*': 'Módulo:String'},\n",
       "   {'ns': 828, 'exists': '', '*': 'Módulo:Interwikis'}],\n",
       "  'images': ['Wikidata-logo.svg',\n",
       "   'EPUB_silk_icon.svg',\n",
       "   'Document-pdf.svg',\n",
       "   'Mobi_icon.svg'],\n",
       "  'externallinks': ['https://wsexport.toolforge.org/tool/book.php?lang=es&format=epub&page=Una+vi%C3%B1eta',\n",
       "   'https://wsexport.toolforge.org/tool/book.php?lang=es&page=Una+vi%C3%B1eta&format=pdf-a5',\n",
       "   'https://wsexport.toolforge.org/tool/book.php?lang=es&page=Una+vi%C3%B1eta&format=mobi'],\n",
       "  'sections': [],\n",
       "  'parsewarnings': [],\n",
       "  'displaytitle': 'Una viñeta',\n",
       "  'iwlinks': [{'prefix': 'd',\n",
       "    'url': 'https://www.wikidata.org/wiki/Q19492667',\n",
       "    '*': 'd:Q19492667'}],\n",
       "  'properties': [{'name': 'wikibase_item', '*': 'Q19492667'}]}}"
      ]
     },
     "execution_count": 2,
     "metadata": {},
     "output_type": "execute_result"
    }
   ],
   "source": [
    "ojson"
   ]
  },
  {
   "cell_type": "markdown",
   "id": "6028b0dc",
   "metadata": {},
   "source": [
    "<a name=\"s-extraccion-xml\"></a>\n",
    "\n",
    "## Extracción de contenido\n",
    "\n",
    "Como se ve al mostrar el contenido del objeto `ojson`, nos interesan los pares de clave-valor siguientes:\n",
    "\n",
    "\n",
    "**Para el título**\n",
    "\n",
    "\n",
    "```json\n",
    "{'parse': {'title': 'Una viñeta', ...\n",
    "```\n",
    "\n",
    "**Para la autora**\n",
    "\n",
    "```json\n",
    "'links': [{'ns': 106, 'exists': '', '*': 'Autor:Delmira Agustini'}],\n",
    "```\n",
    "\n",
    "**Para el texto**\n",
    "```json\n",
    "'text': {'*': '<div class=\"mw-parser-output\"> ...\n",
    "```\n",
    "\n",
    "En los casos del título y de la autora se ve claramente la localización de la información. En el caso del texto del poema, la API de Wikisource no da un campo específico con su contenido. Lo que hace es dar, como valor para la clave `text`, una cadena de texto que expresa una parte del contenido principal del cuerpo de la página en HTML (la parte central con el poema y algunos de sus metadatos). Así que debemos extraer esta cadena, crear un árbol HTML y extraer el texto del poema a partir de este. No es el uso más típico de JSON pero nos permite combinar los conocimientos vistos en el capítulo.\n",
    "\n",
    "<a name=\"ss-metadatos\"></a>\n",
    "\n",
    "### Metadatos\n",
    "\n",
    "Vamos a extraer el título y autora primero, asignándolos a una variable.\n",
    "\n",
    "Como se ve en los ejemplos, accedemos al valor relacionado con una clave con la sintaxis `[]`, es decir `ojson[\"parse\"]` nos da el valor asociado a la clave parse. Como ese valor es un objeto, compuesto a su vez de varios pares de clave valor, debemos dar de nuevo entre corchetes la clave para el título para acceder al valor final que nos interesa: `ojson[\"parse\"][\"title\"]`."
   ]
  },
  {
   "cell_type": "code",
   "execution_count": 3,
   "id": "160ddc14",
   "metadata": {},
   "outputs": [],
   "source": [
    "titulo = ojson[\"parse\"][\"title\"]"
   ]
  },
  {
   "cell_type": "code",
   "execution_count": 4,
   "id": "1c81c3e9",
   "metadata": {},
   "outputs": [
    {
     "name": "stdout",
     "output_type": "stream",
     "text": [
      "Una viñeta\n"
     ]
    }
   ],
   "source": [
    "print(titulo)"
   ]
  },
  {
   "cell_type": "code",
   "execution_count": 8,
   "id": "72926df5",
   "metadata": {},
   "outputs": [],
   "source": [
    "autora = ojson[\"parse\"][\"links\"][0][\"*\"].replace(\"Autor:\", \"\")"
   ]
  },
  {
   "cell_type": "code",
   "execution_count": 9,
   "id": "721d9a4b",
   "metadata": {},
   "outputs": [
    {
     "name": "stdout",
     "output_type": "stream",
     "text": [
      "Delmira Agustini\n"
     ]
    }
   ],
   "source": [
    "print(autora)"
   ]
  },
  {
   "cell_type": "markdown",
   "id": "a6b58282",
   "metadata": {},
   "source": [
    "<a name=\"ss-texto\"></a>\n",
    "\n",
    "### Texto del poema\n",
    "\n",
    "Nos ocupamos ahora del texto. Primero extraemos la parte central del cuerpo de la página Wikisource que contiene el poema con alguna información más (como se ha dicho, la API no divide el contenido de forma más detallada)."
   ]
  },
  {
   "cell_type": "code",
   "execution_count": 10,
   "id": "5d0691bb",
   "metadata": {},
   "outputs": [],
   "source": [
    "contenido_cuerpo_pagina = ojson[\"parse\"][\"text\"][\"*\"]"
   ]
  },
  {
   "cell_type": "code",
   "execution_count": 11,
   "id": "0deb5a6b",
   "metadata": {},
   "outputs": [
    {
     "name": "stdout",
     "output_type": "stream",
     "text": [
      "<div class=\"mw-parser-output\"><style data-mw-deduplicate=\"TemplateStyles:r1188054\">.mw-parser-output #headertemplate{text-align:center;padding:1em;background:#F4F0E5;border-top:1px solid #A0A0A0;border-bottom:1px solid #A0A0A0;margin:10px auto;display:table;width:95%}.mw-parser-output #headerprevious,.mw-parser-output #footerprevious{padding:0;display:table-cell;vertical-align:middle;width:16%}.mw-parser-output #headernext,.mw-parser-output #footernext{padding:0;display:table-cell;vertical-align:middle;width:16%}.mw-parser-output .prev-span{float:left;display:block;font-size:smaller}.mw-parser-output .prev-span-arrow{margin-right:0.5em;position:relative;top:1.5px}.mw-parser-output .middle-div{width:68%;display:table-cell;vertical-align:middle}.mw-parser-output .next-span{float:right;display:block;font-size:smaller}.mw-parser-output .next-span-arrow{margin-left:0.5em;position:relative;top:1.5px}.mw-parser-output .lower-div{clear:both;padding:0.5em;text-align:center;margin:0 auto;font-size:80%}.mw-parser-output .notes{font-size:90%;width:95%;margin:-10px auto 10px}</style>\n",
      "<div id=\"headertemplate\" class=\"noprint ws-noexport\"><div id=\"headerprevious\"></div><div class=\"middle-div\"><i><b>&#8203;Una viñeta&#8203;</b></i>&#160;de&#160;<a href=\"/wiki/Autor:Delmira_Agustini\" title=\"Autor:Delmira Agustini\">Delmira Agustini</a><br /><div class=\"noprint plainlinks lower-div\"><a href=\"/wiki/Archivo:Wikidata-logo.svg\" class=\"image\"><img alt=\"Wikidata-logo.svg\" src=\"//upload.wikimedia.org/wikipedia/commons/thumb/f/ff/Wikidata-logo.svg/16px-Wikidata-logo.svg.png\" decoding=\"async\" width=\"16\" height=\"9\" srcset=\"//upload.wikimedia.org/wikipedia/commons/thumb/f/ff/Wikidata-logo.svg/24px-Wikidata-logo.svg.png 1.5x, //upload.wikimedia.org/wikipedia/commons/thumb/f/ff/Wikidata-logo.svg/32px-Wikidata-logo.svg.png 2x\" data-file-width=\"1050\" data-file-height=\"590\" /></a>&#160;<a href=\"https://www.wikidata.org/wiki/Q19492667\" class=\"extiw\" title=\"d:Q19492667\">metadatos</a>.&#160;&#160;&#160;<div style=\"font-size:80%\">Descargar como &#160;<a href=\"https://wsexport.toolforge.org/tool/book.php?lang=es&amp;format=epub&amp;page=Una+vi%C3%B1eta\" title=\"Descargar en formato ePub\"><img alt=\"Descargar en formato ePub\" src=\"//upload.wikimedia.org/wikipedia/commons/thumb/d/d5/EPUB_silk_icon.svg/12px-EPUB_silk_icon.svg.png\" decoding=\"async\" width=\"12\" height=\"12\" srcset=\"//upload.wikimedia.org/wikipedia/commons/thumb/d/d5/EPUB_silk_icon.svg/18px-EPUB_silk_icon.svg.png 1.5x, //upload.wikimedia.org/wikipedia/commons/thumb/d/d5/EPUB_silk_icon.svg/24px-EPUB_silk_icon.svg.png 2x\" data-file-width=\"512\" data-file-height=\"512\" /></a>&#160;<a href=\"https://wsexport.toolforge.org/tool/book.php?lang=es&amp;page=Una+vi%C3%B1eta&amp;format=pdf-a5\" title=\"Descargar en formato PDF\"><img alt=\"Descargar en formato PDF\" src=\"//upload.wikimedia.org/wikipedia/commons/thumb/5/5f/Document-pdf.svg/15px-Document-pdf.svg.png\" decoding=\"async\" width=\"15\" height=\"14\" srcset=\"//upload.wikimedia.org/wikipedia/commons/thumb/5/5f/Document-pdf.svg/23px-Document-pdf.svg.png 1.5x, //upload.wikimedia.org/wikipedia/commons/thumb/5/5f/Document-pdf.svg/30px-Document-pdf.svg.png 2x\" data-file-width=\"714\" data-file-height=\"672\" /></a>&#160;<a href=\"https://wsexport.toolforge.org/tool/book.php?lang=es&amp;page=Una+vi%C3%B1eta&amp;format=mobi\" title=\"Descargar en formato mobi\"><img alt=\"Descargar en formato mobi\" src=\"//upload.wikimedia.org/wikipedia/commons/thumb/a/ae/Mobi_icon.svg/22px-Mobi_icon.svg.png\" decoding=\"async\" width=\"22\" height=\"13\" srcset=\"//upload.wikimedia.org/wikipedia/commons/thumb/a/ae/Mobi_icon.svg/33px-Mobi_icon.svg.png 1.5x, //upload.wikimedia.org/wikipedia/commons/thumb/a/ae/Mobi_icon.svg/44px-Mobi_icon.svg.png 2x\" data-file-width=\"273\" data-file-height=\"163\" /></a></div></div></div><div id=\"headernext\"></div></div><div id=\"ws-data\" class=\"ws-noexport\" style=\"display:none\"><span class=\"ws-title\">Una viñeta</span><span class=\"ws-author\">Delmira Agustini</span></div>\n",
      "<p><br />\n",
      "</p>\n",
      "<div class=\"poem\">\n",
      "<p>&#160;Tarde sucia de invierno. El caserío,   <br />\n",
      "&#160;como si fuera un croquis al creyón,   <br />\n",
      "&#160;se hunde en la noche. El humo de un bohío,   <br />\n",
      "&#160;que sube en forma de tirabuzón;   <br />\n",
      "&#160;<br />\n",
      "<br />\n",
      "&#160;mancha el paisaje que produce frío,  <br />\n",
      "&#160;y debajo de la genuflexión   <br />\n",
      "&#160;de la arboleda, somormuja el río   <br />\n",
      "&#160;su canción, su somnífera canción.   <br />\n",
      "&#160;<br />\n",
      "<br />\n",
      "&#160;Los labradores, camellón abajo,   <br />\n",
      "&#160;retornan fatigosos del trabajo,  <br />\n",
      "&#160;como un problema sin definición.   <br />\n",
      "&#160;<br />\n",
      "<br />\n",
      "&#160;Y el dueño del terruño, indiferente,   <br />\n",
      "&#160;rápidamente, muy rápidamente,   <br />\n",
      "&#160;baja en su coche por el camellón.\n",
      "</p>\n",
      "</div>\n",
      "<!-- \n",
      "NewPP limit report\n",
      "Parsed by mw1409\n",
      "Cached time: 20220802160034\n",
      "Cache expiry: 1814400\n",
      "Reduced expiry: false\n",
      "Complications: []\n",
      "CPU time usage: 0.076 seconds\n",
      "Real time usage: 0.104 seconds\n",
      "Preprocessor visited node count: 31/1000000\n",
      "Post‐expand include size: 2167/2097152 bytes\n",
      "Template argument size: 0/2097152 bytes\n",
      "Highest expansion depth: 4/100\n",
      "Expensive parser function count: 0/500\n",
      "Unstrip recursion depth: 1/20\n",
      "Unstrip post‐expand size: 2370/5000000 bytes\n",
      "Lua time usage: 0.023/10.000 seconds\n",
      "Lua memory usage: 836150/52428800 bytes\n",
      "Number of Wikibase entities loaded: 1/400\n",
      "-->\n",
      "<!--\n",
      "Transclusion expansion time report (%,ms,calls,template)\n",
      "100.00%   80.396      1 -total\n",
      "100.00%   80.396      1 Plantilla:Encabezado\n",
      " 12.75%   10.252      1 Plantilla:Interwiki-extra\n",
      "-->\n",
      "\n",
      "<!-- Saved in parser cache with key eswikisource:pcache:idhash:27121-0!canonical and timestamp 20220802160034 and revision id 1193682.\n",
      " -->\n",
      "</div>\n"
     ]
    }
   ],
   "source": [
    "print(contenido_cuerpo_pagina)"
   ]
  },
  {
   "cell_type": "markdown",
   "id": "f7131435",
   "metadata": {},
   "source": [
    "Ya que esta cadena expresa el HTML de la página, la analizaremos con el parseador de HTML y extraeremos el texto del poema, usando las mismas operaciones que ya se vieron en el [notebook](01-extraccion-desde-html.ipynb) sobre scraping desde HTML."
   ]
  },
  {
   "cell_type": "code",
   "execution_count": 12,
   "id": "52d72d77",
   "metadata": {},
   "outputs": [],
   "source": [
    "from bs4 import BeautifulSoup\n",
    "\n",
    "arbol_html = BeautifulSoup(contenido_cuerpo_pagina)"
   ]
  },
  {
   "cell_type": "code",
   "execution_count": 13,
   "id": "03040f07",
   "metadata": {},
   "outputs": [],
   "source": [
    "texto_bruto_poema = arbol_html.find_all(\"div\", attrs={\"class\": \"poem\"})[0].find(\"p\").get_text()"
   ]
  },
  {
   "cell_type": "code",
   "execution_count": 14,
   "id": "17784562",
   "metadata": {},
   "outputs": [
    {
     "data": {
      "text/plain": [
       "'\\xa0Tarde sucia de invierno. El caserío,   \\n\\xa0como si fuera un croquis al creyón,   \\n\\xa0se hunde en la noche. El humo de un bohío,   \\n\\xa0que sube en forma de tirabuzón;   \\n\\xa0\\n\\n\\xa0mancha el paisaje que produce frío,  \\n\\xa0y debajo de la genuflexión   \\n\\xa0de la arboleda, somormuja el río   \\n\\xa0su canción, su somnífera canción.   \\n\\xa0\\n\\n\\xa0Los labradores, camellón abajo,   \\n\\xa0retornan fatigosos del trabajo,  \\n\\xa0como un problema sin definición.   \\n\\xa0\\n\\n\\xa0Y el dueño del terruño, indiferente,   \\n\\xa0rápidamente, muy rápidamente,   \\n\\xa0baja en su coche por el camellón.\\n'"
      ]
     },
     "execution_count": 14,
     "metadata": {},
     "output_type": "execute_result"
    }
   ],
   "source": [
    "texto_bruto_poema"
   ]
  },
  {
   "cell_type": "code",
   "execution_count": 15,
   "id": "eed8d7a4",
   "metadata": {},
   "outputs": [],
   "source": [
    "versos_brutos = texto_bruto_poema.split(\"\\n\")"
   ]
  },
  {
   "cell_type": "code",
   "execution_count": 16,
   "id": "245ac6dc",
   "metadata": {
    "scrolled": true
   },
   "outputs": [
    {
     "data": {
      "text/plain": [
       "['\\xa0Tarde sucia de invierno. El caserío,   ',\n",
       " '\\xa0como si fuera un croquis al creyón,   ',\n",
       " '\\xa0se hunde en la noche. El humo de un bohío,   ',\n",
       " '\\xa0que sube en forma de tirabuzón;   ',\n",
       " '\\xa0',\n",
       " '',\n",
       " '\\xa0mancha el paisaje que produce frío,  ',\n",
       " '\\xa0y debajo de la genuflexión   ',\n",
       " '\\xa0de la arboleda, somormuja el río   ',\n",
       " '\\xa0su canción, su somnífera canción.   ',\n",
       " '\\xa0',\n",
       " '',\n",
       " '\\xa0Los labradores, camellón abajo,   ',\n",
       " '\\xa0retornan fatigosos del trabajo,  ',\n",
       " '\\xa0como un problema sin definición.   ',\n",
       " '\\xa0',\n",
       " '',\n",
       " '\\xa0Y el dueño del terruño, indiferente,   ',\n",
       " '\\xa0rápidamente, muy rápidamente,   ',\n",
       " '\\xa0baja en su coche por el camellón.',\n",
       " '']"
      ]
     },
     "execution_count": 16,
     "metadata": {},
     "output_type": "execute_result"
    }
   ],
   "source": [
    "versos_brutos"
   ]
  },
  {
   "cell_type": "code",
   "execution_count": 17,
   "id": "ad2ffabc",
   "metadata": {},
   "outputs": [],
   "source": [
    "versos_limpios = [verso.strip() for verso in versos_brutos]"
   ]
  },
  {
   "cell_type": "code",
   "execution_count": 18,
   "id": "af4419eb",
   "metadata": {
    "scrolled": true
   },
   "outputs": [
    {
     "data": {
      "text/plain": [
       "['Tarde sucia de invierno. El caserío,',\n",
       " 'como si fuera un croquis al creyón,',\n",
       " 'se hunde en la noche. El humo de un bohío,',\n",
       " 'que sube en forma de tirabuzón;',\n",
       " '',\n",
       " '',\n",
       " 'mancha el paisaje que produce frío,',\n",
       " 'y debajo de la genuflexión',\n",
       " 'de la arboleda, somormuja el río',\n",
       " 'su canción, su somnífera canción.',\n",
       " '',\n",
       " '',\n",
       " 'Los labradores, camellón abajo,',\n",
       " 'retornan fatigosos del trabajo,',\n",
       " 'como un problema sin definición.',\n",
       " '',\n",
       " '',\n",
       " 'Y el dueño del terruño, indiferente,',\n",
       " 'rápidamente, muy rápidamente,',\n",
       " 'baja en su coche por el camellón.',\n",
       " '']"
      ]
     },
     "execution_count": 18,
     "metadata": {},
     "output_type": "execute_result"
    }
   ],
   "source": [
    "versos_limpios"
   ]
  },
  {
   "cell_type": "code",
   "execution_count": 19,
   "id": "924c9863",
   "metadata": {},
   "outputs": [],
   "source": [
    "texto_poema = \"\\n\".join(versos_limpios)"
   ]
  },
  {
   "cell_type": "code",
   "execution_count": 20,
   "id": "d743583e",
   "metadata": {
    "scrolled": true
   },
   "outputs": [
    {
     "data": {
      "text/plain": [
       "'Tarde sucia de invierno. El caserío,\\ncomo si fuera un croquis al creyón,\\nse hunde en la noche. El humo de un bohío,\\nque sube en forma de tirabuzón;\\n\\n\\nmancha el paisaje que produce frío,\\ny debajo de la genuflexión\\nde la arboleda, somormuja el río\\nsu canción, su somnífera canción.\\n\\n\\nLos labradores, camellón abajo,\\nretornan fatigosos del trabajo,\\ncomo un problema sin definición.\\n\\n\\nY el dueño del terruño, indiferente,\\nrápidamente, muy rápidamente,\\nbaja en su coche por el camellón.\\n'"
      ]
     },
     "execution_count": 20,
     "metadata": {},
     "output_type": "execute_result"
    }
   ],
   "source": [
    "texto_poema"
   ]
  },
  {
   "cell_type": "code",
   "execution_count": 21,
   "id": "0535ef11",
   "metadata": {
    "scrolled": true
   },
   "outputs": [
    {
     "name": "stdout",
     "output_type": "stream",
     "text": [
      "Tarde sucia de invierno. El caserío,\n",
      "como si fuera un croquis al creyón,\n",
      "se hunde en la noche. El humo de un bohío,\n",
      "que sube en forma de tirabuzón;\n",
      "\n",
      "\n",
      "mancha el paisaje que produce frío,\n",
      "y debajo de la genuflexión\n",
      "de la arboleda, somormuja el río\n",
      "su canción, su somnífera canción.\n",
      "\n",
      "\n",
      "Los labradores, camellón abajo,\n",
      "retornan fatigosos del trabajo,\n",
      "como un problema sin definición.\n",
      "\n",
      "\n",
      "Y el dueño del terruño, indiferente,\n",
      "rápidamente, muy rápidamente,\n",
      "baja en su coche por el camellón.\n",
      "\n"
     ]
    }
   ],
   "source": [
    "print(texto_poema)"
   ]
  },
  {
   "cell_type": "markdown",
   "id": "038d806e",
   "metadata": {},
   "source": [
    "<a name=\"s-guardar-dataframe\"></a>\n",
    "\n",
    "## Guardar la información extraída en una dataframe\n",
    "\n",
    "Gracias a la extracción, tenemos la información que nos interesa en las variables `titulo`, `autora` y `texto_poema`.\n",
    "\n",
    "Podemos guardar esto en una dataframe por ejemplo, como se vio en el [notebook](01-extraccion-desde-html.ipynb) sobre scraping desde HTML."
   ]
  },
  {
   "cell_type": "code",
   "execution_count": 22,
   "id": "27599e98",
   "metadata": {},
   "outputs": [],
   "source": [
    "import pandas as pd\n",
    "\n",
    "datos = {\"autora\": [autora],\n",
    "         \"titulo\": [titulo],\n",
    "         \"textoPoema\": [texto_poema]} \n",
    "\n",
    "df = pd.DataFrame(datos)"
   ]
  },
  {
   "cell_type": "code",
   "execution_count": 23,
   "id": "90305768",
   "metadata": {
    "scrolled": true
   },
   "outputs": [
    {
     "data": {
      "text/html": [
       "<div>\n",
       "<style scoped>\n",
       "    .dataframe tbody tr th:only-of-type {\n",
       "        vertical-align: middle;\n",
       "    }\n",
       "\n",
       "    .dataframe tbody tr th {\n",
       "        vertical-align: top;\n",
       "    }\n",
       "\n",
       "    .dataframe thead th {\n",
       "        text-align: right;\n",
       "    }\n",
       "</style>\n",
       "<table border=\"1\" class=\"dataframe\">\n",
       "  <thead>\n",
       "    <tr style=\"text-align: right;\">\n",
       "      <th></th>\n",
       "      <th>autora</th>\n",
       "      <th>titulo</th>\n",
       "      <th>textoPoema</th>\n",
       "    </tr>\n",
       "  </thead>\n",
       "  <tbody>\n",
       "    <tr>\n",
       "      <th>0</th>\n",
       "      <td>Delmira Agustini</td>\n",
       "      <td>Una viñeta</td>\n",
       "      <td>Tarde sucia de invierno. El caserío,\\ncomo si ...</td>\n",
       "    </tr>\n",
       "  </tbody>\n",
       "</table>\n",
       "</div>"
      ],
      "text/plain": [
       "             autora      titulo  \\\n",
       "0  Delmira Agustini  Una viñeta   \n",
       "\n",
       "                                          textoPoema  \n",
       "0  Tarde sucia de invierno. El caserío,\\ncomo si ...  "
      ]
     },
     "execution_count": 23,
     "metadata": {},
     "output_type": "execute_result"
    }
   ],
   "source": [
    "df"
   ]
  },
  {
   "cell_type": "markdown",
   "id": "b9764b01",
   "metadata": {},
   "source": [
    "Podemos ahora guardar este archivo en el disco."
   ]
  },
  {
   "cell_type": "code",
   "execution_count": 24,
   "id": "c9b3b951",
   "metadata": {},
   "outputs": [],
   "source": [
    "import pathlib\n",
    "\n",
    "# definir directorio para el archivo de salida\n",
    "directorio_actual = pathlib.Path.cwd()\n",
    "dir_resultados = directorio_actual.joinpath(\"resultados\", \"desde-json\")\n",
    "\n",
    "# crear el directorio (si ya existe no será creado)\n",
    "if not dir_resultados.is_dir():\n",
    "    dir_resultados.mkdir(parents=True)\n",
    "\n",
    "# preparar los nombres de los archivos de salida para cada formato\n",
    "nombre_fichero = \"agustini_poema\"\n",
    "salida_csv = dir_resultados.joinpath(nombre_fichero + \".csv\")\n",
    "salida_tsv = dir_resultados.joinpath(nombre_fichero + \".tsv\")\n",
    "salida_excel = dir_resultados.joinpath(nombre_fichero + \".xlsx\")"
   ]
  },
  {
   "cell_type": "code",
   "execution_count": 25,
   "id": "61c65a58",
   "metadata": {},
   "outputs": [],
   "source": [
    "df.to_csv(salida_csv, index=False)\n",
    "df.to_csv(salida_tsv, sep=\"\\t\", index=False)\n",
    "df.to_excel(salida_excel, index=False)"
   ]
  },
  {
   "attachments": {},
   "cell_type": "markdown",
   "id": "ca31fd81",
   "metadata": {},
   "source": [
    "Abriendo el archivo .xlsx con LibreOffice Calc, el resultado se muestra como sigue:\n",
    "\n",
    "\n",
    "![img](./img/03_json_01_excel.png)"
   ]
  }
 ],
 "metadata": {
  "kernelspec": {
   "display_name": "Python 3 (ipykernel)",
   "language": "python",
   "name": "python3"
  },
  "language_info": {
   "codemirror_mode": {
    "name": "ipython",
    "version": 3
   },
   "file_extension": ".py",
   "mimetype": "text/x-python",
   "name": "python",
   "nbconvert_exporter": "python",
   "pygments_lexer": "ipython3",
   "version": "3.8.11"
  }
 },
 "nbformat": 4,
 "nbformat_minor": 5
}
