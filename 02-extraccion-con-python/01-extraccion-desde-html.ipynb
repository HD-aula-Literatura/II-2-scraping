{
 "cells": [
  {
   "cell_type": "markdown",
   "metadata": {},
   "source": [
    "# Extracción de contenido (*scraping*) con el lenguaje de programación Python\n",
    "\n",
    "<html><p><span style=\"font-size:x-small\">En GitHub, los enlaces de la tabla de contenidos no funcionan. Para una versión con enlaces, abrir en <a href=\"https://nbviewer.org/github/HD-aula-Literatura/II-2-scraping/blob/main/02-extraccion-con-python/01-extraccion-desde-html.ipynb\" target=\"_blank\">NbViewer</a>. Para una versión interactiva del notebook, abrir en Binder:</span></p></html>\n",
    "\n",
    "[![badge](https://img.shields.io/badge/abrir-binder-579ACA.svg?logo=data:image/png;base64,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)](https://mybinder.org/v2/gh/HD-aula-Literatura/II-2-scraping/374e6a2de8d63642813cfd4aefe3ed7cc8fde722?urlpath=lab%2Ftree%2F02-extraccion-con-python%2F01-extraccion-desde-html.ipynb)\n",
    "\n",
    "\n",
    "- [Introducción](#intro)\n",
    "- [Extracción de un poema dado su URL](#extraccion-poema-indiv)\n",
    "    - [Bajar el contenido de un URL](#bajar-url)\n",
    "    - [Extraer el contenido](#extraer-contenido)\n",
    "        - [Obtener los metadatos](#metadatos-indiv)\n",
    "        - [Obtener el texto del poema](#texto-indiv)\n",
    "    - [Escribir la información extraída en archivos de salida](#salida-archivo)\n",
    "- [Extracción de múltiples poemas a partir de una lista de URLs](#extraccion-poema-multiple)\n",
    "    - [Crear la lista de URLs](#crear-lista-urls)\n",
    "    - [Bajar el contenido](#bajar-lista-urls)\n",
    "    - [Extraer la información](#extraer-contenido-multiple)\n",
    "    - [Guardar los resultados](#salida-archivos)\n",
    "\n",
    "\n",
    "<a name=\"intro\"></a>\n",
    "# Introducción\n",
    "\n",
    "Veremos cómo efectuar las operaciones siguientes:\n",
    "\n",
    "- Bajar el contenido (en HTML) de uno o varios URL\n",
    "- Analizar (parsing) el HTML de forma automática para extraer el contenido de las etiquetas que nos interesan\n",
    "- Crear archivos de salida con la información extraída y archivos de entrada con información a explotar para la extracción\n",
    "\n",
    "<html><!--\n",
    "%TODO% añadir información sobre cómo usar un notebook Jupyter\n",
    "-->\n",
    "</html>\n",
    "\n",
    "<a name=\"extraccion-poema-indiv\"></a>\n",
    "## Extraer el contenido y metadatos de un poema, dado sur URL\n",
    "\n",
    "Esta tarea corresponde a lo realizado con OpenRefine en la sección 4.1 del capítulo.\n",
    "\n",
    "<a name=\"bajar-url\"></a>\n",
    "### Bajar el contenido de un URL\n",
    "\n",
    "Para bajar el contenido usamos la biblioteca (conjunto de instrucciones que podemos utilizar desde código Python) [requests](https://requests.readthedocs.io/en/latest/)\n",
    "\n",
    "En caso de que la biblioteca no esté instalada (lo cual se verá ya que, al intentar usarla, habrá un mensaje de error que lo indique), se puede instalar con `pip install requests` (ver [documentación](https://requests.readthedocs.io/en/latest/))\n",
    "\n",
    "En el código siguiente, se siguen varias etapas:\n",
    "- importamos los paquetes o bibliotecas a utilizar\n",
    "- el URL se asigna, como cadena de caracteres (entre comillas), a una variable llamada `url_pagina` \n",
    "- hacemos una petición para obtener el contenido de la página, con `requests.get()`\n",
    "- obtenemos una respuesta, asignada a la variable `respuesta`. Esta respuesta tiene propiedades interesantes, como las siguientes\n",
    "  - `.status_code`, que será 200 si el contenido se ha bajado correctamente, u otro código (p. ej. 404 o 500) en caso de error\n",
    "  - `.text`: devuelve una cadena de texto que representa el contenido de la página. En este caso se trata de contenido HTML (una cadena de texto que representa el HTML de la página).\n",
    "- Asignamos el contenido de la página (`respuesta.text`) a la variable `html_pagina`. Necesitamos este contenido para crear el árbol HTML que explotaremos para la extracción"
   ]
  },
  {
   "cell_type": "code",
   "execution_count": 125,
   "metadata": {
    "pycharm": {
     "is_executing": false,
     "name": "#%%\n"
    }
   },
   "outputs": [],
   "source": [
    "import requests\n",
    "url_pagina = \"https://es.wikisource.org/wiki/Una_vi%C3%B1eta\"\n",
    "respuesta = requests.get(url_pagina)\n",
    "html_pagina = respuesta.text"
   ]
  },
  {
   "cell_type": "markdown",
   "metadata": {
    "pycharm": {
     "name": "#%% md\n"
    }
   },
   "source": [
    "<a name=\"extraer-contenido\"></a>\n",
    "### Extraer el contenido\n",
    "\n",
    "Usaremos el árbol HTML para esto. Ya vimos este tipo de enfoque, con OpenRefine, cuyo lenguaje [GREL](https://docs.openrefine.org/manual/grelfunctions) tiene une instrucción `parseHtml()` para crear el árbol\n",
    "\n",
    "Con Python, para crear el árbol HTML y extraer el contenido, utilizaremos la \"biblioteca\" [BeautifulSoup](https://www.crummy.com/software/BeautifulSoup/bs4/doc/), ampliamente utilizada. Etapas:\n",
    "\n",
    "- Importamos la biblioteca, con la instrucción `from bs4 import BeautifulSoup`\n",
    "- En caso de que la biblioteca no esté instalada (lo cual se verá ya que, al intentar usarla, habrá un mensaje de error que lo indique), se puede instalar con `pip install beautifulsoup4` (ver [documentación](https://www.crummy.com/software/BeautifulSoup/bs4/doc/))\n",
    "- Creamos el árbol HTML a partir de la cadena de texto que lo representa (obtenida más arriva), con `BeautifulSoup(html_pagina)`\n",
    "\n",
    "Nota: Es habitual llamar \"soup\" o \"sopa\" a la representación de contenido HTML analizado con una biblioteca (BeautifulSoup en Python, [JSoup](https://jsoup.org/apidocs/org/jsoup/select/Selector.html) en Java; por cierto OpenRefine en tanto que herramienta creada en Java usa JSoup)"
   ]
  },
  {
   "cell_type": "code",
   "execution_count": 126,
   "metadata": {
    "pycharm": {
     "is_executing": false,
     "name": "#%%\n"
    }
   },
   "outputs": [],
   "source": [
    "from bs4 import BeautifulSoup\n",
    "arbol = BeautifulSoup(html_pagina)"
   ]
  },
  {
   "cell_type": "markdown",
   "metadata": {
    "pycharm": {
     "name": "#%% md\n"
    }
   },
   "source": [
    "<a name=\"metadatos-indiv\"></a>\n",
    "#### Obtener los metadatos\n",
    "\n",
    "Una vez que el árbol está disponible, podemos extraer información basándonos en el nombre y atributos de los elementos, como hicimos con OpenRefine en el capítulo.\n",
    "\n",
    "- Para el elemento de la autora, buscaremos un elemento `<span class='ws-author'>` (es decir, un elemento `span` con un atributo `class` cuyo valor es `ws-author`).\n",
    "\n",
    "- Para el elemento del título, buscaremos un elemento `<span class='ws-title'>` (es decir, un elemento `span` con un atributo `class` cuyo valor es `ws-title`).\n",
    "\n",
    "Para hacer esta búsqueda, podemos usar el método `find_all()`, disponible a partir del objeto árbol (que está asignado a la variable `arbol`). Hay varias formas posibles de proceder (ver [documentación](https://www.crummy.com/software/BeautifulSoup/bs4/doc/#find-all)), pero una manera genérica es la siguiente:\n",
    "\n",
    "```python\n",
    "arbol.find_all(\"span\", attrs={\"class\": 'ws-title'})\n",
    "``` \n",
    "Como se ve en el ejemplo, como argumentos a `find_all()` se da el nombre del elemento, y después la sequencia `attrs=` seguida del nombre y valor del atributo buscado, respetando la sintaxis del ejemplo (cadenas entrecomilladas separadas por el signo dos puntos)\n",
    "\n",
    "<html><!--Comentario si usamos class_ Cabe mencionar que la clave de búsqueda no es `class` sino `class`, ya que la palabra *class* ya tiene otra utilización en Python.--></html> \n",
    "\n",
    "Asignaremos el resultado de cada búsqueda a una variable."
   ]
  },
  {
   "cell_type": "code",
   "execution_count": 127,
   "metadata": {
    "pycharm": {
     "is_executing": false,
     "name": "#%%\n"
    }
   },
   "outputs": [],
   "source": [
    "autora_ele = arbol.find_all(\"span\", attrs={\"class\": \"ws-author\"})\n",
    "titulo_ele = arbol.find_all(\"span\", attrs={\"class\": \"ws-title\"})"
   ]
  },
  {
   "cell_type": "markdown",
   "metadata": {
    "pycharm": {
     "name": "#%% md\n"
    }
   },
   "source": [
    "Si miramos el contenido de las variables, veremos que, como pasaba con `select()` en las consultas de HTML en OpenRefine, `find_all()` devuelve una lista de valores.\n",
    "\n",
    "Podemos examinar el contenido de las variables simplemente escribiendo su nombre en una celda de notebook Jupyter o en una consola de Python, o con la función `print()`, pasándole el nombre de la variable como argumento."
   ]
  },
  {
   "cell_type": "code",
   "execution_count": 128,
   "metadata": {
    "pycharm": {
     "is_executing": false,
     "name": "#%%\n"
    }
   },
   "outputs": [
    {
     "data": {
      "text/plain": [
       "[<span class=\"ws-author\">Delmira Agustini</span>]"
      ]
     },
     "execution_count": 128,
     "metadata": {},
     "output_type": "execute_result"
    }
   ],
   "source": [
    "# comentario: escribir nombre de variable para ver su valor\n",
    "autora_ele"
   ]
  },
  {
   "cell_type": "code",
   "execution_count": 129,
   "metadata": {
    "pycharm": {
     "is_executing": false,
     "name": "#%%\n"
    }
   },
   "outputs": [
    {
     "name": "stdout",
     "output_type": "stream",
     "text": [
      "[<span class=\"ws-author\">Delmira Agustini</span>]\n"
     ]
    }
   ],
   "source": [
    "# ver valor de una variable con print()\n",
    "print(autora_ele)"
   ]
  },
  {
   "cell_type": "markdown",
   "metadata": {
    "pycharm": {
     "name": "#%% md\n"
    }
   },
   "source": [
    "En tanto que listas, accederemos a su contenido con índices numéricos, y se empieza a contar por cero: `autora_ele[0]`.\n",
    "\n",
    "Como pasaba con OpenRefine, como salida de nuestro procesamiento no queremos un \"elemento\", un \"nodo\" de un árbol con propiedades útiles para su análisis con funciones de manipulación del árbol, sino una cadena de texto. Para esto, podemos usar el método `get_text()` de los elementos tal que analizados por BeautifulSoup. "
   ]
  },
  {
   "cell_type": "code",
   "execution_count": 130,
   "metadata": {
    "pycharm": {
     "is_executing": false,
     "name": "#%%\n"
    }
   },
   "outputs": [],
   "source": [
    "autora = autora_ele[0].get_text()\n",
    "titulo = titulo_ele[0].get_text()"
   ]
  },
  {
   "cell_type": "markdown",
   "metadata": {
    "pycharm": {
     "name": "#%% md\n"
    }
   },
   "source": [
    "Si inspeccionamos el contenido de las variables con `print()`, veremos que ahora sí contienen una cadena de texto con la información deseada"
   ]
  },
  {
   "cell_type": "code",
   "execution_count": 131,
   "metadata": {
    "pycharm": {
     "is_executing": false,
     "name": "#%%\n"
    }
   },
   "outputs": [
    {
     "name": "stdout",
     "output_type": "stream",
     "text": [
      "Delmira Agustini\n",
      "Una viñeta\n"
     ]
    }
   ],
   "source": [
    "print(autora)\n",
    "print(titulo)"
   ]
  },
  {
   "cell_type": "markdown",
   "metadata": {
    "pycharm": {
     "name": "#%% md\n"
    }
   },
   "source": [
    "<a name=\"texto-indiv\"></a>\n",
    "#### Obtener el texto del poema\n",
    "\n",
    "Pasamos a la extracción del texto. Hay varias formas de hacer esto, algunas muy compactas. Usamos aquí una manera de hacerlo similar a lo que se hizo en el capítulo con OpenRefine.\n",
    "\n",
    "Se trata de identficar elementos `<div class='poem'>`. Podríamos usar la misma sintaxis que antes, que era `arbol.find_all(\"div\", attrs={\"class\":\"poem\"}`, pero cuando el atributo con el que trabajamos es `class`, podemos usar una sintaxis abreviada, como en el ejemplo.\n",
    "\n",
    "Además de `find_all()`, que devuelve una lista, también hay un método `find()` que devuelve directamente un elemento en vez de una lista. Vamos a usarlo esta vez."
   ]
  },
  {
   "cell_type": "code",
   "execution_count": 132,
   "metadata": {
    "pycharm": {
     "is_executing": false,
     "name": "#%% \n"
    }
   },
   "outputs": [],
   "source": [
    "poema_div = arbol.find(\"div\", \"poem\")"
   ]
  },
  {
   "cell_type": "code",
   "execution_count": 133,
   "metadata": {
    "pycharm": {
     "is_executing": false,
     "name": "#%%\n"
    }
   },
   "outputs": [
    {
     "name": "stdout",
     "output_type": "stream",
     "text": [
      "<div class=\"poem\">\n",
      "<p> Tarde sucia de invierno. El caserío,   <br/>\n",
      " como si fuera un croquis al creyón,   <br/>\n",
      " se hunde en la noche. El humo de un bohío,   <br/>\n",
      " que sube en forma de tirabuzón;   <br/>\n",
      " <br/>\n",
      "<br/>\n",
      " mancha el paisaje que produce frío,  <br/>\n",
      " y debajo de la genuflexión   <br/>\n",
      " de la arboleda, somormuja el río   <br/>\n",
      " su canción, su somnífera canción.   <br/>\n",
      " <br/>\n",
      "<br/>\n",
      " Los labradores, camellón abajo,   <br/>\n",
      " retornan fatigosos del trabajo,  <br/>\n",
      " como un problema sin definición.   <br/>\n",
      " <br/>\n",
      "<br/>\n",
      " Y el dueño del terruño, indiferente,   <br/>\n",
      " rápidamente, muy rápidamente,   <br/>\n",
      " baja en su coche por el camellón.\n",
      "</p>\n",
      "</div>\n"
     ]
    }
   ],
   "source": [
    "print(poema_div)"
   ]
  },
  {
   "cell_type": "markdown",
   "metadata": {
    "pycharm": {
     "name": "#%% md\n"
    }
   },
   "source": [
    "No hemos llegado todavía al elemento que contiene el poema, que es en realidad un `<p>` bajo el `<div class='poem'>`. Una manera fácil de hacerlo es con el método `find()` de nuevo."
   ]
  },
  {
   "cell_type": "code",
   "execution_count": 134,
   "metadata": {
    "pycharm": {
     "is_executing": false,
     "name": "#%%\n"
    }
   },
   "outputs": [],
   "source": [
    "poema_ele = poema_div.find(\"p\")"
   ]
  },
  {
   "cell_type": "markdown",
   "metadata": {
    "pycharm": {
     "name": "#%% md\n"
    }
   },
   "source": [
    "Para obtener el texto, existe el método `get_text()`. Devuelve el texto como una cadena. A partir del resultado, lo vamos a dividir en versos usando un salto de línea y también vamos a eliminar espacios en blanco de los extremos de cada verso (como hicimos con OpenRefine).\n",
    "\n",
    "El método para elminiar espacios en blanco de los extremos de una cadena en Python es `strip()` (similar a `trim()` en OpenRefine). También hay `rstrip()` para quitar espacios sólo del final o `lstrip()` par quitar espacios sólo del principio.\n",
    "\n",
    "Usamos `strip()` dentro de un constructo llamado *comprensión de lista* o *list comprehension*. Como un bucle de tipo *for each* (visto en el capítulo), permite recorrer una secuencia usando una variable que sirve para iterar sobre la secuencia (`verso` en el ejemplo).\n",
    "\n",
    "Para escribir el resultado en un archivo, vamos a crear una cadena con `\"\\n\".join()`, que concatena los elementos de la lista `texto_versos_limpio` usando un salto de línea como separador. (La sintaxis es diferente a OpenRefine, donde se da como argumento el separador `.join(\"\\n\")` en vez de la lista a concatenar)."
   ]
  },
  {
   "cell_type": "code",
   "execution_count": 135,
   "metadata": {
    "pycharm": {
     "is_executing": false,
     "name": "#%%\n"
    }
   },
   "outputs": [],
   "source": [
    "texto_poema_bruto = poema_ele.get_text()\n",
    "#arbol.select(\"div[class=poem] > p\")\n",
    "texto_versos = texto_poema_bruto.split(\"\\n\")\n",
    "texto_versos_limpio = [verso.strip() for verso in texto_versos]\n",
    "texto_final = \"\\n\".join(texto_versos_limpio)"
   ]
  },
  {
   "cell_type": "code",
   "execution_count": 136,
   "metadata": {
    "pycharm": {
     "is_executing": false,
     "name": "#%%\n"
    }
   },
   "outputs": [
    {
     "name": "stdout",
     "output_type": "stream",
     "text": [
      "['Tarde sucia de invierno. El caserío,', 'como si fuera un croquis al creyón,', 'se hunde en la noche. El humo de un bohío,', 'que sube en forma de tirabuzón;', '', '', 'mancha el paisaje que produce frío,', 'y debajo de la genuflexión', 'de la arboleda, somormuja el río', 'su canción, su somnífera canción.', '', '', 'Los labradores, camellón abajo,', 'retornan fatigosos del trabajo,', 'como un problema sin definición.', '', '', 'Y el dueño del terruño, indiferente,', 'rápidamente, muy rápidamente,', 'baja en su coche por el camellón.', '']\n",
      "Tarde sucia de invierno. El caserío,\n",
      "como si fuera un croquis al creyón,\n",
      "se hunde en la noche. El humo de un bohío,\n",
      "que sube en forma de tirabuzón;\n",
      "\n",
      "\n",
      "mancha el paisaje que produce frío,\n",
      "y debajo de la genuflexión\n",
      "de la arboleda, somormuja el río\n",
      "su canción, su somnífera canción.\n",
      "\n",
      "\n",
      "Los labradores, camellón abajo,\n",
      "retornan fatigosos del trabajo,\n",
      "como un problema sin definición.\n",
      "\n",
      "\n",
      "Y el dueño del terruño, indiferente,\n",
      "rápidamente, muy rápidamente,\n",
      "baja en su coche por el camellón.\n",
      "\n"
     ]
    }
   ],
   "source": [
    "print(texto_versos_limpio)\n",
    "print(texto_final)"
   ]
  },
  {
   "cell_type": "markdown",
   "metadata": {
    "pycharm": {
     "name": "#%% md\n"
    }
   },
   "source": [
    "Nota: Habría una manera compacta de conseguir el texto del poema, usando el método `select()`, cuyo argumento es un selector (una expresión para identificar un conjunto de nodos en un árbol HTML) que identifica los elementos `<p>` que son un hijo directo de un elemento `<div class=\"poem\">`, gracias al operador `>` que significa *hijo directo*:  "
   ]
  },
  {
   "cell_type": "markdown",
   "metadata": {
    "pycharm": {
     "is_executing": false,
     "name": "#%% md\n"
    }
   },
   "source": [
    "```python\n",
    "arbol.select(\"div[class=poem] > p\")[0].get_text()\n",
    "```"
   ]
  },
  {
   "cell_type": "markdown",
   "metadata": {},
   "source": [
    "<a name=\"salida-archivo\"></a>\n",
    "### Escribir la información extraída en archivos de salida\n",
    "\n",
    "Vamos a escribir el poema y sus metadatos en un archivo de salida.\n",
    "\n",
    "Una opción útil es crear un archivo delimitado (CSV, TSV, o de tipo hoja de cálculo). Para esto, se puede usar la biblioteca pandas.\n",
    "\n",
    "Crearemos una estructura de datos llamada dataframe, con las etapas siguientes:\n",
    "\n",
    "- El formato a utilizar se ve en la variable `datos`. Se declaran los nombres de las columnas, y, para cada columna, una lista con sus valores (ya hemos visto que los corchetes se suelen usar para representar listas entre otros usos).\n",
    "- Una vez que los datos están listos, el método `DataFrame` de la biblioteca pandas crea el objeto, con lo que `pd.DataFrame(datos)` crea la dataframe, que se ha asignado a una variable con nombre `df`."
   ]
  },
  {
   "cell_type": "code",
   "execution_count": 137,
   "metadata": {
    "pycharm": {
     "is_executing": false,
     "name": "#%%\n"
    }
   },
   "outputs": [],
   "source": [
    "import pandas as pd\n",
    "\n",
    "datos = {\"autora\": [autora],\n",
    "         \"titulo\": [titulo],\n",
    "         \"textoPoema\": [texto_final]} \n",
    "\n",
    "df = pd.DataFrame(datos)"
   ]
  },
  {
   "cell_type": "code",
   "execution_count": 138,
   "metadata": {
    "pycharm": {
     "is_executing": false,
     "name": "#%%\n"
    }
   },
   "outputs": [
    {
     "data": {
      "text/html": [
       "<div>\n",
       "<style scoped>\n",
       "    .dataframe tbody tr th:only-of-type {\n",
       "        vertical-align: middle;\n",
       "    }\n",
       "\n",
       "    .dataframe tbody tr th {\n",
       "        vertical-align: top;\n",
       "    }\n",
       "\n",
       "    .dataframe thead th {\n",
       "        text-align: right;\n",
       "    }\n",
       "</style>\n",
       "<table border=\"1\" class=\"dataframe\">\n",
       "  <thead>\n",
       "    <tr style=\"text-align: right;\">\n",
       "      <th></th>\n",
       "      <th>autora</th>\n",
       "      <th>titulo</th>\n",
       "      <th>textoPoema</th>\n",
       "    </tr>\n",
       "  </thead>\n",
       "  <tbody>\n",
       "    <tr>\n",
       "      <th>0</th>\n",
       "      <td>Delmira Agustini</td>\n",
       "      <td>Una viñeta</td>\n",
       "      <td>Tarde sucia de invierno. El caserío,\\ncomo si ...</td>\n",
       "    </tr>\n",
       "  </tbody>\n",
       "</table>\n",
       "</div>"
      ],
      "text/plain": [
       "             autora      titulo  \\\n",
       "0  Delmira Agustini  Una viñeta   \n",
       "\n",
       "                                          textoPoema  \n",
       "0  Tarde sucia de invierno. El caserío,\\ncomo si ...  "
      ]
     },
     "execution_count": 138,
     "metadata": {},
     "output_type": "execute_result"
    }
   ],
   "source": [
    "df"
   ]
  },
  {
   "cell_type": "markdown",
   "metadata": {
    "pycharm": {
     "name": "#%% md\n"
    }
   },
   "source": [
    "Vamos a escribir los resultados en archivos de salida con distintos formatos, aprovechando las posibilidades de pandas.\n",
    "\n",
    "Para crear las rutas (la localización en el disco de cada archivo) usamos el módulo `pathlib`. \n",
    "\n",
    "- Se obtiene el directorio donde reside este notebook con `pathlib.Path.cwd()`\n",
    "- A partir de ahí, se crea el resto de la ruta con `.joinpath()`. Cada etapa de la ruta (cada directorio y el archivo final) se da como argumento  "
   ]
  },
  {
   "cell_type": "code",
   "execution_count": 139,
   "metadata": {
    "pycharm": {
     "is_executing": false,
     "name": "#%%\n"
    }
   },
   "outputs": [],
   "source": [
    "import pathlib\n",
    "\n",
    "directorio_actual = pathlib.Path.cwd()\n",
    "dir_resultados = directorio_actual.joinpath(\"resultados\", \"desde-html\")\n",
    "nombre_fichero = \"agustini_poema\"\n",
    "salida_csv = dir_resultados.joinpath(nombre_fichero + \".csv\")\n",
    "salida_tsv = dir_resultados.joinpath(nombre_fichero + \".tsv\")\n",
    "salida_excel = dir_resultados.joinpath(nombre_fichero + \".xlsx\")"
   ]
  },
  {
   "cell_type": "markdown",
   "metadata": {
    "pycharm": {
     "name": "#%% md\n"
    }
   },
   "source": [
    "Con las instrucciones anteriores hemos creado una representación de las rutas de los archivos de salida, pero no los archivos en sí, ni tampoco los directorios (*resultados*, *desde-html*).\n",
    "\n",
    "Si los directorios no existen, los podemos crear con `.mkdir(parents=True)` (si ya existen, esta instrucción dará un error). La opción `parents=True` crea también directorios intermedios en caso de que parte de la ruta no exista.\n",
    "\n",
    "Para no ejecutar la instrucción, dejar la celda sin ejecutar o comentar la instrucción prefijando el signo `#`, con lo que será ignorada."
   ]
  },
  {
   "cell_type": "code",
   "execution_count": 140,
   "metadata": {
    "pycharm": {
     "is_executing": false,
     "name": "#%%\n"
    }
   },
   "outputs": [],
   "source": [
    "#dir_resultados.mkdir(parents=True)"
   ]
  },
  {
   "cell_type": "markdown",
   "metadata": {
    "pycharm": {
     "name": "#%% md\n"
    }
   },
   "source": [
    "Para escribir el contenido de las dataframes a los archivos, usamos métodos disponibles desde el objeto dataframe, que aquí se ha llamado `df` (es un nombre habitual).\n",
    "- El método `to_csv()` escribe archivos delimitados por comas, a no ser que se le dé el argumento `sep=\"\\t\"` en cuyo caso utilizará tabulaciones como delimitador (lo que se llama a veces archivo TSV en vez de CSV). Tanto los CSV como los TSV se pueden abrir fácilmente con LibreOffice Calc o con Excel\n",
    "- El método `to_excel()` crea archivos en formato XLSX (Excel)\n",
    "- La opción `index=False` se usa ya que de lo contrario, pandas añade una primera columna con el número de fila, lo cual no es informativo para lo que estamos haciendo\n"
   ]
  },
  {
   "cell_type": "code",
   "execution_count": 141,
   "metadata": {
    "pycharm": {
     "is_executing": false,
     "name": "#%%\n"
    }
   },
   "outputs": [],
   "source": [
    "df.to_csv(salida_csv, index=False)\n",
    "df.to_csv(salida_tsv, sep=\"\\t\", index=False)\n",
    "df.to_excel(salida_excel, index=False)"
   ]
  },
  {
   "cell_type": "markdown",
   "metadata": {
    "pycharm": {
     "name": "#%% md\n"
    }
   },
   "source": [
    "Al abrir los resultados con una hoja de cálculo (en este caso LibreOffice Calc), se ven así:\n",
    "\n",
    "|tsv|xlsx|\n",
    "| :---: | :---: |\n",
    "|![imagen](./img/02_html_01_tsv.png)|![imagen](./img/02_html_02_excel.png)|\n",
    "\n",
    "\n",
    "<a name=\"extraccion-poema-multiple\"></a>\n",
    "# Extracción de múltiples poemas a partir de una lista de URLs\n",
    "\n",
    "Usamos el mismo ejemplo que en el capítulo, los poemas de Alfonsina Storni en Wikisource: [https://es.wikisource.org/wiki/Autor:Alfonsina_Storni](https://es.wikisource.org/wiki/Autor:Alfonsina_Storni)\n",
    "\n",
    "Usaremos las mismas bibliotecas que en el ejemplo anterior sobre la [extracción de un poema individual](#extraccion-poema-indiv), y si no se han importado antes, habrá que importarlas."
   ]
  },
  {
   "cell_type": "code",
   "execution_count": 142,
   "metadata": {
    "pycharm": {
     "is_executing": false,
     "name": "#%%\n"
    }
   },
   "outputs": [],
   "source": [
    "import requests\n",
    "from bs4 import BeautifulSoup\n",
    "import pandas as pd"
   ]
  },
  {
   "cell_type": "markdown",
   "metadata": {
    "pycharm": {
     "name": "#%% md\n"
    }
   },
   "source": [
    "<a name=\"crear-lista-urls\"></a>\n",
    "## Crear la lista de URLs\n",
    "\n",
    "Crearemos primero una lista con los enlaces a los poemas.\n",
    "\n",
    "Como se vio en el capítulo y como muestra la imagen siguiente, nos interesan los elementos `<a>` que son descendientes de elementos `<ul>`, si bien no todos los `<ul>` de la página nos interesan, ya que el primero (*Obras*) no contiene enlaces a poemas individuales.\n",
    "\n",
    "![img](./img/02_html_03_firefox-dev-tools-ul-a.png)"
   ]
  },
  {
   "cell_type": "code",
   "execution_count": 143,
   "metadata": {
    "pycharm": {
     "is_executing": false,
     "name": "#%%\n"
    }
   },
   "outputs": [],
   "source": [
    "url_inicial = \"https://es.wikisource.org/wiki/Autor:Alfonsina_Storni\"\n",
    "respuesta = requests.get(url_inicial)\n",
    "html_inicial = respuesta.text"
   ]
  },
  {
   "cell_type": "markdown",
   "metadata": {},
   "source": [
    "Creamos un árbol con el contenido y extraemos los enlaces deseados, con BeautifulSoup. Podríamos hacerlo de forma más compacta (con menos líneas de código), pero usando instrucciones simples, se pueden seguir la siguientes etapas:\n",
    "\n",
    "1. Se crea el árbol a partir de la cadena de texto que expresa el HTML bajado para la página, este árbol se asigna a la variable `arbol` (aunque, como para toda variable, cualquier otro nombre de variable válido en python sería posible)\n",
    "1. Se declara una lista llamada `enlaces`, donde guardaremos los enlaces\n",
    "1. Ya que los enlaces que nos interesan están dentro de listas no ordenadas (elementos `<ul>`), recuperamos todos los elementos `<ul>` de la página con `find_all(\"ul\")`. De modo más exacto, no queremos todas los elementos `<ul>`, sino que queremos ignorar el primero. Por eso seleccionamos los miembros desde el segundo, con `[1:]` (el primer elemento lleva el índice 0, así que para seleccionar desde el segundo, se empieza por el índice 1. Para seleccionar hasta el final, en las listas de Python se puede usar `:`). Una vez seleccionados desde el segundo hasta el último `<ul>`, se asigna el resultado a la variable `elems_ul`.   \n",
    "1. Un bucle recorre la lista `elems_ul`, usando `elem` como iterador para recorrerla. Es decir, el valor de `elem` corresponderá iterativamente a cada elemento de la lista, hasta terminar de recorrerla. Para cada elemento de la lista, buscamos todos los enlaces que este contiene, con `find_all(\"a\")`. Como sabemos, `find_all()` devuelve una lista. Como vimos en el punto (2), tenemos ya una variable de tipo lista preparada para guardar los enlaces, se trata de la variable `enlaces`. Podríamos guardar el resultado de `find_all()` en esta lista, pero esto nos crearía listas anidadas (listas dentro de listas). Esto añade una complejidad que no es necesaria. Lo que vamos a hacer es añadir los miembros del resultado de `find_all()` directamente a `enlaces`. No la lista resultante, sino sus miembros. Para añadir a una lista A los miembros de otra lista B, la instrucción es `A.extend(B)`. Por eso usamos `enlaces.extend(elem.find_all(\"a\")` dentro del bucle. "
   ]
  },
  {
   "cell_type": "code",
   "execution_count": 144,
   "metadata": {
    "pycharm": {
     "is_executing": false,
     "name": "#%%\n"
    }
   },
   "outputs": [],
   "source": [
    "arbol = BeautifulSoup(html_inicial)\n",
    "enlaces = []\n",
    "elems_ul = arbol.find_all(\"ul\")[1:]\n",
    "for elem in elems_ul:\n",
    "    enlaces.extend(elem.find_all(\"a\"))"
   ]
  },
  {
   "cell_type": "code",
   "execution_count": 145,
   "metadata": {
    "scrolled": true
   },
   "outputs": [
    {
     "data": {
      "text/plain": [
       "[<a href=\"/wiki/Agrio_est%C3%A1_el_mundo\" title=\"Agrio está el mundo\">Agrio está el mundo</a>,\n",
       " <a href=\"/wiki/Alma_desnuda\" title=\"Alma desnuda\">Alma desnuda</a>,\n",
       " <a href=\"/wiki/As%C3%AD\" title=\"Así\">Así</a>,\n",
       " <a href=\"/wiki/Aspecto\" title=\"Aspecto\">Aspecto</a>,\n",
       " <a href=\"/wiki/Buenos_Aires_(Storni)\" title=\"Buenos Aires (Storni)\">Buenos Aires</a>,\n",
       " <a href=\"/wiki/Calle\" title=\"Calle\">Calle</a>,\n",
       " <a href=\"/wiki/Carta_l%C3%ADrica_a_otra_mujer\" title=\"Carta lírica a otra mujer\">Carta lírica a otra mujer</a>,\n",
       " <a href=\"/wiki/Contra_voz\" title=\"Contra voz\">Contra voz</a>,\n",
       " <a href=\"/wiki/Date_a_volar\" title=\"Date a volar\">Date a volar</a>,\n",
       " <a href=\"/wiki/Dolor_(Storni)\" title=\"Dolor (Storni)\">Dolor</a>,\n",
       " <a href=\"/wiki/Dos_palabras\" title=\"Dos palabras\">Dos palabras</a>,\n",
       " <a href=\"/wiki/Dulce_tortura\" title=\"Dulce tortura\">Dulce tortura</a>,\n",
       " <a href=\"/wiki/El_canal\" title=\"El canal\">El canal</a>,\n",
       " <a href=\"/wiki/El_cisne_enfermo\" title=\"El cisne enfermo\">El cisne enfermo</a>,\n",
       " <a href=\"/wiki/El_divino_amor\" title=\"El divino amor\">El divino amor</a>,\n",
       " <a href=\"/wiki/El_hijo_de_un_avaro\" title=\"El hijo de un avaro\">El hijo de un avaro</a>,\n",
       " <a href=\"/wiki/El_parque\" title=\"El parque\">El parque</a>,\n",
       " <a href=\"/wiki/El_racimo_inocente\" title=\"El racimo inocente\">El racimo inocente</a>,\n",
       " <a class=\"mw-disambig\" href=\"/wiki/El_silencio\" title=\"El silencio\">El silencio</a>,\n",
       " <a href=\"/wiki/El_sue%C3%B1o_(Storni)\" title=\"El sueño (Storni)\">El sueño</a>,\n",
       " <a href=\"/wiki/Esta_tarde\" title=\"Esta tarde\">Esta tarde</a>,\n",
       " <a href=\"/wiki/Este_libro\" title=\"Este libro\">Este libro</a>,\n",
       " <a href=\"/wiki/Frase\" title=\"Frase\">Frase</a>,\n",
       " <a href=\"/wiki/Frente_al_mar\" title=\"Frente al mar\">Frente al mar</a>,\n",
       " <a href=\"/wiki/La_inquietud_del_rosal\" title=\"La inquietud del rosal\">La inquietud del rosal</a>,\n",
       " <a href=\"/wiki/La_mirada_(Storni)\" title=\"La mirada (Storni)\">La mirada</a>,\n",
       " <a href=\"/wiki/La_que_comprende\" title=\"La que comprende\">La que comprende</a>,\n",
       " <a href=\"/wiki/Llama\" title=\"Llama\">Llama</a>,\n",
       " <a href=\"/wiki/Ma%C3%B1ana_gris\" title=\"Mañana gris\">Mañana gris</a>,\n",
       " <a href=\"/wiki/Melancol%C3%ADa_(Storni)\" title=\"Melancolía (Storni)\">Melancolía</a>,\n",
       " <a href=\"/wiki/Mi_hermana\" title=\"Mi hermana\">Mi hermana</a>,\n",
       " <a href=\"/wiki/Mundo_de_siete_pozos_(poema)\" title=\"Mundo de siete pozos (poema)\">Mundo de siete pozos</a>,\n",
       " <a href=\"/wiki/Naturaleza_m%C3%ADa\" title=\"Naturaleza mía\">Naturaleza mía</a>,\n",
       " <a href=\"/wiki/Odio\" title=\"Odio\">Odio</a>,\n",
       " <a href=\"/wiki/Plaza_en_invierno\" title=\"Plaza en invierno\">Plaza en invierno</a>,\n",
       " <a href=\"/wiki/Par%C3%A1sitos\" title=\"Parásitos\">Parásitos</a>,\n",
       " <a href=\"/wiki/Paz\" title=\"Paz\">Paz</a>,\n",
       " <a href=\"/wiki/Peso_ancestral\" title=\"Peso ancestral\">Peso ancestral</a>,\n",
       " <a href=\"/wiki/Piedra_miserable\" title=\"Piedra miserable\">Piedra miserable</a>,\n",
       " <a href=\"/wiki/Presentimiento_(Storni)\" title=\"Presentimiento (Storni)\">Presentimiento</a>,\n",
       " <a href=\"/wiki/Queja\" title=\"Queja\">Queja</a>,\n",
       " <a href=\"/wiki/Regreso_en_sue%C3%B1os\" title=\"Regreso en sueños\">Regreso en sueños</a>,\n",
       " <a href=\"/wiki/S%C3%A1bado\" title=\"Sábado\">Sábado</a>,\n",
       " <a href=\"/wiki/Sab%C3%A9is_algo\" title=\"Sabéis algo\">Sabéis algo</a>,\n",
       " <a href=\"/wiki/Siesta_(Storni)\" title=\"Siesta (Storni)\">Siesta</a>,\n",
       " <a href=\"/wiki/Siete_vidas\" title=\"Siete vidas\">Siete vidas</a>,\n",
       " <a href=\"/wiki/Soy_esa_flor\" title=\"Soy esa flor\">Soy esa flor</a>,\n",
       " <a href=\"/wiki/Tu_me_quieres_blanca\" title=\"Tu me quieres blanca\">Tu me quieres blanca</a>,\n",
       " <a href=\"/wiki/Un_cementerio_que_mira_al_mar\" title=\"Un cementerio que mira al mar\">Un cementerio que mira al mar</a>,\n",
       " <a href=\"/wiki/Un_d%C3%ADa\" title=\"Un día\">Un día</a>,\n",
       " <a href=\"/wiki/Un_sol\" title=\"Un sol\">Un sol</a>,\n",
       " <a href=\"/wiki/Voluntad\" title=\"Voluntad\">Voluntad</a>,\n",
       " <a href=\"/wiki/Voz\" title=\"Voz\">Voz</a>,\n",
       " <a href=\"/wiki/Y_t%C3%BA\" title=\"Y tú\">Y tú</a>,\n",
       " <a href=\"/wiki/A_Eros\" title=\"A Eros\">A Eros</a>,\n",
       " <a href=\"/wiki/A_Madona\" title=\"A Madona\">A Madona</a>,\n",
       " <a href=\"/wiki/Amor_(Storni)\" title=\"Amor (Storni)\">Amor</a>,\n",
       " <a href=\"/wiki/Canci%C3%B3n_de_la_mujer_astuta\" title=\"Canción de la mujer astuta\">Canción de la mujer astuta</a>,\n",
       " <a href=\"/wiki/Cara_copiada\" title=\"Cara copiada\">Cara copiada</a>,\n",
       " <a href=\"/wiki/Duerme_tranquilo\" title=\"Duerme tranquilo\">Duerme tranquilo</a>,\n",
       " <a href=\"/wiki/El_hijo_(Storni)\" title=\"El hijo (Storni)\">El hijo</a>,\n",
       " <a href=\"/wiki/El_hombre_(Storni)\" title=\"El hombre (Storni)\">El hombre</a>,\n",
       " <a href=\"/wiki/El_sue%C3%B1o_2_(Storni)\" title=\"El sueño 2 (Storni)\">El sueño</a>,\n",
       " <a href=\"/wiki/Encuentro_(Storni)\" title=\"Encuentro (Storni)\">Encuentro</a>,\n",
       " <a href=\"/wiki/Fiesta\" title=\"Fiesta\">Fiesta</a>,\n",
       " <a href=\"/wiki/Humildad_(Storni)\" title=\"Humildad (Storni)\">Humildad</a>,\n",
       " <a href=\"/wiki/La_v%C3%ADa_lactea\" title=\"La vía lactea\">La vía lactea</a>,\n",
       " <a href=\"/wiki/Noche_divina\" title=\"Noche divina\">Noche divina</a>,\n",
       " <a href=\"/wiki/Olvido\" title=\"Olvido\">Olvido</a>,\n",
       " <a href=\"/wiki/Palabras_a_mi_madre\" title=\"Palabras a mi madre\">Palabras a mi madre</a>,\n",
       " <a href=\"/wiki/Pasi%C3%B3n_(Storni)\" title=\"Pasión (Storni)\">Pasión</a>,\n",
       " <a href=\"/wiki/Pudiera_ser\" title=\"Pudiera ser\">Pudiera ser</a>,\n",
       " <a href=\"/wiki/Ruego_a_Prometeo\" title=\"Ruego a Prometeo\">Ruego a Prometeo</a>,\n",
       " <a href=\"/wiki/Soy\" title=\"Soy\">Soy</a>,\n",
       " <a href=\"/wiki/Sugesti%C3%B3n_de_una_cuna_vac%C3%ADa\" title=\"Sugestión de una cuna vacía\">Sugestión de una cuna vacía</a>,\n",
       " <a class=\"mw-disambig\" href=\"/wiki/Una_mirada\" title=\"Una mirada\">Una mirada</a>,\n",
       " <a href=\"/wiki/Vida\" title=\"Vida\">Vida</a>,\n",
       " <a href=\"/wiki/Voy_a_dormir\" title=\"Voy a dormir\">Voy a dormir</a>,\n",
       " <a class=\"mw-redirect\" href=\"/wiki/Delfina_Bunge\" title=\"Delfina Bunge\">Delfina Bunge</a>,\n",
       " <a href=\"/wiki/Categor%C3%ADa:DP-Autores-80\" title=\"Categoría:DP-Autores-80\">DP-Autores-80</a>,\n",
       " <a href=\"/wiki/Categor%C3%ADa:N1892\" title=\"Categoría:N1892\">N1892</a>,\n",
       " <a href=\"/wiki/Categor%C3%ADa:F1938\" title=\"Categoría:F1938\">F1938</a>,\n",
       " <a href=\"/wiki/Categor%C3%ADa:Autores_del_Siglo_XX\" title=\"Categoría:Autores del Siglo XX\">Autores del Siglo XX</a>,\n",
       " <a href=\"/wiki/Categor%C3%ADa:Autores\" title=\"Categoría:Autores\">Autores</a>,\n",
       " <a href=\"/wiki/Categor%C3%ADa:Autores_argentinos\" title=\"Categoría:Autores argentinos\">Autores argentinos</a>,\n",
       " <a href=\"/wiki/Categor%C3%ADa:Autores-S\" title=\"Categoría:Autores-S\">Autores-S</a>,\n",
       " <a href=\"/wiki/Categor%C3%ADa:Autores/20%2B\" title=\"Categoría:Autores/20+\">Autores/20+</a>,\n",
       " <a accesskey=\"n\" href=\"/wiki/Especial:MiDiscusi%C3%B3n\" title=\"Discusión sobre ediciones hechas desde esta dirección IP [n]\"><span>Discusión</span></a>,\n",
       " <a accesskey=\"y\" href=\"/wiki/Especial:MisContribuciones\" title=\"Una lista de modificaciones hechas desde esta dirección IP [y]\"><span>Contribuciones</span></a>,\n",
       " <a href=\"/w/index.php?title=Especial:Crear_una_cuenta&amp;returnto=Autor%3AAlfonsina+Storni\" title=\"Te recomendamos crear una cuenta e iniciar sesión; sin embargo, no es obligatorio\"><span>Crear una cuenta</span></a>,\n",
       " <a accesskey=\"o\" href=\"/w/index.php?title=Especial:Entrar&amp;returnto=Autor%3AAlfonsina+Storni\" title=\"Te recomendamos iniciar sesión, aunque no es obligatorio [o]\"><span>Acceder</span></a>,\n",
       " <a href=\"/wiki/Autor:Alfonsina_Storni\"><span>Autor</span></a>,\n",
       " <a accesskey=\"t\" href=\"/w/index.php?title=Autor_discusi%C3%B3n:Alfonsina_Storni&amp;action=edit&amp;redlink=1\" rel=\"discussion\" title=\"Discusión acerca de la página (la página no existe) [t]\"><span>Discusión</span></a>,\n",
       " <a href=\"/wiki/Autor:Alfonsina_Storni\"><span>Leer</span></a>,\n",
       " <a accesskey=\"e\" href=\"/w/index.php?title=Autor:Alfonsina_Storni&amp;action=edit\" title=\"Editar esta página [e]\"><span>Editar</span></a>,\n",
       " <a accesskey=\"h\" href=\"/w/index.php?title=Autor:Alfonsina_Storni&amp;action=history\" title=\"Versiones anteriores de esta página [h]\"><span>Ver historial</span></a>,\n",
       " <a accesskey=\"z\" href=\"/wiki/Portada\" title=\"Visitar la página principal [z]\"><span>Portada</span></a>,\n",
       " <a href=\"/wiki/Wikisource:Portal_de_la_comunidad\" title=\"Acerca del proyecto, lo que puedes hacer, dónde encontrar información\"><span>Portal de la comunidad</span></a>,\n",
       " <a href=\"/wiki/Wikisource:Caf%C3%A9\" title=\"Encuentra información de contexto sobre acontecimientos actuales\"><span>Café</span></a>,\n",
       " <a accesskey=\"r\" href=\"/wiki/Especial:CambiosRecientes\" title=\"Lista de cambios recientes en la wiki [r]\"><span>Cambios recientes</span></a>,\n",
       " <a href=\"/wiki/Especial:RandomRootpage/Main\"><span>Obra aleatoria</span></a>,\n",
       " <a href=\"/wiki/Especial:RandomRootpage/%C3%8Dndice\"><span>Libro aleatorio</span></a>,\n",
       " <a href=\"https://es.wikisource.org/wiki/Wikisource:Ayuda\" title=\"El lugar para aprender\"><span>Ayuda</span></a>,\n",
       " <a href=\"//donate.wikimedia.org/wiki/Special:FundraiserRedirector?utm_source=donate&amp;utm_medium=sidebar&amp;utm_campaign=C13_es.wikisource.org&amp;uselang=es\" title=\"Apóyanos\"><span>Donaciones</span></a>,\n",
       " <a accesskey=\"j\" href=\"/wiki/Especial:LoQueEnlazaAqu%C3%AD/Autor:Alfonsina_Storni\" title=\"Lista de todas las páginas de la wiki que enlazan aquí [j]\"><span>Lo que enlaza aquí</span></a>,\n",
       " <a accesskey=\"k\" href=\"/wiki/Especial:CambiosEnEnlazadas/Autor:Alfonsina_Storni\" rel=\"nofollow\" title=\"Cambios recientes en las páginas que enlazan con esta [k]\"><span>Cambios relacionados</span></a>,\n",
       " <a accesskey=\"u\" href=\"//commons.wikimedia.org/wiki/Special:UploadWizard?uselang=es\" title=\"Subir archivos [u]\"><span>Subir archivo</span></a>,\n",
       " <a accesskey=\"q\" href=\"/wiki/Especial:P%C3%A1ginasEspeciales\" title=\"Lista de todas las páginas especiales [q]\"><span>Páginas especiales</span></a>,\n",
       " <a href=\"/w/index.php?title=Autor:Alfonsina_Storni&amp;oldid=1213367\" title=\"Enlace permanente a esta versión de la página\"><span>Enlace permanente</span></a>,\n",
       " <a href=\"/w/index.php?title=Autor:Alfonsina_Storni&amp;action=info\" title=\"Más información sobre esta página\"><span>Información de la página</span></a>,\n",
       " <a accesskey=\"g\" href=\"https://www.wikidata.org/wiki/Special:EntityPage/Q238557\" title=\"Enlace al elemento conectado del repositorio de datos [g]\"><span>Elemento de Wikidata</span></a>,\n",
       " <a href=\"/w/index.php?title=Especial:Libro&amp;bookcmd=book_creator&amp;referer=Autor%3AAlfonsina+Storni\"><span>Crear un libro</span></a>,\n",
       " <a href=\"/w/index.php?title=Especial:DownloadAsPdf&amp;page=Autor%3AAlfonsina_Storni&amp;action=show-download-screen\"><span>Descargar como PDF</span></a>,\n",
       " <a accesskey=\"p\" href=\"/w/index.php?title=Autor:Alfonsina_Storni&amp;printable=yes\" title=\"Versión imprimible de esta página [p]\"><span>Versión para imprimir</span></a>,\n",
       " <a href=\"https://commons.wikimedia.org/wiki/Category:Alfonsina_Storni\" hreflang=\"en\"><span>Wikimedia Commons</span></a>,\n",
       " <a href=\"https://es.wikipedia.org/wiki/Alfonsina_Storni\" hreflang=\"es\"><span>Wikipedia</span></a>,\n",
       " <a href=\"https://es.wikiquote.org/wiki/Alfonsina_Storni\" hreflang=\"es\"><span>Wikiquote</span></a>,\n",
       " <a href=\"https://creativecommons.org/licenses/by-sa/3.0/deed.es\">Licencia Creative Commons Atribución-CompartirIgual 3.0</a>,\n",
       " <a href=\"https://foundation.wikimedia.org/wiki/Terms_of_Use/es\">Términos de uso</a>,\n",
       " <a href=\"https://meta.wikimedia.org/wiki/Privacy_policy/es\">Política de privacidad</a>,\n",
       " <a href=\"/wiki/Wikisource:Acerca_de\">Acerca de Wikisource</a>,\n",
       " <a href=\"/wiki/Wikisource:Limitaci%C3%B3n_general_de_responsabilidad\">Aviso legal</a>,\n",
       " <a class=\"noprint stopMobileRedirectToggle\" href=\"//es.m.wikisource.org/w/index.php?title=Autor:Alfonsina_Storni&amp;mobileaction=toggle_view_mobile\">Versión para móviles</a>,\n",
       " <a href=\"https://developer.wikimedia.org\">Desarrolladores</a>,\n",
       " <a href=\"https://stats.wikimedia.org/#/es.wikisource.org\">Estadísticas</a>,\n",
       " <a href=\"https://foundation.wikimedia.org/wiki/Cookie_statement/es\">Declaración de cookies</a>,\n",
       " <a href=\"https://wikimediafoundation.org/\"><img alt=\"Wikimedia Foundation\" height=\"31\" loading=\"lazy\" src=\"/static/images/footer/wikimedia-button.png\" srcset=\"/static/images/footer/wikimedia-button-1.5x.png 1.5x, /static/images/footer/wikimedia-button-2x.png 2x\" width=\"88\"/></a>,\n",
       " <a href=\"https://www.mediawiki.org/\"><img alt=\"Powered by MediaWiki\" height=\"31\" loading=\"lazy\" src=\"/static/images/footer/poweredby_mediawiki_88x31.png\" srcset=\"/static/images/footer/poweredby_mediawiki_132x47.png 1.5x, /static/images/footer/poweredby_mediawiki_176x62.png 2x\" width=\"88\"/></a>]"
      ]
     },
     "execution_count": 145,
     "metadata": {},
     "output_type": "execute_result"
    }
   ],
   "source": [
    "enlaces"
   ]
  },
  {
   "cell_type": "markdown",
   "metadata": {},
   "source": [
    "Como vimos en el capítulo, algunos enlaces no se refieren a poemas. Vimos que se refieren a poemas los enlaces que cumplen tres condiciones:\n",
    "\n",
    "1. contienen la expresión \"/wiki/\"\n",
    "1. o bien no llevan atributo `class`, o bien, si lo llevan, su valor no es *mw-redirect*\n",
    "1. su URL (en el atributo `href` del elemento `<a>` para el enlace) no corresponde a la expresión regular `:|Portada` (no puede contenir ni el signo dos puntos ni la palabra *Portada*; el operador `|` en la expresión significa una alternancia)\n",
    "\n",
    "Ya que vamos a utilizar expresiones regulares o regex, debemos importar el módulo que permite usarlas en Python, llamado `re` (iniciales de *Regular Expression*), con `import re`.\n",
    "\n",
    "El resto del código siguiente recorre la lista `enlaces` con un bucle `for`, usando un iterador para el que se ha elegido el nombre `enlace`, y verifica cada uno de los elementos `<a>` que esta contiene. Si el elemento cumple las condiciones, se guarda en otra lista declarada antes del bucle, llamada `enlaces_limpios`. El bucle sigue los pasos siguientes:\n",
    "\n",
    "1. El atributo `href` de cada miembro de la lista inicial se asigna a la variable `enlace_url`. Para obtener el valor de un atributo (aquí, el atributo `href` de `enlace`), la sintaxis es `enlace[\"href\"]` (también se puede usar la sintaxis `enlace.attrs[\"href\"]`)\n",
    "1. Varios tests (estructura `if ... elif ... else`) verifican las condiciones deseadas, siguiendo la sintaxis que se ve en el ejemplo.\n",
    "  1. El primer test es `if \"/wiki/\" not in enlace_url`. Si la cadena no se encuentra en el `href` del elemento (asignado a `enlace_url`), el bucle pasa al elemento siguiente, con `continue`, sin mirar el resto de condiciones\n",
    "  1. El segundo test es `elif \"class\" in enlace.attrs and enlace[\"class\"][0] == \"mw-redirect\"`. Esto mira primero si `class` forma parte de los atributos del elemento, y, en ese caso, comprueba si el valor de `class` es *mw-redirect*. Los atributos se dan en una lista, por eso debemos hacer `[0]` en `enlace[\"class\"][0]`. En caso afirmativo, debemos ignorar el elemento, con lo que `continue` hace que elpasa al siguiente elemento de la lista `enlaces`, sin mirar siquiera el resto de tests\n",
    "  1. El tercer test verifica si el `href` corresponde a la expresión regular `:|Portada`, que describe los links que queremos evitar, con el método `search` del módulo `re`: `re.search(r\":|Portada\", enlace_url)`. Como se ve, la sintaxis consiste a pasar como primer argumento la expresión regular, entre comillas y precedida de `r`, y como segundo argumento la cadena de texto en la que hay que buscar la expresión, en este caso `enlace_url`. Si el texto del link corresponde a la regex, el bucle pasa al siguiente elemento, con `continue`\n",
    "1. Después de hacer los tests, para cada elemento el bucle llega a la parte `else`. Si el bucle llega hasta aquí para un elemento, quiere decir que el elemento cumple las condiciones de los links que queremos guardar. Por esta razón, añadimos este link a la lista `enlaces_limpios` con la instrucción `append()` que sirve para añadir un miembro a una lista, sin olvidar prefijar la cadena https://es.wikisource.org que forma parte del link necesario para bajar los poemas, pero que estaba omitida en los atributos `href`"
   ]
  },
  {
   "cell_type": "code",
   "execution_count": 146,
   "metadata": {
    "pycharm": {
     "is_executing": false,
     "name": "#%%\n"
    }
   },
   "outputs": [],
   "source": [
    "import re\n",
    "\n",
    "enlaces_limpios = []\n",
    "\n",
    "for enlace in enlaces:\n",
    "    enlace_url = enlace[\"href\"]\n",
    "    if \"/wiki/\" not in enlace_url:\n",
    "        continue\n",
    "    elif \"class\" in enlace.attrs and enlace[\"class\"][0] == \"mw-redirect\":\n",
    "        continue\n",
    "    elif re.search(r\":|Portada\", enlace_url):\n",
    "        continue\n",
    "    else:\n",
    "        enlaces_limpios.append(\"https://es.wikisource.org\" + enlace_url)"
   ]
  },
  {
   "cell_type": "markdown",
   "metadata": {},
   "source": [
    "Podemos comprobar que esta lista solo contiene links a poemas individuales:"
   ]
  },
  {
   "cell_type": "code",
   "execution_count": 147,
   "metadata": {
    "pycharm": {
     "is_executing": false,
     "name": "#%%\n"
    },
    "scrolled": true
   },
   "outputs": [
    {
     "data": {
      "text/plain": [
       "['https://es.wikisource.org/wiki/Agrio_est%C3%A1_el_mundo',\n",
       " 'https://es.wikisource.org/wiki/Alma_desnuda',\n",
       " 'https://es.wikisource.org/wiki/As%C3%AD',\n",
       " 'https://es.wikisource.org/wiki/Aspecto',\n",
       " 'https://es.wikisource.org/wiki/Buenos_Aires_(Storni)',\n",
       " 'https://es.wikisource.org/wiki/Calle',\n",
       " 'https://es.wikisource.org/wiki/Carta_l%C3%ADrica_a_otra_mujer',\n",
       " 'https://es.wikisource.org/wiki/Contra_voz',\n",
       " 'https://es.wikisource.org/wiki/Date_a_volar',\n",
       " 'https://es.wikisource.org/wiki/Dolor_(Storni)',\n",
       " 'https://es.wikisource.org/wiki/Dos_palabras',\n",
       " 'https://es.wikisource.org/wiki/Dulce_tortura',\n",
       " 'https://es.wikisource.org/wiki/El_canal',\n",
       " 'https://es.wikisource.org/wiki/El_cisne_enfermo',\n",
       " 'https://es.wikisource.org/wiki/El_divino_amor',\n",
       " 'https://es.wikisource.org/wiki/El_hijo_de_un_avaro',\n",
       " 'https://es.wikisource.org/wiki/El_parque',\n",
       " 'https://es.wikisource.org/wiki/El_racimo_inocente',\n",
       " 'https://es.wikisource.org/wiki/El_silencio',\n",
       " 'https://es.wikisource.org/wiki/El_sue%C3%B1o_(Storni)',\n",
       " 'https://es.wikisource.org/wiki/Esta_tarde',\n",
       " 'https://es.wikisource.org/wiki/Este_libro',\n",
       " 'https://es.wikisource.org/wiki/Frase',\n",
       " 'https://es.wikisource.org/wiki/Frente_al_mar',\n",
       " 'https://es.wikisource.org/wiki/La_inquietud_del_rosal',\n",
       " 'https://es.wikisource.org/wiki/La_mirada_(Storni)',\n",
       " 'https://es.wikisource.org/wiki/La_que_comprende',\n",
       " 'https://es.wikisource.org/wiki/Llama',\n",
       " 'https://es.wikisource.org/wiki/Ma%C3%B1ana_gris',\n",
       " 'https://es.wikisource.org/wiki/Melancol%C3%ADa_(Storni)',\n",
       " 'https://es.wikisource.org/wiki/Mi_hermana',\n",
       " 'https://es.wikisource.org/wiki/Mundo_de_siete_pozos_(poema)',\n",
       " 'https://es.wikisource.org/wiki/Naturaleza_m%C3%ADa',\n",
       " 'https://es.wikisource.org/wiki/Odio',\n",
       " 'https://es.wikisource.org/wiki/Plaza_en_invierno',\n",
       " 'https://es.wikisource.org/wiki/Par%C3%A1sitos',\n",
       " 'https://es.wikisource.org/wiki/Paz',\n",
       " 'https://es.wikisource.org/wiki/Peso_ancestral',\n",
       " 'https://es.wikisource.org/wiki/Piedra_miserable',\n",
       " 'https://es.wikisource.org/wiki/Presentimiento_(Storni)',\n",
       " 'https://es.wikisource.org/wiki/Queja',\n",
       " 'https://es.wikisource.org/wiki/Regreso_en_sue%C3%B1os',\n",
       " 'https://es.wikisource.org/wiki/S%C3%A1bado',\n",
       " 'https://es.wikisource.org/wiki/Sab%C3%A9is_algo',\n",
       " 'https://es.wikisource.org/wiki/Siesta_(Storni)',\n",
       " 'https://es.wikisource.org/wiki/Siete_vidas',\n",
       " 'https://es.wikisource.org/wiki/Soy_esa_flor',\n",
       " 'https://es.wikisource.org/wiki/Tu_me_quieres_blanca',\n",
       " 'https://es.wikisource.org/wiki/Un_cementerio_que_mira_al_mar',\n",
       " 'https://es.wikisource.org/wiki/Un_d%C3%ADa',\n",
       " 'https://es.wikisource.org/wiki/Un_sol',\n",
       " 'https://es.wikisource.org/wiki/Voluntad',\n",
       " 'https://es.wikisource.org/wiki/Voz',\n",
       " 'https://es.wikisource.org/wiki/Y_t%C3%BA',\n",
       " 'https://es.wikisource.org/wiki/A_Eros',\n",
       " 'https://es.wikisource.org/wiki/A_Madona',\n",
       " 'https://es.wikisource.org/wiki/Amor_(Storni)',\n",
       " 'https://es.wikisource.org/wiki/Canci%C3%B3n_de_la_mujer_astuta',\n",
       " 'https://es.wikisource.org/wiki/Cara_copiada',\n",
       " 'https://es.wikisource.org/wiki/Duerme_tranquilo',\n",
       " 'https://es.wikisource.org/wiki/El_hijo_(Storni)',\n",
       " 'https://es.wikisource.org/wiki/El_hombre_(Storni)',\n",
       " 'https://es.wikisource.org/wiki/El_sue%C3%B1o_2_(Storni)',\n",
       " 'https://es.wikisource.org/wiki/Encuentro_(Storni)',\n",
       " 'https://es.wikisource.org/wiki/Fiesta',\n",
       " 'https://es.wikisource.org/wiki/Humildad_(Storni)',\n",
       " 'https://es.wikisource.org/wiki/La_v%C3%ADa_lactea',\n",
       " 'https://es.wikisource.org/wiki/Noche_divina',\n",
       " 'https://es.wikisource.org/wiki/Olvido',\n",
       " 'https://es.wikisource.org/wiki/Palabras_a_mi_madre',\n",
       " 'https://es.wikisource.org/wiki/Pasi%C3%B3n_(Storni)',\n",
       " 'https://es.wikisource.org/wiki/Pudiera_ser',\n",
       " 'https://es.wikisource.org/wiki/Ruego_a_Prometeo',\n",
       " 'https://es.wikisource.org/wiki/Soy',\n",
       " 'https://es.wikisource.org/wiki/Sugesti%C3%B3n_de_una_cuna_vac%C3%ADa',\n",
       " 'https://es.wikisource.org/wiki/Una_mirada',\n",
       " 'https://es.wikisource.org/wiki/Vida',\n",
       " 'https://es.wikisource.org/wiki/Voy_a_dormir']"
      ]
     },
     "execution_count": 147,
     "metadata": {},
     "output_type": "execute_result"
    }
   ],
   "source": [
    "enlaces_limpios"
   ]
  },
  {
   "cell_type": "markdown",
   "metadata": {},
   "source": [
    "<a name=\"crear-lista-urls\"></a>\n",
    "## Bajar el contenido\n",
    "\n",
    "Vamos a bajar el contenido para cada uno de estos URLs. Etapas que se han seguido:\n",
    "\n",
    "1. Importamos la instrucción `sleep` del paquete `time`: Se usará para esperar un número de segundos entre petición y petición al servidor al bajar las páginas (similar a lo visto con la opción *Throttle delay* de la interfaz de OpenRefine.\n",
    "1. Creamos una lista donde guardaremos la cadena de texto que representa el HTML de la página de cada poema.\n",
    "1. En el bucle `for`, se obtiene con `requests` el HTML para cada página, recorriendo la lista de URLs en `enlaces_limpios` y haciendo una peticion del contenido para ese URL con `requests.get()`. La variable `enli` se usa como iterador para recorrer `enlaces_limpios`.\n",
    "  1. La propiedad `.text` del objeto que `requests` devuelve como respuesta a la petición contiene el HTML en forma de cadena de texto, que añadimos con `append()` a la lista `html_poemas`.\n",
    "  1. Se da un tiempo de espera entre cada petición (p. ej. 1.5 segundos)\n"
   ]
  },
  {
   "cell_type": "code",
   "execution_count": 148,
   "metadata": {
    "scrolled": false
   },
   "outputs": [],
   "source": [
    "from time import sleep\n",
    "\n",
    "html_poemas = []\n",
    "\n",
    "for enli in enlaces_limpios:\n",
    "    respuesta = requests.get(enli)\n",
    "    sleep(1.5)\n",
    "    html_poema = respuesta.text\n",
    "    html_poemas.append(html_poema)"
   ]
  },
  {
   "cell_type": "markdown",
   "metadata": {},
   "source": [
    "<a name=\"extraer-contenido-multiple\"></a>\n",
    "## Extraer la información\n",
    "\n",
    "\n"
   ]
  },
  {
   "cell_type": "markdown",
   "metadata": {},
   "source": [
    "Ya que en la lista `html_poema` tenemos cadenas de texto que expresan el HTML de cada página, podemos crear un árbol con BeautifulSoup y extraer el título, autora y texto del poema de cada página. Después escribiremos los resultados a un fichero delimitado, aprovechando la biblioteca pandas ya vista en el ejemplo de [extracción sobre un poema individual](#extraccion-poema-indiv).\n",
    "\n",
    "Se efectúan las siguientes etapas:\n",
    "\n",
    "1. Se declaran listas para almacenar las autoras (`autoras`), títulos (`titulos`) y textos extraídos (`textos`)\n",
    "1. Dentro del bucle `for`:\n",
    "  1. Se crea el árbol HTML de cada página, asignado a la variable `arbol`\n",
    "  1. A partir de este, extraemos primero la autora. La sintaxis se ha visto [arriba](#metadatos-indiv). Una novedad aquí es que añadimos la gestión de errores con `try ... except`. Esto hace lo siguiente: En caso de que el analizador (parseador) de BeautifulSoup no encuentre un `<span>` con `class` de valor *ws-author*, la operación `.get_text()` dará un error (si no hay elemento, no se puede obtener su texto). Este error es de tipo `AttributeError`, como se puede saber quitando la gestión de errores y viendo los errores que surgen. En el `try ... except` lo que se hace es prever un comportamiento en caso de que el error `AttributeError` ocurrra. Lo que pasará en ese caso es que asignaremos la cadena *ErrorAutora* a la variable `autora`. En todos los casos, el valor de `autora` se añade a la lista `autoras` con `.append()`\n",
    "  1. Extraemos ahora el título. En el poema individual del ejemplo de [arriba](#metadatos-indiv) buscábamos `<span class=\"ws-title\">`. Sin embargo, se ha observado que no todos los poemas expresan el título en ese elemento. Una forma más genérica es acceder al texto del elemento `<title>`. Este elemento tiene por función dar el título para la ventana o pestaña del navegador. Por eso hay información adicional (* - Wikisource*) en su texto, que vamos a eliminar con .replace(), sustituyéndola por una cadena vacía, es decir, borrándola. Al extraer el título se ha usado también la gestion del error `AttributeError`, y el resultado final se añade a la lista `titulos`.\n",
    "  1. Para extraer el texto del poema, usaremos `arbol.find_all(\"div\", [\"poem\", \"verse\"])`. Esto busca los elementos `<div>` cuyo atributo `class` es *poem* o *verse* (los diferentes valores posibles se dan en una lista como segundo argumento a ̀`find_all()`).\n",
    "    1. Se ha visto inspeccionando los resultados que, en algún caso, el texto del poema puede aparecer en más de un `<div>`. Por eso se introduce un nuevo bucle para recorrer los posibles `<div>`, asignados a `divs_poema`. No importa si solo hay un `<div>`: Como `find_all()` devuelve una lista, siempre podemos recorrer sus miembros con un bucle `for`. El nombre elegido para el iterador que recorre la lista de `<div>` es `parte`.\n",
    "    1. Para cada miembro de la lista `divs_poema`, extraemos el texto de todos sus elementos `<p>` o `<span>`, con `parte.find([\"p\", \"span\"]).get_text()`. Generalmente el texto está en un `<p>` pero en algún caso en un `<span>`.\n",
    "    1. El resto del proceso es como lo que se ha visto [arriba](#texto-indiv): Después de dividir el texto en versos con `split(\"\\n\")`, se eliminan los espacios superfluos con `strip()` dentro de una *comprensión de lista*. La novedad aquí es que se prevé una gestión de los errores `AttributeError` y `IndexError`: en caso de ocurrir, el valor del texto será una lista cuyo único miembro es la cadena de texto *ErrorTexto*, es decir: `[\"ErrorTexto\"]`. Se usa una lista con una cadena dentro en vez de una cadena para que el formato sea homogéneo a lo que tenemos cuando no hay error (cuando no hay error también hay una lista, con el texto de cada verso).\n",
    "    1. Para terminar el bucle interior, el texto de los versos de cada `<div>` se concatena con `\"\\n\".join(texto_parte)` para crear una cadena de versos separados por saltos de línea, que se añade a `texto_poema` con `append()`\n",
    "1. Finalmente, en el bucle exterior se concatenan las partes (la cadena de versos de cada parte) con `\"\\n\".join(texto_poema)` y se añade el resultado a la lista de textos para la colección (`textos`)"
   ]
  },
  {
   "cell_type": "code",
   "execution_count": 149,
   "metadata": {
    "scrolled": false
   },
   "outputs": [],
   "source": [
    "autoras = []\n",
    "titulos = []\n",
    "textos = []\n",
    "\n",
    "for hp in html_poemas:\n",
    "    arbol = BeautifulSoup(hp)\n",
    "    # extracción autora\n",
    "    try:\n",
    "        autora = arbol.find(\"span\", attrs={\"class\": \"ws-author\"}).get_text().strip()\n",
    "    except AttributeError:\n",
    "        autora = \"ErrorAutora\"\n",
    "    autoras.append(autora)\n",
    "    # extracción título\n",
    "    try:\n",
    "        titulo = arbol.find(\"title\").get_text().strip().replace(\" - Wikisource\", \"\")\n",
    "    except AttributeError:\n",
    "        titulo = \"ErrorTitulo\"\n",
    "    titulos.append(titulo)\n",
    "    # extracción texto poema\n",
    "    divs_poema = arbol.find_all(\"div\", [\"poem\", \"verse\"])\n",
    "    texto_poema = []\n",
    "    #  puede haber más de un <div> con texto del poema; los recorremos aquí\n",
    "    for parte in divs_poema:\n",
    "        try:\n",
    "            # extraer el texto de cada div\n",
    "            texto_parte_bruto = parte.find([\"p\", \"span\"]).get_text()\n",
    "            texto_versos = texto_parte_bruto.split(\"\\n\")\n",
    "            texto_parte = [verso.strip() for verso in texto_versos]\n",
    "        except (IndexError, AttributeError):\n",
    "            texto_parte = [\"ErrorTexto\"]\n",
    "        # añadir el texto de cada div al texto total del poema\n",
    "        texto_poema.append(\"\\n\".join(texto_parte))\n",
    "    # añadir el texto total del poema a la lista de textos para toda la colección\n",
    "    textos.append(\"\\n\".join(texto_poema))"
   ]
  },
  {
   "cell_type": "markdown",
   "metadata": {},
   "source": [
    "\n",
    "<a name=\"salida-archivos\"></a>\n",
    "## Guardar los resultados\n",
    "\n",
    "Ya que tenemos listas con las informaciones a almacenar, podemos crear una dataframe con pandas, usando el mismo código que para el poema individual ([arriba](#salida-archivo)). La diferencia es que antes las listas que usamos para los valores de cada columna contenían un solo valor, ahora tienen un valora para cada poema.\n",
    "\n",
    "El número de elementos de las listas `autora`, `titulos`, `textos` ha de ser igual, de lo contrario no se puede crear la dataframe."
   ]
  },
  {
   "cell_type": "code",
   "execution_count": 150,
   "metadata": {},
   "outputs": [],
   "source": [
    "import pandas as pd\n",
    "\n",
    "datos = {\"autora\": autoras,\n",
    "         \"titulo\": titulos,\n",
    "         \"textoPoema\": textos} \n",
    "\n",
    "df = pd.DataFrame(datos)"
   ]
  },
  {
   "cell_type": "code",
   "execution_count": 151,
   "metadata": {
    "scrolled": true
   },
   "outputs": [
    {
     "data": {
      "text/html": [
       "<div>\n",
       "<style scoped>\n",
       "    .dataframe tbody tr th:only-of-type {\n",
       "        vertical-align: middle;\n",
       "    }\n",
       "\n",
       "    .dataframe tbody tr th {\n",
       "        vertical-align: top;\n",
       "    }\n",
       "\n",
       "    .dataframe thead th {\n",
       "        text-align: right;\n",
       "    }\n",
       "</style>\n",
       "<table border=\"1\" class=\"dataframe\">\n",
       "  <thead>\n",
       "    <tr style=\"text-align: right;\">\n",
       "      <th></th>\n",
       "      <th>autora</th>\n",
       "      <th>titulo</th>\n",
       "      <th>textoPoema</th>\n",
       "    </tr>\n",
       "  </thead>\n",
       "  <tbody>\n",
       "    <tr>\n",
       "      <th>0</th>\n",
       "      <td>Alfonsina Storni</td>\n",
       "      <td>Agrio está el mundo</td>\n",
       "      <td>Agrio está el mundo\\ninmaduro,\\ndetenido;\\nsus...</td>\n",
       "    </tr>\n",
       "    <tr>\n",
       "      <th>1</th>\n",
       "      <td>Alfonsina Storni</td>\n",
       "      <td>Alma desnuda</td>\n",
       "      <td>Soy un alma desnuda en estos versos,\\nAlma des...</td>\n",
       "    </tr>\n",
       "    <tr>\n",
       "      <th>2</th>\n",
       "      <td>Alfonsina Storni</td>\n",
       "      <td>Así</td>\n",
       "      <td>Hice el libro así:\\nGimiendo, llorando, soñand...</td>\n",
       "    </tr>\n",
       "    <tr>\n",
       "      <th>3</th>\n",
       "      <td>Alfonsina Storni</td>\n",
       "      <td>Aspecto</td>\n",
       "      <td>Vivo dentro de cuatro paredes matemáticas\\nali...</td>\n",
       "    </tr>\n",
       "    <tr>\n",
       "      <th>4</th>\n",
       "      <td>Alfonsina Storni</td>\n",
       "      <td>Buenos Aires (Storni)</td>\n",
       "      <td>Buenos Aires es un hombre\\nQue tiene grandes l...</td>\n",
       "    </tr>\n",
       "    <tr>\n",
       "      <th>...</th>\n",
       "      <td>...</td>\n",
       "      <td>...</td>\n",
       "      <td>...</td>\n",
       "    </tr>\n",
       "    <tr>\n",
       "      <th>73</th>\n",
       "      <td>Alfonsina Storni</td>\n",
       "      <td>Soy</td>\n",
       "      <td>Soy suave y triste si idolatro, puedo\\nBajar e...</td>\n",
       "    </tr>\n",
       "    <tr>\n",
       "      <th>74</th>\n",
       "      <td>Alfonsina Storni</td>\n",
       "      <td>Sugestión de una cuna vacía</td>\n",
       "      <td>Un pájaro de luna hasta la tierra\\nla trajo. I...</td>\n",
       "    </tr>\n",
       "    <tr>\n",
       "      <th>75</th>\n",
       "      <td>ErrorAutora</td>\n",
       "      <td>Una mirada</td>\n",
       "      <td></td>\n",
       "    </tr>\n",
       "    <tr>\n",
       "      <th>76</th>\n",
       "      <td>Alfonsina Storni</td>\n",
       "      <td>Vida</td>\n",
       "      <td>Mis nervios están locos, en las venas\\nLa sang...</td>\n",
       "    </tr>\n",
       "    <tr>\n",
       "      <th>77</th>\n",
       "      <td>Alfonsina Storni</td>\n",
       "      <td>Voy a dormir</td>\n",
       "      <td>Dientes de flores, cofia de rocío,\\nmanos de h...</td>\n",
       "    </tr>\n",
       "  </tbody>\n",
       "</table>\n",
       "<p>78 rows × 3 columns</p>\n",
       "</div>"
      ],
      "text/plain": [
       "              autora                       titulo  \\\n",
       "0   Alfonsina Storni          Agrio está el mundo   \n",
       "1   Alfonsina Storni                 Alma desnuda   \n",
       "2   Alfonsina Storni                          Así   \n",
       "3   Alfonsina Storni                      Aspecto   \n",
       "4   Alfonsina Storni        Buenos Aires (Storni)   \n",
       "..               ...                          ...   \n",
       "73  Alfonsina Storni                          Soy   \n",
       "74  Alfonsina Storni  Sugestión de una cuna vacía   \n",
       "75       ErrorAutora                   Una mirada   \n",
       "76  Alfonsina Storni                         Vida   \n",
       "77  Alfonsina Storni                 Voy a dormir   \n",
       "\n",
       "                                           textoPoema  \n",
       "0   Agrio está el mundo\\ninmaduro,\\ndetenido;\\nsus...  \n",
       "1   Soy un alma desnuda en estos versos,\\nAlma des...  \n",
       "2   Hice el libro así:\\nGimiendo, llorando, soñand...  \n",
       "3   Vivo dentro de cuatro paredes matemáticas\\nali...  \n",
       "4   Buenos Aires es un hombre\\nQue tiene grandes l...  \n",
       "..                                                ...  \n",
       "73  Soy suave y triste si idolatro, puedo\\nBajar e...  \n",
       "74  Un pájaro de luna hasta la tierra\\nla trajo. I...  \n",
       "75                                                     \n",
       "76  Mis nervios están locos, en las venas\\nLa sang...  \n",
       "77  Dientes de flores, cofia de rocío,\\nmanos de h...  \n",
       "\n",
       "[78 rows x 3 columns]"
      ]
     },
     "execution_count": 151,
     "metadata": {},
     "output_type": "execute_result"
    }
   ],
   "source": [
    "df"
   ]
  },
  {
   "cell_type": "markdown",
   "metadata": {},
   "source": [
    "Como se hizo para el poema individual, podemos guardar los resultados de la dataframe en formatos delimitados, aquí en Excel:"
   ]
  },
  {
   "cell_type": "code",
   "execution_count": 152,
   "metadata": {},
   "outputs": [],
   "source": [
    "directorio_actual = pathlib.Path.cwd()\n",
    "dir_resultados = directorio_actual.joinpath(\"resultados\", \"desde-html\")\n",
    "nombre_fichero = dir_resultados.joinpath(\"storni-todos-poemas.xlsx\")\n",
    "\n",
    "df.to_excel(nombre_fichero, index=False)"
   ]
  },
  {
   "cell_type": "markdown",
   "metadata": {},
   "source": [
    "Un fragmento del resultado se ve como sigue al abrirlo en LibreOffice Calc:\n",
    "\n",
    "![img](./img/02_html_04_excel_varios_poemas.png)"
   ]
  },
  {
   "cell_type": "markdown",
   "metadata": {},
   "source": [
    "## Temporary stuff for me"
   ]
  },
  {
   "cell_type": "code",
   "execution_count": 102,
   "metadata": {},
   "outputs": [
    {
     "name": "stdout",
     "output_type": "stream",
     "text": [
      "Cada rítmica luna que pasa soy llamada,\n",
      "por los números graves de Dios, a dar mi vida\n",
      "en otra vida: mezcla de tinta azul teñida;\n",
      "la misma extraña mezcla con que he sido amasada.\n",
      "\n",
      "Y a través de mi carne, miserable y cansada,\n",
      "filtra un cálido viento de tierra prometida.\n",
      "y bebe, dulce aroma, mi nariz dilatada\n",
      "a la selva exultante y a la rama nutrida.\n",
      "\n",
      "\n",
      "Un engañoso canto de sirena me cantas.\n",
      "¡Naturaleza astuta! Me atraes y me encantas\n",
      "para cargarme luego de alguna humana fruta.\n",
      "\n",
      "Engaño por engaño: mi belleza se esquiva\n",
      "al llamado solemne y de esta fiebre viva,\n",
      "algún amor estéril y de paso, disfruta.\n",
      "\n"
     ]
    }
   ],
   "source": [
    "for x in div_poema:\n",
    "    print(x.find(\"p\").get_text())"
   ]
  },
  {
   "cell_type": "code",
   "execution_count": 86,
   "metadata": {},
   "outputs": [
    {
     "name": "stdout",
     "output_type": "stream",
     "text": [
      "/home/ruizfabo/projects/o/dhvol/repo/02-extraccion-con-python/resultados/desde-html/html-poemas-storni/Piedra_miserable.html\n",
      "/home/ruizfabo/projects/o/dhvol/repo/02-extraccion-con-python/resultados/desde-html/html-poemas-storni/El_sueno_Storni.html\n",
      "/home/ruizfabo/projects/o/dhvol/repo/02-extraccion-con-python/resultados/desde-html/html-poemas-storni/Soy_esa_flor.html\n",
      "/home/ruizfabo/projects/o/dhvol/repo/02-extraccion-con-python/resultados/desde-html/html-poemas-storni/Cancion_de_la_mujer_astuta.html\n",
      "/home/ruizfabo/projects/o/dhvol/repo/02-extraccion-con-python/resultados/desde-html/html-poemas-storni/El_silencio.html\n",
      "/home/ruizfabo/projects/o/dhvol/repo/02-extraccion-con-python/resultados/desde-html/html-poemas-storni/A_Madona.html\n",
      "/home/ruizfabo/projects/o/dhvol/repo/02-extraccion-con-python/resultados/desde-html/html-poemas-storni/Llama.html\n",
      "/home/ruizfabo/projects/o/dhvol/repo/02-extraccion-con-python/resultados/desde-html/html-poemas-storni/Asi.html\n",
      "/home/ruizfabo/projects/o/dhvol/repo/02-extraccion-con-python/resultados/desde-html/html-poemas-storni/El_canal.html\n",
      "/home/ruizfabo/projects/o/dhvol/repo/02-extraccion-con-python/resultados/desde-html/html-poemas-storni/Naturaleza_mia.html\n",
      "/home/ruizfabo/projects/o/dhvol/repo/02-extraccion-con-python/resultados/desde-html/html-poemas-storni/El_hijo_Storni.html\n",
      "/home/ruizfabo/projects/o/dhvol/repo/02-extraccion-con-python/resultados/desde-html/html-poemas-storni/La_inquietud_del_rosal.html\n",
      "/home/ruizfabo/projects/o/dhvol/repo/02-extraccion-con-python/resultados/desde-html/html-poemas-storni/Humildad_Storni.html\n",
      "/home/ruizfabo/projects/o/dhvol/repo/02-extraccion-con-python/resultados/desde-html/html-poemas-storni/Contra_voz.html\n",
      "/home/ruizfabo/projects/o/dhvol/repo/02-extraccion-con-python/resultados/desde-html/html-poemas-storni/Aspecto.html\n",
      "/home/ruizfabo/projects/o/dhvol/repo/02-extraccion-con-python/resultados/desde-html/html-poemas-storni/Palabras_a_mi_madre.html\n",
      "/home/ruizfabo/projects/o/dhvol/repo/02-extraccion-con-python/resultados/desde-html/html-poemas-storni/Dulce_tortura.html\n",
      "/home/ruizfabo/projects/o/dhvol/repo/02-extraccion-con-python/resultados/desde-html/html-poemas-storni/El_racimo_inocente.html\n",
      "/home/ruizfabo/projects/o/dhvol/repo/02-extraccion-con-python/resultados/desde-html/html-poemas-storni/Plaza_en_invierno.html\n",
      "/home/ruizfabo/projects/o/dhvol/repo/02-extraccion-con-python/resultados/desde-html/html-poemas-storni/A_Eros.html\n",
      "/home/ruizfabo/projects/o/dhvol/repo/02-extraccion-con-python/resultados/desde-html/html-poemas-storni/Esta_tarde.html\n",
      "/home/ruizfabo/projects/o/dhvol/repo/02-extraccion-con-python/resultados/desde-html/html-poemas-storni/Alma_desnuda.html\n",
      "/home/ruizfabo/projects/o/dhvol/repo/02-extraccion-con-python/resultados/desde-html/html-poemas-storni/Un_sol.html\n",
      "/home/ruizfabo/projects/o/dhvol/repo/02-extraccion-con-python/resultados/desde-html/html-poemas-storni/El_divino_amor.html\n",
      "/home/ruizfabo/projects/o/dhvol/repo/02-extraccion-con-python/resultados/desde-html/html-poemas-storni/Presentimiento_Storni.html\n",
      "/home/ruizfabo/projects/o/dhvol/repo/02-extraccion-con-python/resultados/desde-html/html-poemas-storni/Siete_vidas.html\n",
      "/home/ruizfabo/projects/o/dhvol/repo/02-extraccion-con-python/resultados/desde-html/html-poemas-storni/Amor_Storni.html\n",
      "/home/ruizfabo/projects/o/dhvol/repo/02-extraccion-con-python/resultados/desde-html/html-poemas-storni/Una_mirada.html\n",
      "/home/ruizfabo/projects/o/dhvol/repo/02-extraccion-con-python/resultados/desde-html/html-poemas-storni/Sugestion_de_una_cuna_vacia.html\n",
      "/home/ruizfabo/projects/o/dhvol/repo/02-extraccion-con-python/resultados/desde-html/html-poemas-storni/Un_cementerio_que_mira_al_mar.html\n",
      "/home/ruizfabo/projects/o/dhvol/repo/02-extraccion-con-python/resultados/desde-html/html-poemas-storni/Y_tu.html\n",
      "/home/ruizfabo/projects/o/dhvol/repo/02-extraccion-con-python/resultados/desde-html/html-poemas-storni/Queja.html\n",
      "/home/ruizfabo/projects/o/dhvol/repo/02-extraccion-con-python/resultados/desde-html/html-poemas-storni/La_que_comprende.html\n",
      "/home/ruizfabo/projects/o/dhvol/repo/02-extraccion-con-python/resultados/desde-html/html-poemas-storni/Tu_me_quieres_blanca.html\n",
      "/home/ruizfabo/projects/o/dhvol/repo/02-extraccion-con-python/resultados/desde-html/html-poemas-storni/Vida.html\n",
      "/home/ruizfabo/projects/o/dhvol/repo/02-extraccion-con-python/resultados/desde-html/html-poemas-storni/Buenos_Aires_Storni.html\n",
      "/home/ruizfabo/projects/o/dhvol/repo/02-extraccion-con-python/resultados/desde-html/html-poemas-storni/Peso_ancestral.html\n",
      "/home/ruizfabo/projects/o/dhvol/repo/02-extraccion-con-python/resultados/desde-html/html-poemas-storni/Un_dia.html\n",
      "/home/ruizfabo/projects/o/dhvol/repo/02-extraccion-con-python/resultados/desde-html/html-poemas-storni/Carta_lirica_a_otra_mujer.html\n",
      "/home/ruizfabo/projects/o/dhvol/repo/02-extraccion-con-python/resultados/desde-html/html-poemas-storni/El_cisne_enfermo.html\n",
      "/home/ruizfabo/projects/o/dhvol/repo/02-extraccion-con-python/resultados/desde-html/html-poemas-storni/Voluntad.html\n",
      "/home/ruizfabo/projects/o/dhvol/repo/02-extraccion-con-python/resultados/desde-html/html-poemas-storni/Ruego_a_Prometeo.html\n",
      "/home/ruizfabo/projects/o/dhvol/repo/02-extraccion-con-python/resultados/desde-html/html-poemas-storni/Mundo_de_siete_pozos_poema.html\n",
      "/home/ruizfabo/projects/o/dhvol/repo/02-extraccion-con-python/resultados/desde-html/html-poemas-storni/El_hijo_de_un_avaro.html\n",
      "/home/ruizfabo/projects/o/dhvol/repo/02-extraccion-con-python/resultados/desde-html/html-poemas-storni/Frase.html\n",
      "/home/ruizfabo/projects/o/dhvol/repo/02-extraccion-con-python/resultados/desde-html/html-poemas-storni/Regreso_en_suenos.html\n",
      "/home/ruizfabo/projects/o/dhvol/repo/02-extraccion-con-python/resultados/desde-html/html-poemas-storni/Date_a_volar.html\n",
      "/home/ruizfabo/projects/o/dhvol/repo/02-extraccion-con-python/resultados/desde-html/html-poemas-storni/Siesta_Storni.html\n",
      "/home/ruizfabo/projects/o/dhvol/repo/02-extraccion-con-python/resultados/desde-html/html-poemas-storni/Mi_hermana.html\n",
      "/home/ruizfabo/projects/o/dhvol/repo/02-extraccion-con-python/resultados/desde-html/html-poemas-storni/El_hombre_Storni.html\n",
      "/home/ruizfabo/projects/o/dhvol/repo/02-extraccion-con-python/resultados/desde-html/html-poemas-storni/El_parque.html\n",
      "/home/ruizfabo/projects/o/dhvol/repo/02-extraccion-con-python/resultados/desde-html/html-poemas-storni/Voy_a_dormir.html\n",
      "/home/ruizfabo/projects/o/dhvol/repo/02-extraccion-con-python/resultados/desde-html/html-poemas-storni/Encuentro_Storni.html\n",
      "/home/ruizfabo/projects/o/dhvol/repo/02-extraccion-con-python/resultados/desde-html/html-poemas-storni/Pasion_Storni.html\n",
      "/home/ruizfabo/projects/o/dhvol/repo/02-extraccion-con-python/resultados/desde-html/html-poemas-storni/Pudiera_ser.html\n",
      "/home/ruizfabo/projects/o/dhvol/repo/02-extraccion-con-python/resultados/desde-html/html-poemas-storni/Este_libro.html\n",
      "/home/ruizfabo/projects/o/dhvol/repo/02-extraccion-con-python/resultados/desde-html/html-poemas-storni/La_via_lactea.html\n",
      "/home/ruizfabo/projects/o/dhvol/repo/02-extraccion-con-python/resultados/desde-html/html-poemas-storni/Calle.html\n",
      "/home/ruizfabo/projects/o/dhvol/repo/02-extraccion-con-python/resultados/desde-html/html-poemas-storni/Manana_gris.html\n",
      "/home/ruizfabo/projects/o/dhvol/repo/02-extraccion-con-python/resultados/desde-html/html-poemas-storni/La_mirada_Storni.html\n",
      "/home/ruizfabo/projects/o/dhvol/repo/02-extraccion-con-python/resultados/desde-html/html-poemas-storni/Fiesta.html\n",
      "/home/ruizfabo/projects/o/dhvol/repo/02-extraccion-con-python/resultados/desde-html/html-poemas-storni/Melancolia_Storni.html\n",
      "/home/ruizfabo/projects/o/dhvol/repo/02-extraccion-con-python/resultados/desde-html/html-poemas-storni/Voz.html\n",
      "/home/ruizfabo/projects/o/dhvol/repo/02-extraccion-con-python/resultados/desde-html/html-poemas-storni/Duerme_tranquilo.html\n",
      "/home/ruizfabo/projects/o/dhvol/repo/02-extraccion-con-python/resultados/desde-html/html-poemas-storni/Frente_al_mar.html\n",
      "/home/ruizfabo/projects/o/dhvol/repo/02-extraccion-con-python/resultados/desde-html/html-poemas-storni/Dos_palabras.html\n",
      "/home/ruizfabo/projects/o/dhvol/repo/02-extraccion-con-python/resultados/desde-html/html-poemas-storni/Olvido.html\n",
      "/home/ruizfabo/projects/o/dhvol/repo/02-extraccion-con-python/resultados/desde-html/html-poemas-storni/Sabeis_algo.html\n",
      "/home/ruizfabo/projects/o/dhvol/repo/02-extraccion-con-python/resultados/desde-html/html-poemas-storni/Agrio_esta_el_mundo.html\n",
      "/home/ruizfabo/projects/o/dhvol/repo/02-extraccion-con-python/resultados/desde-html/html-poemas-storni/Parasitos.html\n",
      "/home/ruizfabo/projects/o/dhvol/repo/02-extraccion-con-python/resultados/desde-html/html-poemas-storni/El_sueno_2_Storni.html\n",
      "/home/ruizfabo/projects/o/dhvol/repo/02-extraccion-con-python/resultados/desde-html/html-poemas-storni/Sabado.html\n",
      "/home/ruizfabo/projects/o/dhvol/repo/02-extraccion-con-python/resultados/desde-html/html-poemas-storni/Dolor_Storni.html\n",
      "/home/ruizfabo/projects/o/dhvol/repo/02-extraccion-con-python/resultados/desde-html/html-poemas-storni/Odio.html\n",
      "/home/ruizfabo/projects/o/dhvol/repo/02-extraccion-con-python/resultados/desde-html/html-poemas-storni/Paz.html\n",
      "/home/ruizfabo/projects/o/dhvol/repo/02-extraccion-con-python/resultados/desde-html/html-poemas-storni/Cara_copiada.html\n",
      "/home/ruizfabo/projects/o/dhvol/repo/02-extraccion-con-python/resultados/desde-html/html-poemas-storni/Soy.html\n",
      "/home/ruizfabo/projects/o/dhvol/repo/02-extraccion-con-python/resultados/desde-html/html-poemas-storni/Noche_divina.html\n"
     ]
    }
   ],
   "source": [
    "html_files = html_indiv_dir.glob(\"*\")\n",
    "for x in list(html_files):print(x)"
   ]
  },
  {
   "cell_type": "code",
   "execution_count": 62,
   "metadata": {},
   "outputs": [
    {
     "data": {
      "text/plain": [
       "[]"
      ]
     },
     "execution_count": 62,
     "metadata": {},
     "output_type": "execute_result"
    }
   ],
   "source": [
    "arbol.find_all(\"div\", \"poem\")\n"
   ]
  },
  {
   "cell_type": "code",
   "execution_count": 52,
   "metadata": {},
   "outputs": [],
   "source": [
    "arbol.find(\"span\", attrs={\"class\": \"ws-author\"})"
   ]
  },
  {
   "cell_type": "code",
   "execution_count": 77,
   "metadata": {},
   "outputs": [
    {
     "data": {
      "text/plain": [
       "'Oh, piedra dura, miserable piedra,\\nYo te golpeo, te golpeo en vano,\\nY es inútil la fuerza de mi mano,\\nOh piedra dura, miserable piedra.\\n\\nPero haces bien, oh miserable piedra,\\nDeja que tiente un golpe sobrehumano,\\nDeja golpear, deja golpear mi mano,\\nOh piedra dura, miserable piedra.\\n\\nNo me des nada, miserable piedra,\\nGuarda un silencio altivo y soberano,\\nNo te ablandes jamás entre mi mano;\\nOh piedra dura, miserable piedra.\\n\\nCon tu impiedad, oh miserable piedra,\\nRecobro alientos y el deseo gano,\\nNo te dejes caer sobre mi mano,\\nMezquina, estulta, miserable piedra.\\n\\nSi un día torpe, miserable piedra,\\nTe venciera la fuerza del verano\\nY cayeras a gotas en mi mano\\nYo te odiaría, miserable piedra...\\n'"
      ]
     },
     "execution_count": 77,
     "metadata": {},
     "output_type": "execute_result"
    }
   ],
   "source": [
    "textos[0]"
   ]
  },
  {
   "cell_type": "code",
   "execution_count": 96,
   "metadata": {
    "collapsed": true
   },
   "outputs": [
    {
     "data": {
      "text/plain": [
       "'<!DOCTYPE html>\\n<html class=\"client-nojs\" lang=\"es\" dir=\"ltr\">\\n<head>\\n<meta charset=\"UTF-8\"/>\\n<title>Canción de la mujer astuta - Wikisource</title>\\n<script>document.documentElement.className=\"client-js\";RLCONF={\"wgBreakFrames\":false,\"wgSeparatorTransformTable\":[\",\\\\t.\",\"\\xa0\\\\t,\"],\"wgDigitTransformTable\":[\"\",\"\"],\"wgDefaultDateFormat\":\"dmy\",\"wgMonthNames\":[\"\",\"enero\",\"febrero\",\"marzo\",\"abril\",\"mayo\",\"junio\",\"julio\",\"agosto\",\"septiembre\",\"octubre\",\"noviembre\",\"diciembre\"],\"wgRequestId\":\"bb3b9578-1a91-4365-ab4f-fea9be0e148d\",\"wgCSPNonce\":false,\"wgCanonicalNamespace\":\"\",\"wgCanonicalSpecialPageName\":false,\"wgNamespaceNumber\":0,\"wgPageName\":\"Canción_de_la_mujer_astuta\",\"wgTitle\":\"Canción de la mujer astuta\",\"wgCurRevisionId\":1213139,\"wgRevisionId\":1213139,\"wgArticleId\":22820,\"wgIsArticle\":true,\"wgIsRedirect\":false,\"wgAction\":\"view\",\"wgUserName\":null,\"wgUserGroups\":[\"*\"],\"wgCategories\":[\"P1935\",\"Publicado en Argentina\",\"ES-C\",\"Poesías\",\"Poesías de Alfonsina Storni\"],\"wgPageContentLanguage\":\"es\",\"wgPageContentModel\":\"wikitext\",\"wgRelevantPageName\":\"Canción_de_la_mujer_astuta\",\"wgRelevantArticleId\":22820,\"wgIsProbablyEditable\":true,\\n\"wgRelevantPageIsProbablyEditable\":true,\"wgRestrictionEdit\":[],\"wgRestrictionMove\":[],\"wgVisualEditor\":{\"pageLanguageCode\":\"es\",\"pageLanguageDir\":\"ltr\",\"pageVariantFallbacks\":\"es\"},\"wgMFDisplayWikibaseDescriptions\":{\"search\":true,\"nearby\":true,\"watchlist\":true,\"tagline\":false},\"wgWMESchemaEditAttemptStepOversample\":false,\"wgWMEPageLength\":100,\"wgNoticeProject\":\"wikisource\",\"wgMediaViewerOnClick\":true,\"wgMediaViewerEnabledByDefault\":true,\"wgULSCurrentAutonym\":\"español\",\"prpSourceIndexPage\":\"Índice:Storni Mundo 7 Pozos.djvu\",\"wgEditSubmitButtonLabelPublish\":true,\"wgCentralAuthMobileDomain\":false,\"wgULSPosition\":\"interlanguage\",\"wgULSisCompactLinksEnabled\":false,\"wgWikibaseItemId\":\"Q19418603\"};RLSTATE={\"ext.globalCssJs.user.styles\":\"ready\",\"site.styles\":\"ready\",\"user.styles\":\"ready\",\"ext.globalCssJs.user\":\"ready\",\"user\":\"ready\",\"user.options\":\"loading\",\"oojs-ui-core.styles\":\"ready\",\"oojs-ui.styles.indicators\":\"ready\",\"mediawiki.widgets.styles\":\"ready\",\"oojs-ui-core.icons\":\"ready\",\\n\"ext.wikisource.icons\":\"ready\",\"skins.vector.styles.legacy\":\"ready\",\"ext.visualEditor.desktopArticleTarget.noscript\":\"ready\",\"ext.wikimediaBadges\":\"ready\",\"ext.uls.interlanguage\":\"ready\",\"wikibase.client.init\":\"ready\"};RLPAGEMODULES=[\"ext.wikisource.download\",\"ext.scribunto.logs\",\"ext.proofreadpage.article\",\"site\",\"mediawiki.page.ready\",\"skins.vector.legacy.js\",\"mmv.head\",\"mmv.bootstrap.autostart\",\"ext.visualEditor.desktopArticleTarget.init\",\"ext.visualEditor.targetLoader\",\"ext.eventLogging\",\"ext.wikimediaEvents\",\"ext.navigationTiming\",\"ext.centralNotice.geoIP\",\"ext.centralNotice.startUp\",\"ext.centralauth.centralautologin\",\"ext.uls.interface\"];</script>\\n<script>(RLQ=window.RLQ||[]).push(function(){mw.loader.implement(\"user.options@12s5i\",function($,jQuery,require,module){mw.user.tokens.set({\"patrolToken\":\"+\\\\\\\\\",\"watchToken\":\"+\\\\\\\\\",\"csrfToken\":\"+\\\\\\\\\"});});});</script>\\n<link rel=\"stylesheet\" href=\"/w/load.php?lang=es&amp;modules=ext.uls.interlanguage%7Cext.visualEditor.desktopArticleTarget.noscript%7Cext.wikimediaBadges%7Cext.wikisource.icons%7Cmediawiki.widgets.styles%7Coojs-ui-core.icons%2Cstyles%7Coojs-ui.styles.indicators%7Cskins.vector.styles.legacy%7Cwikibase.client.init&amp;only=styles&amp;skin=vector\"/>\\n<script async=\"\" src=\"/w/load.php?lang=es&amp;modules=startup&amp;only=scripts&amp;raw=1&amp;skin=vector\"></script>\\n<meta name=\"ResourceLoaderDynamicStyles\" content=\"\"/>\\n<link rel=\"stylesheet\" href=\"/w/load.php?lang=es&amp;modules=site.styles&amp;only=styles&amp;skin=vector\"/>\\n<meta name=\"generator\" content=\"MediaWiki 1.39.0-wmf.23\"/>\\n<meta name=\"referrer\" content=\"origin\"/>\\n<meta name=\"referrer\" content=\"origin-when-crossorigin\"/>\\n<meta name=\"referrer\" content=\"origin-when-cross-origin\"/>\\n<meta name=\"format-detection\" content=\"telephone=no\"/>\\n<meta name=\"viewport\" content=\"width=1000, initial-scale=1.0\"/>\\n<meta property=\"og:title\" content=\"Canción de la mujer astuta - Wikisource\"/>\\n<meta property=\"og:type\" content=\"website\"/>\\n<link rel=\"preconnect\" href=\"//upload.wikimedia.org\"/>\\n<link rel=\"alternate\" media=\"only screen and (max-width: 720px)\" href=\"//es.m.wikisource.org/wiki/Canci%C3%B3n_de_la_mujer_astuta\"/>\\n<link rel=\"alternate\" type=\"application/x-wiki\" title=\"Editar\" href=\"/w/index.php?title=Canci%C3%B3n_de_la_mujer_astuta&amp;action=edit\"/>\\n<link rel=\"shortcut icon\" href=\"/static/favicon/wikisource.ico\"/>\\n<link rel=\"search\" type=\"application/opensearchdescription+xml\" href=\"/w/opensearch_desc.php\" title=\"Wikisource (es)\"/>\\n<link rel=\"EditURI\" type=\"application/rsd+xml\" href=\"//es.wikisource.org/w/api.php?action=rsd\"/>\\n<link rel=\"license\" href=\"https://creativecommons.org/licenses/by-sa/3.0/\"/>\\n<link rel=\"canonical\" href=\"https://es.wikisource.org/wiki/Canci%C3%B3n_de_la_mujer_astuta\"/>\\n<link rel=\"dns-prefetch\" href=\"//meta.wikimedia.org\" />\\n<link rel=\"dns-prefetch\" href=\"//login.wikimedia.org\"/>\\n</head>\\n<body class=\"mediawiki ltr sitedir-ltr mw-hide-empty-elt ns-0 ns-subject mw-editable page-Canción_de_la_mujer_astuta rootpage-Canción_de_la_mujer_astuta skin-vector action-view skin-vector-legacy\"><div id=\"mw-page-base\" class=\"noprint\"></div>\\n<div id=\"mw-head-base\" class=\"noprint\"></div>\\n<div id=\"content\" class=\"mw-body\" role=\"main\">\\n\\t<a id=\"top\"></a>\\n\\t<div id=\"siteNotice\"><!-- CentralNotice --></div>\\n\\t<div class=\"mw-indicators\">\\n\\t<div id=\"mw-indicator-~ext-wikisource-download\" class=\"mw-indicator\"><span id=\\'ooui-php-1\\' class=\\'ext-wikisource-download-button oo-ui-widget oo-ui-widget-enabled oo-ui-buttonElement oo-ui-buttonElement-framed oo-ui-labelElement oo-ui-flaggedElement-primary oo-ui-flaggedElement-progressive oo-ui-buttonWidget\\' data-ooui=\\'{\"_\":\"OO.ui.ButtonWidget\",\"href\":\"https:\\\\/\\\\/ws-export.wmcloud.org\\\\/?format=epub&amp;lang=es&amp;page=Canci%C3%B3n_de_la_mujer_astuta\",\"rel\":[\"nofollow\"],\"label\":\"Descargar\",\"title\":\"Descargar una versi\\\\u00f3n EPUB de esta obra\",\"flags\":[\"primary\",\"progressive\"],\"data\":{\"wsExportUrl\":\"https:\\\\/\\\\/ws-export.wmcloud.org\"},\"classes\":[\"ext-wikisource-download-button\"]}\\'><a role=\\'button\\' title=\\'Descargar una versión EPUB de esta obra\\' tabindex=\\'0\\' href=\\'https://ws-export.wmcloud.org/?format=epub&amp;lang=es&amp;page=Canci%C3%B3n_de_la_mujer_astuta\\' rel=\\'nofollow\\' class=\\'oo-ui-buttonElement-button\\'><span class=\\'oo-ui-iconElement-icon oo-ui-iconElement-noIcon oo-ui-image-invert\\'></span><span class=\\'oo-ui-labelElement-label\\'>Descargar</span><span class=\\'oo-ui-indicatorElement-indicator oo-ui-indicatorElement-noIndicator oo-ui-image-invert\\'></span></a></span></div>\\n\\t</div>\\n\\t<h1 id=\"firstHeading\" class=\"firstHeading mw-first-heading\">Canción de la mujer astuta</h1>\\n\\t<div id=\"bodyContent\" class=\"vector-body\">\\n\\t\\t<div id=\"siteSub\" class=\"noprint\">De Wikisource, la biblioteca libre.</div>\\n\\t\\t<div id=\"contentSub\"><table class=\"pr_quality\" title=\"2 páginas validadas, 0 páginas solo corregidas y 0 páginas sin corregir.\"><tr><td class=\"quality4\" style=\"width: 100%;\"></td><td class=\"quality3\" style=\"width: 0%;\"></td><td class=\"quality2\" style=\"width: 0%;\"></td><td class=\"quality1\" style=\"width: 0%;\"></td><td class=\"quality0\" style=\"width: 0%;\"></td><td class=\"qualitye\" style=\"width: 0%;\"></td></tr></table></div>\\n\\t\\t<div id=\"contentSub2\"></div>\\n\\t\\t\\n\\t\\t<div id=\"jump-to-nav\"></div>\\n\\t\\t<a class=\"mw-jump-link\" href=\"#mw-head\">Ir a la navegación</a>\\n\\t\\t<a class=\"mw-jump-link\" href=\"#searchInput\">Ir a la búsqueda</a>\\n\\t\\t<div id=\"mw-content-text\" class=\"mw-body-content mw-content-ltr\" lang=\"es\" dir=\"ltr\"><div class=\"mw-parser-output\"><div class=\"prp-pages-output\" lang=\"es\">\\n<style data-mw-deduplicate=\"TemplateStyles:r1188054\">.mw-parser-output #headertemplate{text-align:center;padding:1em;background:#F4F0E5;border-top:1px solid #A0A0A0;border-bottom:1px solid #A0A0A0;margin:10px auto;display:table;width:95%}.mw-parser-output #headerprevious,.mw-parser-output #footerprevious{padding:0;display:table-cell;vertical-align:middle;width:16%}.mw-parser-output #headernext,.mw-parser-output #footernext{padding:0;display:table-cell;vertical-align:middle;width:16%}.mw-parser-output .prev-span{float:left;display:block;font-size:smaller}.mw-parser-output .prev-span-arrow{margin-right:0.5em;position:relative;top:1.5px}.mw-parser-output .middle-div{width:68%;display:table-cell;vertical-align:middle}.mw-parser-output .next-span{float:right;display:block;font-size:smaller}.mw-parser-output .next-span-arrow{margin-left:0.5em;position:relative;top:1.5px}.mw-parser-output .lower-div{clear:both;padding:0.5em;text-align:center;margin:0 auto;font-size:80%}.mw-parser-output .notes{font-size:90%;width:95%;margin:-10px auto 10px}</style>\\n<div id=\"headertemplate\" class=\"noprint ws-noexport\"><div id=\"headerprevious\"><span class=\"prev-span\"><span class=\"prev-span-arrow\">← </span> <a href=\"/wiki/Una_mirada_(Storni)\" title=\"Una mirada (Storni)\">Una mirada</a></span></div><div class=\"middle-div\"><i><b>&#8203;<a href=\"/wiki/Mundo_de_siete_pozos\" title=\"Mundo de siete pozos\">Mundo de siete pozos</a>&#8203;</b></i>&#160;(1935)&#160;de&#160;<a href=\"/wiki/Autor:Alfonsina_Storni\" title=\"Autor:Alfonsina Storni\">Alfonsina Storni</a><br /><i><a class=\"mw-selflink selflink\">Canción de la mujer astuta</a></i><div class=\"noprint plainlinks lower-div\"><a href=\"/wiki/Archivo:PD-icon.svg\" class=\"image\"><img alt=\"PD-icon.svg\" src=\"//upload.wikimedia.org/wikipedia/commons/thumb/6/62/PD-icon.svg/14px-PD-icon.svg.png\" decoding=\"async\" width=\"14\" height=\"14\" srcset=\"//upload.wikimedia.org/wikipedia/commons/thumb/6/62/PD-icon.svg/21px-PD-icon.svg.png 1.5x, //upload.wikimedia.org/wikipedia/commons/thumb/6/62/PD-icon.svg/28px-PD-icon.svg.png 2x\" data-file-width=\"196\" data-file-height=\"196\" /></a>&#160;<a href=\"/wiki/Wikisource:Duraci%C3%B3n_de_derechos_de_autor_por_pa%C3%ADs#Argentina\" title=\"Wikisource:Duración de derechos de autor por país\">Argentina</a>&#160;&#160;&#160;<a href=\"/wiki/Archivo:Wikidata-logo.svg\" class=\"image\"><img alt=\"Wikidata-logo.svg\" src=\"//upload.wikimedia.org/wikipedia/commons/thumb/f/ff/Wikidata-logo.svg/16px-Wikidata-logo.svg.png\" decoding=\"async\" width=\"16\" height=\"9\" srcset=\"//upload.wikimedia.org/wikipedia/commons/thumb/f/ff/Wikidata-logo.svg/24px-Wikidata-logo.svg.png 1.5x, //upload.wikimedia.org/wikipedia/commons/thumb/f/ff/Wikidata-logo.svg/32px-Wikidata-logo.svg.png 2x\" data-file-width=\"1050\" data-file-height=\"590\" /></a>&#160;<a href=\"https://www.wikidata.org/wiki/Q19418603\" class=\"extiw\" title=\"d:Q19418603\">metadatos</a>.&#160;&#160;&#160;<div style=\"font-size:80%\">Descargar como &#160;<a href=\"https://wsexport.toolforge.org/tool/book.php?lang=es&amp;format=epub&amp;page=Canci%C3%B3n+de+la+mujer+astuta\" title=\"Descargar en formato ePub\"><img alt=\"Descargar en formato ePub\" src=\"//upload.wikimedia.org/wikipedia/commons/thumb/d/d5/EPUB_silk_icon.svg/12px-EPUB_silk_icon.svg.png\" decoding=\"async\" width=\"12\" height=\"12\" srcset=\"//upload.wikimedia.org/wikipedia/commons/thumb/d/d5/EPUB_silk_icon.svg/18px-EPUB_silk_icon.svg.png 1.5x, //upload.wikimedia.org/wikipedia/commons/thumb/d/d5/EPUB_silk_icon.svg/24px-EPUB_silk_icon.svg.png 2x\" data-file-width=\"512\" data-file-height=\"512\" /></a>&#160;<a href=\"https://wsexport.toolforge.org/tool/book.php?lang=es&amp;page=Canci%C3%B3n+de+la+mujer+astuta&amp;format=pdf-a5\" title=\"Descargar en formato PDF\"><img alt=\"Descargar en formato PDF\" src=\"//upload.wikimedia.org/wikipedia/commons/thumb/5/5f/Document-pdf.svg/15px-Document-pdf.svg.png\" decoding=\"async\" width=\"15\" height=\"14\" srcset=\"//upload.wikimedia.org/wikipedia/commons/thumb/5/5f/Document-pdf.svg/23px-Document-pdf.svg.png 1.5x, //upload.wikimedia.org/wikipedia/commons/thumb/5/5f/Document-pdf.svg/30px-Document-pdf.svg.png 2x\" data-file-width=\"714\" data-file-height=\"672\" /></a>&#160;<a href=\"https://wsexport.toolforge.org/tool/book.php?lang=es&amp;page=Canci%C3%B3n+de+la+mujer+astuta&amp;format=mobi\" title=\"Descargar en formato mobi\"><img alt=\"Descargar en formato mobi\" src=\"//upload.wikimedia.org/wikipedia/commons/thumb/a/ae/Mobi_icon.svg/22px-Mobi_icon.svg.png\" decoding=\"async\" width=\"22\" height=\"13\" srcset=\"//upload.wikimedia.org/wikipedia/commons/thumb/a/ae/Mobi_icon.svg/33px-Mobi_icon.svg.png 1.5x, //upload.wikimedia.org/wikipedia/commons/thumb/a/ae/Mobi_icon.svg/44px-Mobi_icon.svg.png 2x\" data-file-width=\"273\" data-file-height=\"163\" /></a></div></div></div><div id=\"headernext\"><span class=\"next-span\"> <a href=\"/wiki/Afinamiento\" title=\"Afinamiento\">Afinamiento</a><span class=\"next-span-arrow\"> →</span></span></div></div><div id=\"ws-data\" class=\"ws-noexport\" style=\"display:none\"><span class=\"ws-title\">Mundo de siete pozos</span><span class=\"ws-author\">Alfonsina Storni</span><span class=\"ws-year\">1935</span></div>\\n<style data-mw-deduplicate=\"TemplateStyles:r1213197/mw-parser-output/.prp-pages-output\">.mw-parser-output .prp-pages-output h2{font-style:italic;font-size:110%;letter-spacing:0.1em;margin:3em 0 2em 0}.mw-parser-output .prp-pages-output h3{font-size:150%;font-family:serif;letter-spacing:0.1em;margin:10em 0 10em 0}.mw-parser-output .prp-pages-output .cabecera{letter-spacing:0.5em;font-size:120%}</style><span><span class=\"pagenum\" id=\"147\" title=\"Página:Storni Mundo 7 Pozos.djvu/149\"></span></span><h2 style=\"text-align:center;width:auto;border-bottom:0 none\"><span class=\"mw-headline\" id=\"CANCION_DE_LA_MUJER_ASTUTA\">CANCION DE LA MUJER ASTUTA</span></h2>\\n<div style=\"text-align:;width:auto;display: table; margin-right:auto; margin-left:auto;\">\\n<div class=\"poem\">\\n<p><span class=\"mw-poem-indented\" style=\"display: inline-block; margin-inline-start: 1em;\">Cada rítmica luna que pasa soy llamada,</span><br />\\npor los números graves de Dios, a dar mi vida<br />\\nen otra vida: mezcla de tinta azul teñida;<br />\\nla misma extraña mezcla con que he sido amasada.<br />\\n<br />\\n<span class=\"mw-poem-indented\" style=\"display: inline-block; margin-inline-start: 1em;\">Y a través de mi carne, miserable y cansada,</span><br />\\nfiltra un cálido viento de tierra prometida.<br />\\ny bebe, dulce aroma, mi nariz dilatada<br />\\na la selva exultante y a la rama nutrida.<br />\\n<br />\\n</p>\\n</div>&#32;<span><span class=\"pagenum\" id=\"148\" title=\"Página:Storni Mundo 7 Pozos.djvu/150\"></span></span><div class=\"poem\">\\n<p>Un engañoso canto de sirena me cantas.<br />\\n¡Naturaleza astuta! Me atraes y me encantas<br />\\npara cargarme luego de alguna humana fruta.<br />\\n<br />\\nEngaño por engaño: mi belleza se esquiva<br />\\nal llamado solemne y de esta fiebre viva,<br />\\nalgún amor estéril y de paso, disfruta.\\n</p>\\n</div>\\n</div>&#32;\\n</div>\\n<!-- \\nNewPP limit report\\nParsed by mw1395\\nCached time: 20220730205548\\nCache expiry: 1814400\\nReduced expiry: false\\nComplications: []\\nCPU time usage: 0.145 seconds\\nReal time usage: 0.233 seconds\\nPreprocessor visited node count: 241/1000000\\nPost‐expand include size: 5796/2097152 bytes\\nTemplate argument size: 310/2097152 bytes\\nHighest expansion depth: 8/100\\nExpensive parser function count: 0/500\\nUnstrip recursion depth: 2/20\\nUnstrip post‐expand size: 7155/5000000 bytes\\nLua time usage: 0.021/10.000 seconds\\nLua memory usage: 1224864/52428800 bytes\\nNumber of Wikibase entities loaded: 1/400\\n-->\\n<!--\\nTransclusion expansion time report (%,ms,calls,template)\\n100.00%  116.325      1 -total\\n 72.36%   84.173      1 MediaWiki:Proofreadpage_header_template\\n 68.40%   79.561      1 Plantilla:Encabezado\\n 13.70%   15.938      1 Página:Storni_Mundo_7_Pozos.djvu/149\\n  6.43%    7.480      1 Página:Storni_Mundo_7_Pozos.djvu/150\\n  4.27%    4.969      1 Plantilla:Interwiki-extra\\n  3.56%    4.140      1 Plantilla:T2\\n  2.34%    2.719      1 Plantilla:Bloque_centro/c\\n  1.70%    1.975      2 MediaWiki:Proofreadpage_pagenum_template\\n  1.58%    1.843      1 Plantilla:Bloque_centro/f\\n-->\\n\\n<!-- Saved in parser cache with key eswikisource:pcache:idhash:22820-0!canonical and timestamp 20220730205547 and revision id 1213139.\\n -->\\n</div><noscript><img src=\"//es.wikisource.org/wiki/Special:CentralAutoLogin/start?type=1x1\" alt=\"\" title=\"\" width=\"1\" height=\"1\" style=\"border: none; position: absolute;\" /></noscript>\\n<div class=\"printfooter\">Obtenido de «<a dir=\"ltr\" href=\"https://es.wikisource.org/w/index.php?title=Canción_de_la_mujer_astuta&amp;oldid=1213139\">https://es.wikisource.org/w/index.php?title=Canción_de_la_mujer_astuta&amp;oldid=1213139</a>»</div></div>\\n\\t\\t<div id=\"catlinks\" class=\"catlinks\" data-mw=\"interface\"><div id=\"mw-normal-catlinks\" class=\"mw-normal-catlinks\"><a href=\"/wiki/Especial:Categor%C3%ADas\" title=\"Especial:Categorías\">Categorías</a>: <ul><li><a href=\"/wiki/Categor%C3%ADa:P1935\" title=\"Categoría:P1935\">P1935</a></li><li><a href=\"/wiki/Categor%C3%ADa:Publicado_en_Argentina\" title=\"Categoría:Publicado en Argentina\">Publicado en Argentina</a></li><li><a href=\"/wiki/Categor%C3%ADa:ES-C\" title=\"Categoría:ES-C\">ES-C</a></li><li><a href=\"/wiki/Categor%C3%ADa:Poes%C3%ADas\" title=\"Categoría:Poesías\">Poesías</a></li><li><a href=\"/wiki/Categor%C3%ADa:Poes%C3%ADas_de_Alfonsina_Storni\" title=\"Categoría:Poesías de Alfonsina Storni\">Poesías de Alfonsina Storni</a></li></ul></div></div>\\n\\t</div>\\n</div>\\n\\n<div id=\"mw-navigation\">\\n\\t<h2>Menú de navegación</h2>\\n\\t<div id=\"mw-head\">\\n\\t\\t\\n\\n<nav id=\"p-personal\" class=\"vector-menu mw-portlet mw-portlet-personal vector-user-menu-legacy\" aria-labelledby=\"p-personal-label\" role=\"navigation\"  >\\n\\t<h3\\n\\t\\tid=\"p-personal-label\"\\n\\t\\t\\n\\t\\tclass=\"vector-menu-heading \"\\n\\t>\\n\\t\\t<span class=\"vector-menu-heading-label\">Herramientas personales</span>\\n\\t</h3>\\n\\t<div class=\"vector-menu-content\">\\n\\t\\t\\n\\t\\t<ul class=\"vector-menu-content-list\"><li id=\"pt-anonuserpage\" class=\"mw-list-item\"><span title=\"La página de usuario de la IP desde la que editas\">No has accedido</span></li><li id=\"pt-anontalk\" class=\"mw-list-item\"><a href=\"/wiki/Especial:MiDiscusi%C3%B3n\" title=\"Discusión sobre ediciones hechas desde esta dirección IP [n]\" accesskey=\"n\"><span>Discusión</span></a></li><li id=\"pt-anoncontribs\" class=\"mw-list-item\"><a href=\"/wiki/Especial:MisContribuciones\" title=\"Una lista de modificaciones hechas desde esta dirección IP [y]\" accesskey=\"y\"><span>Contribuciones</span></a></li><li id=\"pt-createaccount\" class=\"mw-list-item\"><a href=\"/w/index.php?title=Especial:Crear_una_cuenta&amp;returnto=Canci%C3%B3n+de+la+mujer+astuta\" title=\"Te recomendamos crear una cuenta e iniciar sesión; sin embargo, no es obligatorio\"><span>Crear una cuenta</span></a></li><li id=\"pt-login\" class=\"mw-list-item\"><a href=\"/w/index.php?title=Especial:Entrar&amp;returnto=Canci%C3%B3n+de+la+mujer+astuta\" title=\"Te recomendamos iniciar sesión, aunque no es obligatorio [o]\" accesskey=\"o\"><span>Acceder</span></a></li></ul>\\n\\t\\t\\n\\t</div>\\n</nav>\\n\\n\\t\\t<div id=\"left-navigation\">\\n\\t\\t\\t\\n\\n<nav id=\"p-namespaces\" class=\"vector-menu mw-portlet mw-portlet-namespaces vector-menu-tabs vector-menu-tabs-legacy\" aria-labelledby=\"p-namespaces-label\" role=\"navigation\"  >\\n\\t<h3\\n\\t\\tid=\"p-namespaces-label\"\\n\\t\\t\\n\\t\\tclass=\"vector-menu-heading \"\\n\\t>\\n\\t\\t<span class=\"vector-menu-heading-label\">Espacios de nombres</span>\\n\\t</h3>\\n\\t<div class=\"vector-menu-content\">\\n\\t\\t\\n\\t\\t<ul class=\"vector-menu-content-list\"><li id=\"ca-nstab-main\" class=\"selected mw-list-item\"><a href=\"/wiki/Canci%C3%B3n_de_la_mujer_astuta\" title=\"Ver la página de contenido [c]\" accesskey=\"c\"><span>Página</span></a></li><li id=\"ca-talk\" class=\"new mw-list-item\"><a href=\"/w/index.php?title=Discusi%C3%B3n:Canci%C3%B3n_de_la_mujer_astuta&amp;action=edit&amp;redlink=1\" rel=\"discussion\" title=\"Discusión acerca de la página (la página no existe) [t]\" accesskey=\"t\"><span>Discusión</span></a></li></ul>\\n\\t\\t\\n\\t</div>\\n</nav>\\n\\n\\t\\t\\t\\n\\n<nav id=\"p-variants\" class=\"vector-menu mw-portlet mw-portlet-variants emptyPortlet vector-menu-dropdown-noicon vector-menu-dropdown\" aria-labelledby=\"p-variants-label\" role=\"navigation\"  >\\n\\t<input type=\"checkbox\"\\n\\t\\tid=\"p-variants-checkbox\"\\n\\t\\trole=\"button\"\\n\\t\\taria-haspopup=\"true\"\\n\\t\\tdata-event-name=\"ui.dropdown-p-variants\"\\n\\t\\tclass=\"vector-menu-checkbox\"\\n\\t\\taria-labelledby=\"p-variants-label\"\\n\\t/>\\n\\t<label\\n\\t\\tid=\"p-variants-label\"\\n\\t\\t aria-label=\"Cambiar variante de idioma\"\\n\\t\\tclass=\"vector-menu-heading \"\\n\\t>\\n\\t\\t<span class=\"vector-menu-heading-label\">español</span>\\n\\t</label>\\n\\t<div class=\"vector-menu-content\">\\n\\t\\t\\n\\t\\t<ul class=\"vector-menu-content-list\"></ul>\\n\\t\\t\\n\\t</div>\\n</nav>\\n\\n\\t\\t</div>\\n\\t\\t<div id=\"right-navigation\">\\n\\t\\t\\t\\n\\n<nav id=\"p-views\" class=\"vector-menu mw-portlet mw-portlet-views vector-menu-tabs vector-menu-tabs-legacy\" aria-labelledby=\"p-views-label\" role=\"navigation\"  >\\n\\t<h3\\n\\t\\tid=\"p-views-label\"\\n\\t\\t\\n\\t\\tclass=\"vector-menu-heading \"\\n\\t>\\n\\t\\t<span class=\"vector-menu-heading-label\">Vistas</span>\\n\\t</h3>\\n\\t<div class=\"vector-menu-content\">\\n\\t\\t\\n\\t\\t<ul class=\"vector-menu-content-list\"><li id=\"ca-view\" class=\"selected mw-list-item\"><a href=\"/wiki/Canci%C3%B3n_de_la_mujer_astuta\"><span>Leer</span></a></li><li id=\"ca-edit\" class=\"mw-list-item\"><a href=\"/w/index.php?title=Canci%C3%B3n_de_la_mujer_astuta&amp;action=edit\" title=\"Editar esta página [e]\" accesskey=\"e\"><span>Editar</span></a></li><li id=\"ca-history\" class=\"mw-list-item\"><a href=\"/w/index.php?title=Canci%C3%B3n_de_la_mujer_astuta&amp;action=history\" title=\"Versiones anteriores de esta página [h]\" accesskey=\"h\"><span>Ver historial</span></a></li></ul>\\n\\t\\t\\n\\t</div>\\n</nav>\\n\\n\\t\\t\\t\\n\\n<nav id=\"p-cactions\" class=\"vector-menu mw-portlet mw-portlet-cactions emptyPortlet vector-menu-dropdown-noicon vector-menu-dropdown\" aria-labelledby=\"p-cactions-label\" role=\"navigation\"  title=\"Más opciones\" >\\n\\t<input type=\"checkbox\"\\n\\t\\tid=\"p-cactions-checkbox\"\\n\\t\\trole=\"button\"\\n\\t\\taria-haspopup=\"true\"\\n\\t\\tdata-event-name=\"ui.dropdown-p-cactions\"\\n\\t\\tclass=\"vector-menu-checkbox\"\\n\\t\\taria-labelledby=\"p-cactions-label\"\\n\\t/>\\n\\t<label\\n\\t\\tid=\"p-cactions-label\"\\n\\t\\t\\n\\t\\tclass=\"vector-menu-heading \"\\n\\t>\\n\\t\\t<span class=\"vector-menu-heading-label\">Más</span>\\n\\t</label>\\n\\t<div class=\"vector-menu-content\">\\n\\t\\t\\n\\t\\t<ul class=\"vector-menu-content-list\"></ul>\\n\\t\\t\\n\\t</div>\\n</nav>\\n\\n\\t\\t\\t\\n<div id=\"p-search\" role=\"search\" class=\"vector-search-box-vue  vector-search-box-show-thumbnail vector-search-box-auto-expand-width vector-search-box\">\\n\\t<div>\\n\\t\\t\\t<h3 >\\n\\t\\t\\t\\t<label for=\"searchInput\">Buscar</label>\\n\\t\\t\\t</h3>\\n\\t\\t<form action=\"/w/index.php\" id=\"searchform\"\\n\\t\\t\\tclass=\"vector-search-box-form\">\\n\\t\\t\\t<div id=\"simpleSearch\"\\n\\t\\t\\t\\tclass=\"vector-search-box-inner\"\\n\\t\\t\\t\\t data-search-loc=\"header-navigation\">\\n\\t\\t\\t\\t<input class=\"vector-search-box-input\"\\n\\t\\t\\t\\t\\t type=\"search\" name=\"search\" placeholder=\"Buscar en Wikisource\" aria-label=\"Buscar en Wikisource\" autocapitalize=\"sentences\" title=\"Buscar en Wikisource [f]\" accesskey=\"f\" id=\"searchInput\"\\n\\t\\t\\t\\t>\\n\\t\\t\\t\\t<input type=\"hidden\" name=\"title\" value=\"Especial:Buscar\">\\n\\t\\t\\t\\t<input id=\"mw-searchButton\"\\n\\t\\t\\t\\t\\t class=\"searchButton mw-fallbackSearchButton\" type=\"submit\" name=\"fulltext\" title=\"Buscar este texto en las páginas\" value=\"Buscar\">\\n\\t\\t\\t\\t<input id=\"searchButton\"\\n\\t\\t\\t\\t\\t class=\"searchButton\" type=\"submit\" name=\"go\" title=\"Ir a la página con este nombre exacto si existe\" value=\"Ir\">\\n\\t\\t\\t</div>\\n\\t\\t</form>\\n\\t</div>\\n</div>\\n\\n\\t\\t</div>\\n\\t</div>\\n\\t\\n\\n<div id=\"mw-panel\">\\n\\t<div id=\"p-logo\" role=\"banner\">\\n\\t\\t<a class=\"mw-wiki-logo\" href=\"/wiki/Portada\"\\n\\t\\t\\ttitle=\"Visitar la página principal\"></a>\\n\\t</div>\\n\\t\\n\\n<nav id=\"p-navigation\" class=\"vector-menu mw-portlet mw-portlet-navigation vector-menu-portal portal\" aria-labelledby=\"p-navigation-label\" role=\"navigation\"  >\\n\\t<h3\\n\\t\\tid=\"p-navigation-label\"\\n\\t\\t\\n\\t\\tclass=\"vector-menu-heading \"\\n\\t>\\n\\t\\t<span class=\"vector-menu-heading-label\">Navegación</span>\\n\\t</h3>\\n\\t<div class=\"vector-menu-content\">\\n\\t\\t\\n\\t\\t<ul class=\"vector-menu-content-list\"><li id=\"n-mainpage-description\" class=\"mw-list-item\"><a href=\"/wiki/Portada\" title=\"Visitar la página principal [z]\" accesskey=\"z\"><span>Portada</span></a></li><li id=\"n-portal\" class=\"mw-list-item\"><a href=\"/wiki/Wikisource:Portal_de_la_comunidad\" title=\"Acerca del proyecto, lo que puedes hacer, dónde encontrar información\"><span>Portal de la comunidad</span></a></li><li id=\"n-currentevents\" class=\"mw-list-item\"><a href=\"/wiki/Wikisource:Caf%C3%A9\" title=\"Encuentra información de contexto sobre acontecimientos actuales\"><span>Café</span></a></li><li id=\"n-recentchanges\" class=\"mw-list-item\"><a href=\"/wiki/Especial:CambiosRecientes\" title=\"Lista de cambios recientes en la wiki [r]\" accesskey=\"r\"><span>Cambios recientes</span></a></li><li id=\"n-Obra-aleatoria\" class=\"mw-list-item\"><a href=\"/wiki/Especial:RandomRootpage/Main\"><span>Obra aleatoria</span></a></li><li id=\"n-Libro-aleatorio\" class=\"mw-list-item\"><a href=\"/wiki/Especial:RandomRootpage/%C3%8Dndice\"><span>Libro aleatorio</span></a></li><li id=\"n-help\" class=\"mw-list-item\"><a href=\"https://es.wikisource.org/wiki/Wikisource:Ayuda\" title=\"El lugar para aprender\"><span>Ayuda</span></a></li><li id=\"n-sitesupport\" class=\"mw-list-item\"><a href=\"//donate.wikimedia.org/wiki/Special:FundraiserRedirector?utm_source=donate&amp;utm_medium=sidebar&amp;utm_campaign=C13_es.wikisource.org&amp;uselang=es\" title=\"Apóyanos\"><span>Donaciones</span></a></li></ul>\\n\\t\\t\\n\\t</div>\\n</nav>\\n\\n\\t\\n\\n<nav id=\"p-tb\" class=\"vector-menu mw-portlet mw-portlet-tb vector-menu-portal portal\" aria-labelledby=\"p-tb-label\" role=\"navigation\"  >\\n\\t<h3\\n\\t\\tid=\"p-tb-label\"\\n\\t\\t\\n\\t\\tclass=\"vector-menu-heading \"\\n\\t>\\n\\t\\t<span class=\"vector-menu-heading-label\">Herramientas</span>\\n\\t</h3>\\n\\t<div class=\"vector-menu-content\">\\n\\t\\t\\n\\t\\t<ul class=\"vector-menu-content-list\"><li id=\"t-whatlinkshere\" class=\"mw-list-item\"><a href=\"/wiki/Especial:LoQueEnlazaAqu%C3%AD/Canci%C3%B3n_de_la_mujer_astuta\" title=\"Lista de todas las páginas de la wiki que enlazan aquí [j]\" accesskey=\"j\"><span>Lo que enlaza aquí</span></a></li><li id=\"t-recentchangeslinked\" class=\"mw-list-item\"><a href=\"/wiki/Especial:CambiosEnEnlazadas/Canci%C3%B3n_de_la_mujer_astuta\" rel=\"nofollow\" title=\"Cambios recientes en las páginas que enlazan con esta [k]\" accesskey=\"k\"><span>Cambios relacionados</span></a></li><li id=\"t-upload\" class=\"mw-list-item\"><a href=\"//commons.wikimedia.org/wiki/Special:UploadWizard?uselang=es\" title=\"Subir archivos [u]\" accesskey=\"u\"><span>Subir archivo</span></a></li><li id=\"t-specialpages\" class=\"mw-list-item\"><a href=\"/wiki/Especial:P%C3%A1ginasEspeciales\" title=\"Lista de todas las páginas especiales [q]\" accesskey=\"q\"><span>Páginas especiales</span></a></li><li id=\"t-permalink\" class=\"mw-list-item\"><a href=\"/w/index.php?title=Canci%C3%B3n_de_la_mujer_astuta&amp;oldid=1213139\" title=\"Enlace permanente a esta versión de la página\"><span>Enlace permanente</span></a></li><li id=\"t-info\" class=\"mw-list-item\"><a href=\"/w/index.php?title=Canci%C3%B3n_de_la_mujer_astuta&amp;action=info\" title=\"Más información sobre esta página\"><span>Información de la página</span></a></li><li id=\"t-cite\" class=\"mw-list-item\"><a href=\"/w/index.php?title=Especial:Citar&amp;page=Canci%C3%B3n_de_la_mujer_astuta&amp;id=1213139&amp;wpFormIdentifier=titleform\" title=\"Información sobre cómo citar esta página\"><span>Citar esta página</span></a></li><li id=\"t-wikibase\" class=\"mw-list-item\"><a href=\"https://www.wikidata.org/wiki/Special:EntityPage/Q19418603\" title=\"Enlace al elemento conectado del repositorio de datos [g]\" accesskey=\"g\"><span>Elemento de Wikidata</span></a></li></ul>\\n\\t\\t\\n\\t</div>\\n</nav>\\n\\n\\n<nav id=\"p-coll-print_export\" class=\"vector-menu mw-portlet mw-portlet-coll-print_export vector-menu-portal portal\" aria-labelledby=\"p-coll-print_export-label\" role=\"navigation\"  >\\n\\t<h3\\n\\t\\tid=\"p-coll-print_export-label\"\\n\\t\\t\\n\\t\\tclass=\"vector-menu-heading \"\\n\\t>\\n\\t\\t<span class=\"vector-menu-heading-label\">Imprimir/exportar</span>\\n\\t</h3>\\n\\t<div class=\"vector-menu-content\">\\n\\t\\t\\n\\t\\t<ul class=\"vector-menu-content-list\"><li id=\"coll-create_a_book\" class=\"mw-list-item\"><a href=\"/w/index.php?title=Especial:Libro&amp;bookcmd=book_creator&amp;referer=Canci%C3%B3n+de+la+mujer+astuta\"><span>Crear un libro</span></a></li><li id=\"t-print\" class=\"mw-list-item\"><a href=\"/w/index.php?title=Canci%C3%B3n_de_la_mujer_astuta&amp;printable=yes\" title=\"Versión imprimible de esta página [p]\" accesskey=\"p\"><span>Versión para imprimir</span></a></li><li id=\"wikisource-download-epub\" class=\"mw-list-item\"><a title=\"Descargar una versión EPUB de esta obra\" href=\"https://ws-export.wmcloud.org/?format=epub&amp;lang=es&amp;page=Canci%C3%B3n_de_la_mujer_astuta\"><span>Descargar en EPUB</span></a></li><li id=\"wikisource-download-mobi\" class=\"mw-list-item\"><a title=\"Descargar una versión MOBI de esta obra\" href=\"https://ws-export.wmcloud.org/?format=mobi&amp;lang=es&amp;page=Canci%C3%B3n_de_la_mujer_astuta\"><span>Descargar en MOBI</span></a></li><li id=\"wikisource-download-pdf\" class=\"mw-list-item\"><a title=\"Descargar una versión PDF de esta obra\" href=\"https://ws-export.wmcloud.org/?format=pdf&amp;lang=es&amp;page=Canci%C3%B3n_de_la_mujer_astuta\"><span>Descargar en PDF</span></a></li><li id=\"wikisource-download-choose\" class=\"mw-list-item\"><a title=\"Abrir formulario para seleccionar otros formatos, fuentes, etc.\" href=\"https://ws-export.wmcloud.org/?lang=es&amp;title=Canci%C3%B3n_de_la_mujer_astuta\"><span>Otros formatos</span></a></li></ul>\\n\\t\\t\\n\\t</div>\\n</nav>\\n\\n\\t\\n\\n<nav id=\"p-lang\" class=\"vector-menu mw-portlet mw-portlet-lang vector-menu-portal portal\" aria-labelledby=\"p-lang-label\" role=\"navigation\"  >\\n\\t<h3\\n\\t\\tid=\"p-lang-label\"\\n\\t\\t\\n\\t\\tclass=\"vector-menu-heading \"\\n\\t>\\n\\t\\t<span class=\"vector-menu-heading-label\">En otros idiomas</span>\\n\\t</h3>\\n\\t<div class=\"vector-menu-content\">\\n\\t\\t\\n\\t\\t<ul class=\"vector-menu-content-list\"></ul>\\n\\t\\t<div class=\"after-portlet after-portlet-lang\"><span class=\"uls-after-portlet-link\"></span><span class=\"wb-langlinks-add wb-langlinks-link\"><a href=\"https://www.wikidata.org/wiki/Special:EntityPage/Q19418603#sitelinks-wikisource\" title=\"Agregar enlaces interlingüísticos\" class=\"wbc-editpage\">Añadir enlaces</a></span></div>\\n\\t</div>\\n</nav>\\n\\n</div>\\n\\n</div>\\n\\n<footer id=\"footer\" class=\"mw-footer\" role=\"contentinfo\" >\\n\\t<ul id=\"footer-info\">\\n\\t<li id=\"footer-info-lastmod\"> Esta página se editó por última vez el 5 ene 2022 a las 16:18.</li>\\n\\t<li id=\"footer-info-copyright\">El texto está disponible bajo la <a href=\"https://creativecommons.org/licenses/by-sa/3.0/deed.es\">Licencia Creative Commons Atribución-CompartirIgual 3.0</a>;\\npueden aplicarse términos adicionales.\\nVéase <a href=\"https://foundation.wikimedia.org/wiki/Terms_of_Use/es\">Términos de uso</a> para más detalles.</li>\\n</ul>\\n\\n\\t<ul id=\"footer-places\">\\n\\t<li id=\"footer-places-privacy\"><a href=\"https://meta.wikimedia.org/wiki/Privacy_policy/es\">Política de privacidad</a></li>\\n\\t<li id=\"footer-places-about\"><a href=\"/wiki/Wikisource:Acerca_de\">Acerca de Wikisource</a></li>\\n\\t<li id=\"footer-places-disclaimer\"><a href=\"/wiki/Wikisource:Limitaci%C3%B3n_general_de_responsabilidad\">Aviso legal</a></li>\\n\\t<li id=\"footer-places-mobileview\"><a href=\"//es.m.wikisource.org/w/index.php?title=Canci%C3%B3n_de_la_mujer_astuta&amp;mobileaction=toggle_view_mobile\" class=\"noprint stopMobileRedirectToggle\">Versión para móviles</a></li>\\n\\t<li id=\"footer-places-developers\"><a href=\"https://developer.wikimedia.org\">Desarrolladores</a></li>\\n\\t<li id=\"footer-places-statslink\"><a href=\"https://stats.wikimedia.org/#/es.wikisource.org\">Estadísticas</a></li>\\n\\t<li id=\"footer-places-cookiestatement\"><a href=\"https://foundation.wikimedia.org/wiki/Cookie_statement/es\">Declaración de cookies</a></li>\\n</ul>\\n\\n\\t<ul id=\"footer-icons\" class=\"noprint\">\\n\\t<li id=\"footer-copyrightico\"><a href=\"https://wikimediafoundation.org/\"><img src=\"/static/images/footer/wikimedia-button.png\" srcset=\"/static/images/footer/wikimedia-button-1.5x.png 1.5x, /static/images/footer/wikimedia-button-2x.png 2x\" width=\"88\" height=\"31\" alt=\"Wikimedia Foundation\" loading=\"lazy\" /></a></li>\\n\\t<li id=\"footer-poweredbyico\"><a href=\"https://www.mediawiki.org/\"><img src=\"/static/images/footer/poweredby_mediawiki_88x31.png\" alt=\"Powered by MediaWiki\" srcset=\"/static/images/footer/poweredby_mediawiki_132x47.png 1.5x, /static/images/footer/poweredby_mediawiki_176x62.png 2x\" width=\"88\" height=\"31\" loading=\"lazy\"/></a></li>\\n</ul>\\n\\n</footer>\\n\\n<script>(RLQ=window.RLQ||[]).push(function(){mw.config.set({\"wgPageParseReport\":{\"limitreport\":{\"cputime\":\"0.145\",\"walltime\":\"0.233\",\"ppvisitednodes\":{\"value\":241,\"limit\":1000000},\"postexpandincludesize\":{\"value\":5796,\"limit\":2097152},\"templateargumentsize\":{\"value\":310,\"limit\":2097152},\"expansiondepth\":{\"value\":8,\"limit\":100},\"expensivefunctioncount\":{\"value\":0,\"limit\":500},\"unstrip-depth\":{\"value\":2,\"limit\":20},\"unstrip-size\":{\"value\":7155,\"limit\":5000000},\"entityaccesscount\":{\"value\":1,\"limit\":400},\"timingprofile\":[\"100.00%  116.325      1 -total\",\" 72.36%   84.173      1 MediaWiki:Proofreadpage_header_template\",\" 68.40%   79.561      1 Plantilla:Encabezado\",\" 13.70%   15.938      1 Página:Storni_Mundo_7_Pozos.djvu/149\",\"  6.43%    7.480      1 Página:Storni_Mundo_7_Pozos.djvu/150\",\"  4.27%    4.969      1 Plantilla:Interwiki-extra\",\"  3.56%    4.140      1 Plantilla:T2\",\"  2.34%    2.719      1 Plantilla:Bloque_centro/c\",\"  1.70%    1.975      2 MediaWiki:Proofreadpage_pagenum_template\",\"  1.58%    1.843      1 Plantilla:Bloque_centro/f\"]},\"scribunto\":{\"limitreport-timeusage\":{\"value\":\"0.021\",\"limit\":\"10.000\"},\"limitreport-memusage\":{\"value\":1224864,\"limit\":52428800},\"limitreport-logs\":\"\\\\u003Cdiv style=\\\\\"text-align:;width:auto;display: table; margin-right:auto; margin-left:auto;\\\\\" \\\\u003E\\\\n\"},\"cachereport\":{\"origin\":\"mw1395\",\"timestamp\":\"20220730205548\",\"ttl\":1814400,\"transientcontent\":false}}});});</script>\\n<script type=\"application/ld+json\">{\"@context\":\"https:\\\\/\\\\/schema.org\",\"@type\":\"Article\",\"name\":\"Canci\\\\u00f3n de la mujer astuta\",\"url\":\"https:\\\\/\\\\/es.wikisource.org\\\\/wiki\\\\/Canci%C3%B3n_de_la_mujer_astuta\",\"sameAs\":\"http:\\\\/\\\\/www.wikidata.org\\\\/entity\\\\/Q19418603\",\"mainEntity\":\"http:\\\\/\\\\/www.wikidata.org\\\\/entity\\\\/Q19418603\",\"author\":{\"@type\":\"Organization\",\"name\":\"Colaboradores de los proyectos Wikimedia\"},\"publisher\":{\"@type\":\"Organization\",\"name\":\"Wikimedia Foundation, Inc.\",\"logo\":{\"@type\":\"ImageObject\",\"url\":\"https:\\\\/\\\\/www.wikimedia.org\\\\/static\\\\/images\\\\/wmf-hor-googpub.png\"}},\"datePublished\":\"2006-08-17T02:26:50Z\",\"dateModified\":\"2022-01-05T16:18:32Z\",\"headline\":\"soneto de Alfonsina Storni\"}</script><script type=\"application/ld+json\">{\"@context\":\"https:\\\\/\\\\/schema.org\",\"@type\":\"Article\",\"name\":\"Canci\\\\u00f3n de la mujer astuta\",\"url\":\"https:\\\\/\\\\/es.wikisource.org\\\\/wiki\\\\/Canci%C3%B3n_de_la_mujer_astuta\",\"sameAs\":\"http:\\\\/\\\\/www.wikidata.org\\\\/entity\\\\/Q19418603\",\"mainEntity\":\"http:\\\\/\\\\/www.wikidata.org\\\\/entity\\\\/Q19418603\",\"author\":{\"@type\":\"Organization\",\"name\":\"Colaboradores de los proyectos Wikimedia\"},\"publisher\":{\"@type\":\"Organization\",\"name\":\"Wikimedia Foundation, Inc.\",\"logo\":{\"@type\":\"ImageObject\",\"url\":\"https:\\\\/\\\\/www.wikimedia.org\\\\/static\\\\/images\\\\/wmf-hor-googpub.png\"}},\"datePublished\":\"2006-08-17T02:26:50Z\",\"dateModified\":\"2022-01-05T16:18:32Z\",\"headline\":\"soneto de Alfonsina Storni\"}</script>\\n<script>(RLQ=window.RLQ||[]).push(function(){mw.config.set({\"wgBackendResponseTime\":105,\"wgHostname\":\"mw1436\"});});</script>\\n</body>\\n</html>'"
      ]
     },
     "execution_count": 96,
     "metadata": {},
     "output_type": "execute_result"
    }
   ],
   "source": [
    "html_poemas[3]"
   ]
  },
  {
   "cell_type": "code",
   "execution_count": 98,
   "metadata": {},
   "outputs": [],
   "source": [
    "soup3 = BeautifulSoup(html_poemas[3])\n",
    "div_poema = soup3.find_all(\"div\", \"poem\") + arbol.find_all(\"div\", \"verse\")"
   ]
  },
  {
   "cell_type": "code",
   "execution_count": 105,
   "metadata": {
    "scrolled": true
   },
   "outputs": [
    {
     "data": {
      "text/plain": [
       "'Mundo de siete pozos'"
      ]
     },
     "execution_count": 105,
     "metadata": {},
     "output_type": "execute_result"
    }
   ],
   "source": [
    "soup3.find(\"span\", attrs={\"class\": \"ws-title\"}).get_text().strip()"
   ]
  },
  {
   "cell_type": "code",
   "execution_count": null,
   "metadata": {},
   "outputs": [],
   "source": [
    ".get_text().strip()"
   ]
  },
  {
   "cell_type": "code",
   "execution_count": 99,
   "metadata": {},
   "outputs": [
    {
     "data": {
      "text/plain": [
       "[<div class=\"poem\">\n",
       " <p><span class=\"mw-poem-indented\" style=\"display: inline-block; margin-inline-start: 1em;\">Cada rítmica luna que pasa soy llamada,</span><br/>\n",
       " por los números graves de Dios, a dar mi vida<br/>\n",
       " en otra vida: mezcla de tinta azul teñida;<br/>\n",
       " la misma extraña mezcla con que he sido amasada.<br/>\n",
       " <br/>\n",
       " <span class=\"mw-poem-indented\" style=\"display: inline-block; margin-inline-start: 1em;\">Y a través de mi carne, miserable y cansada,</span><br/>\n",
       " filtra un cálido viento de tierra prometida.<br/>\n",
       " y bebe, dulce aroma, mi nariz dilatada<br/>\n",
       " a la selva exultante y a la rama nutrida.<br/>\n",
       " <br/>\n",
       " </p>\n",
       " </div>,\n",
       " <div class=\"poem\">\n",
       " <p>Un engañoso canto de sirena me cantas.<br/>\n",
       " ¡Naturaleza astuta! Me atraes y me encantas<br/>\n",
       " para cargarme luego de alguna humana fruta.<br/>\n",
       " <br/>\n",
       " Engaño por engaño: mi belleza se esquiva<br/>\n",
       " al llamado solemne y de esta fiebre viva,<br/>\n",
       " algún amor estéril y de paso, disfruta.\n",
       " </p>\n",
       " </div>]"
      ]
     },
     "execution_count": 99,
     "metadata": {},
     "output_type": "execute_result"
    }
   ],
   "source": [
    "div_poema"
   ]
  },
  {
   "cell_type": "code",
   "execution_count": 43,
   "metadata": {},
   "outputs": [
    {
     "data": {
      "text/plain": [
       "False"
      ]
     },
     "execution_count": 43,
     "metadata": {},
     "output_type": "execute_result"
    }
   ],
   "source": [
    "html_indiv_dir.joinpath(nombre_archivo + \".html\").is_file()"
   ]
  },
  {
   "cell_type": "code",
   "execution_count": 47,
   "metadata": {},
   "outputs": [],
   "source": [
    "#html_files = Path()\n",
    "html_files = html_indiv_dir.glob(\"*\")"
   ]
  },
  {
   "cell_type": "code",
   "execution_count": 49,
   "metadata": {},
   "outputs": [],
   "source": [
    "html_poemas = []\n",
    "for nom_fich in html_files:\n",
    "    with open(nom_fich) as defi_in:\n",
    "        txt = defi_in.read()\n",
    "        html_poemas.append(txt)"
   ]
  }
 ],
 "metadata": {
  "kernelspec": {
   "display_name": "PyCharm (repo)",
   "language": "python",
   "name": "pycharm-fb3330b0"
  },
  "language_info": {
   "codemirror_mode": {
    "name": "ipython",
    "version": 3
   },
   "file_extension": ".py",
   "mimetype": "text/x-python",
   "name": "python",
   "nbconvert_exporter": "python",
   "pygments_lexer": "ipython3",
   "version": "3.8.11"
  },
  "pycharm": {
   "stem_cell": {
    "cell_type": "raw",
    "metadata": {
     "collapsed": false
    },
    "source": []
   }
  }
 },
 "nbformat": 4,
 "nbformat_minor": 1
}
