{
 "cells": [
  {
   "cell_type": "markdown",
   "metadata": {},
   "source": [
    "# Extracción de contenido (*scraping*) con el lenguaje de programación Python\n",
    "\n",
    "<html><p><span style=\"font-size:x-small\">En GitHub, los enlaces de la tabla de contenidos no funcionan. Para una versión con enlaces, abrir en <a href=\"https://nbviewer.org/github/HD-aula-Literatura/II-2-scraping/blob/main/02-extraccion-con-python/01-extraccion-desde-html.ipynb\" target=\"_blank\">NbViewer</a>. Para una versión interactiva del notebook, abrir en Binder:</span></p></html>\n",
    "\n",
    "[![badge](https://img.shields.io/badge/abrir-binder-579ACA.svg?logo=data:image/png;base64,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)](https://mybinder.org/v2/gh/HD-aula-Literatura/II-2-scraping/374e6a2de8d63642813cfd4aefe3ed7cc8fde722?urlpath=lab%2Ftree%2F02-extraccion-con-python%2F01-extraccion-desde-html.ipynb)\n",
    "\n",
    "\n",
    "- [Introducción](#intro)\n",
    "- [Extracción de un poema dado su URL](#extraccion-poema-indiv)\n",
    "    - [Bajar el contenido de un URL](#bajar-url)\n",
    "    - [Extraer el contenido](#extraer-contenido)\n",
    "        - [Obtener los metadatos](#metadatos-indiv)\n",
    "        - [Obtener el texto del poema](#texto-indiv)\n",
    "    - [Escribir la información extraída en archivos de salida](#salida-archivo)\n",
    "- [Extracción de múltiples poemas a partir de una lista de URLs](#extraccion-poema-multiple)\n",
    "    - [Crear la lista de URLs](#crear-lista-urls)\n",
    "    - [Bajar el contenido](#bajar-lista-urls)\n",
    "    - [Extraer la información](#extraer-contenido-multiple)\n",
    "    - [Guardar los resultados](#salida-archivos)\n",
    "\n",
    "\n",
    "<a name=\"intro\"></a>\n",
    "# Introducción\n",
    "\n",
    "Veremos cómo efectuar las operaciones siguientes:\n",
    "\n",
    "- Bajar el contenido (en HTML) de uno o varios URL\n",
    "- Analizar (parsing) el HTML de forma automática para extraer el contenido de las etiquetas que nos interesan\n",
    "- Crear archivos de salida con la información extraída y archivos de entrada con información a explotar para la extracción\n",
    "\n",
    "<html><!--\n",
    "%TODO% añadir información sobre cómo usar un notebook Jupyter\n",
    "-->\n",
    "</html>\n",
    "\n",
    "<a name=\"extraccion-poema-indiv\"></a>\n",
    "## Extraer el contenido y metadatos de un poema, dado sur URL\n",
    "\n",
    "Esta tarea corresponde a lo realizado con OpenRefine en la sección 4.1 del capítulo.\n",
    "\n",
    "<a name=\"bajar-url\"></a>\n",
    "### Bajar el contenido de un URL\n",
    "\n",
    "Para bajar el contenido usamos la biblioteca (conjunto de instrucciones que podemos utilizar desde código Python) [requests](https://requests.readthedocs.io/en/latest/)\n",
    "\n",
    "En caso de que la biblioteca no esté instalada (lo cual se verá ya que, al intentar usarla, habrá un mensaje de error que lo indique), se puede instalar con `pip install requests` (ver [documentación](https://requests.readthedocs.io/en/latest/))\n",
    "\n",
    "En el código siguiente, se siguen varias etapas:\n",
    "- importamos los paquetes o bibliotecas a utilizar\n",
    "- el URL se asigna, como cadena de caracteres (entre comillas), a una variable llamada `url_pagina` \n",
    "- hacemos una petición para obtener el contenido de la página, con `requests.get()`\n",
    "- obtenemos una respuesta, asignada a la variable `respuesta`. Esta respuesta tiene propiedades interesantes, como las siguientes\n",
    "  - `.status_code`, que será 200 si el contenido se ha bajado correctamente, u otro código (p. ej. 404 o 500) en caso de error\n",
    "  - `.text`: devuelve una cadena de texto que representa el contenido de la página. En este caso se trata de contenido HTML (una cadena de texto que representa el HTML de la página).\n",
    "- Asignamos el contenido de la página (`respuesta.text`) a la variable `html_pagina`. Necesitamos este contenido para crear el árbol HTML que explotaremos para la extracción"
   ]
  },
  {
   "cell_type": "code",
   "execution_count": 2,
   "metadata": {
    "pycharm": {
     "is_executing": false,
     "name": "#%%\n"
    }
   },
   "outputs": [],
   "source": [
    "import requests\n",
    "url_pagina = \"https://es.wikisource.org/wiki/Una_vi%C3%B1eta\"\n",
    "respuesta = requests.get(url_pagina)\n",
    "html_pagina = respuesta.text"
   ]
  },
  {
   "cell_type": "markdown",
   "metadata": {
    "pycharm": {
     "name": "#%% md\n"
    }
   },
   "source": [
    "<a name=\"extraer-contenido\"></a>\n",
    "### Extraer el contenido\n",
    "\n",
    "Usaremos el árbol HTML para esto. Ya vimos este tipo de enfoque, con OpenRefine, cuyo lenguaje [GREL](https://docs.openrefine.org/manual/grelfunctions) tiene une instrucción `parseHtml()` para crear el árbol\n",
    "\n",
    "Con Python, para crear el árbol HTML y extraer el contenido, utilizaremos la \"biblioteca\" [BeautifulSoup](https://www.crummy.com/software/BeautifulSoup/bs4/doc/), ampliamente utilizada. Etapas:\n",
    "\n",
    "- Importamos la biblioteca, con la instrucción `from bs4 import BeautifulSoup`\n",
    "- En caso de que la biblioteca no esté instalada (lo cual se verá ya que, al intentar usarla, habrá un mensaje de error que lo indique), se puede instalar con `pip install beautifulsoup4` (ver [documentación](https://www.crummy.com/software/BeautifulSoup/bs4/doc/))\n",
    "- Creamos el árbol HTML a partir de la cadena de texto que lo representa (obtenida más arriva), con `BeautifulSoup(html_pagina)`\n",
    "\n",
    "Nota: Es habitual llamar \"soup\" o \"sopa\" a la representación de contenido HTML analizado con una biblioteca (BeautifulSoup en Python, [JSoup](https://jsoup.org/apidocs/org/jsoup/select/Selector.html) en Java; por cierto OpenRefine en tanto que herramienta creada en Java usa JSoup)"
   ]
  },
  {
   "cell_type": "code",
   "execution_count": 3,
   "metadata": {
    "pycharm": {
     "is_executing": false,
     "name": "#%%\n"
    }
   },
   "outputs": [],
   "source": [
    "from bs4 import BeautifulSoup\n",
    "arbol = BeautifulSoup(html_pagina)"
   ]
  },
  {
   "cell_type": "markdown",
   "metadata": {
    "pycharm": {
     "name": "#%% md\n"
    }
   },
   "source": [
    "<a name=\"metadatos-indiv\"></a>\n",
    "#### Obtener los metadatos\n",
    "\n",
    "Una vez que el árbol está disponible, podemos extraer información basándonos en el nombre y atributos de los elementos, como hicimos con OpenRefine en el capítulo.\n",
    "\n",
    "- Para el elemento de la autora, buscaremos un elemento `<span class='ws-author'>` (es decir, un elemento `span` con un atributo `class` cuyo valor es `ws-author`).\n",
    "\n",
    "- Para el elemento del título, buscaremos un elemento `<span class='ws-title'>` (es decir, un elemento `span` con un atributo `class` cuyo valor es `ws-title`).\n",
    "\n",
    "Para hacer esta búsqueda, podemos usar el método `find_all()`, disponible a partir del objeto árbol (que está asignado a la variable `arbol`). Hay varias formas posibles de proceder (ver [documentación](https://www.crummy.com/software/BeautifulSoup/bs4/doc/#find-all)), pero una manera genérica es la siguiente:\n",
    "\n",
    "```python\n",
    "arbol.find_all(\"span\", attrs={\"class\": 'ws-title'})\n",
    "``` \n",
    "Como se ve en el ejemplo, como argumentos a `find_all()` se da el nombre del elemento, y después la sequencia `attrs=` seguida del nombre y valor del atributo buscado, respetando la sintaxis del ejemplo (cadenas entrecomilladas separadas por el signo dos puntos)\n",
    "\n",
    "<html><!--Comentario si usamos class_ Cabe mencionar que la clave de búsqueda no es `class` sino `class`, ya que la palabra *class* ya tiene otra utilización en Python.--></html> \n",
    "\n",
    "Asignaremos el resultado de cada búsqueda a una variable."
   ]
  },
  {
   "cell_type": "code",
   "execution_count": 4,
   "metadata": {
    "pycharm": {
     "is_executing": false,
     "name": "#%%\n"
    }
   },
   "outputs": [],
   "source": [
    "autora_ele = arbol.find_all(\"span\", attrs={\"class\": \"ws-author\"})\n",
    "titulo_ele = arbol.find_all(\"span\", attrs={\"class\": \"ws-title\"})"
   ]
  },
  {
   "cell_type": "markdown",
   "metadata": {
    "pycharm": {
     "name": "#%% md\n"
    }
   },
   "source": [
    "Si miramos el contenido de las variables, veremos que, como pasaba con `select()` en las consultas de HTML en OpenRefine, `find_all()` devuelve una lista de valores.\n",
    "\n",
    "Podemos examinar el contenido de las variables simplemente escribiendo su nombre en una celda de notebook Jupyter o en una consola de Python, o con la función `print()`, pasándole el nombre de la variable como argumento."
   ]
  },
  {
   "cell_type": "code",
   "execution_count": 5,
   "metadata": {
    "pycharm": {
     "is_executing": false,
     "name": "#%%\n"
    }
   },
   "outputs": [
    {
     "data": {
      "text/plain": [
       "[<span class=\"ws-author\">Delmira Agustini</span>]"
      ]
     },
     "execution_count": 5,
     "metadata": {},
     "output_type": "execute_result"
    }
   ],
   "source": [
    "# comentario: escribir nombre de variable para ver su valor\n",
    "autora_ele"
   ]
  },
  {
   "cell_type": "code",
   "execution_count": 6,
   "metadata": {
    "pycharm": {
     "is_executing": false,
     "name": "#%%\n"
    }
   },
   "outputs": [
    {
     "name": "stdout",
     "output_type": "stream",
     "text": [
      "[<span class=\"ws-author\">Delmira Agustini</span>]\n"
     ]
    }
   ],
   "source": [
    "# ver valor de una variable con print()\n",
    "print(autora_ele)"
   ]
  },
  {
   "cell_type": "markdown",
   "metadata": {
    "pycharm": {
     "name": "#%% md\n"
    }
   },
   "source": [
    "En tanto que listas, accederemos a su contenido con índices numéricos, y se empieza a contar por cero: `autora_ele[0]`.\n",
    "\n",
    "Como pasaba con OpenRefine, como salida de nuestro procesamiento no queremos un \"elemento\", un \"nodo\" de un árbol con propiedades útiles para su análisis con funciones de manipulación del árbol, sino una cadena de texto. Para esto, podemos usar el método `get_text()` de los elementos tal que analizados por BeautifulSoup. "
   ]
  },
  {
   "cell_type": "code",
   "execution_count": 7,
   "metadata": {
    "pycharm": {
     "is_executing": false,
     "name": "#%%\n"
    }
   },
   "outputs": [],
   "source": [
    "autora = autora_ele[0].get_text()\n",
    "titulo = titulo_ele[0].get_text()"
   ]
  },
  {
   "cell_type": "markdown",
   "metadata": {
    "pycharm": {
     "name": "#%% md\n"
    }
   },
   "source": [
    "Si inspeccionamos el contenido de las variables con `print()`, veremos que ahora sí contienen una cadena de texto con la información deseada"
   ]
  },
  {
   "cell_type": "code",
   "execution_count": 8,
   "metadata": {
    "pycharm": {
     "is_executing": false,
     "name": "#%%\n"
    }
   },
   "outputs": [
    {
     "name": "stdout",
     "output_type": "stream",
     "text": [
      "Delmira Agustini\n",
      "Una viñeta\n"
     ]
    }
   ],
   "source": [
    "print(autora)\n",
    "print(titulo)"
   ]
  },
  {
   "cell_type": "markdown",
   "metadata": {
    "pycharm": {
     "name": "#%% md\n"
    }
   },
   "source": [
    "<a name=\"texto-indiv\"></a>\n",
    "#### Obtener el texto del poema\n",
    "\n",
    "Pasamos a la extracción del texto. Hay varias formas de hacer esto, algunas muy compactas. Usamos aquí una manera de hacerlo similar a lo que se hizo en el capítulo con OpenRefine.\n",
    "\n",
    "Se trata de identficar elementos `<div class='poem'>`. Podríamos usar la misma sintaxis que antes, que era `arbol.find_all(\"div\", attrs={\"class\":\"poem\"}`, pero cuando el atributo con el que trabajamos es `class`, podemos usar una sintaxis abreviada, como en el ejemplo.\n",
    "\n",
    "Además de `find_all()`, que devuelve una lista, también hay un método `find()` que devuelve directamente un elemento en vez de una lista. Vamos a usarlo esta vez."
   ]
  },
  {
   "cell_type": "code",
   "execution_count": 9,
   "metadata": {
    "pycharm": {
     "is_executing": false,
     "name": "#%% \n"
    }
   },
   "outputs": [],
   "source": [
    "poema_div = arbol.find(\"div\", \"poem\")"
   ]
  },
  {
   "cell_type": "code",
   "execution_count": 10,
   "metadata": {
    "pycharm": {
     "is_executing": false,
     "name": "#%%\n"
    }
   },
   "outputs": [
    {
     "name": "stdout",
     "output_type": "stream",
     "text": [
      "<div class=\"poem\">\n",
      "<p> Tarde sucia de invierno. El caserío,   <br/>\n",
      " como si fuera un croquis al creyón,   <br/>\n",
      " se hunde en la noche. El humo de un bohío,   <br/>\n",
      " que sube en forma de tirabuzón;   <br/>\n",
      " <br/>\n",
      "<br/>\n",
      " mancha el paisaje que produce frío,  <br/>\n",
      " y debajo de la genuflexión   <br/>\n",
      " de la arboleda, somormuja el río   <br/>\n",
      " su canción, su somnífera canción.   <br/>\n",
      " <br/>\n",
      "<br/>\n",
      " Los labradores, camellón abajo,   <br/>\n",
      " retornan fatigosos del trabajo,  <br/>\n",
      " como un problema sin definición.   <br/>\n",
      " <br/>\n",
      "<br/>\n",
      " Y el dueño del terruño, indiferente,   <br/>\n",
      " rápidamente, muy rápidamente,   <br/>\n",
      " baja en su coche por el camellón.\n",
      "</p>\n",
      "</div>\n"
     ]
    }
   ],
   "source": [
    "print(poema_div)"
   ]
  },
  {
   "cell_type": "markdown",
   "metadata": {
    "pycharm": {
     "name": "#%% md\n"
    }
   },
   "source": [
    "No hemos llegado todavía al elemento que contiene el poema, que es en realidad un `<p>` bajo el `<div class='poem'>`. Una manera fácil de hacerlo es con el método `find()` de nuevo."
   ]
  },
  {
   "cell_type": "code",
   "execution_count": 11,
   "metadata": {
    "pycharm": {
     "is_executing": false,
     "name": "#%%\n"
    }
   },
   "outputs": [],
   "source": [
    "poema_ele = poema_div.find(\"p\")"
   ]
  },
  {
   "cell_type": "markdown",
   "metadata": {
    "pycharm": {
     "name": "#%% md\n"
    }
   },
   "source": [
    "Para obtener el texto, existe el método `get_text()`. Devuelve el texto como una cadena. A partir del resultado, lo vamos a dividir en versos usando un salto de línea y también vamos a eliminar espacios en blanco de los extremos de cada verso (como hicimos con OpenRefine).\n",
    "\n",
    "El método para elminiar espacios en blanco de los extremos de una cadena en Python es `strip()` (similar a `trim()` en OpenRefine). También hay `rstrip()` para quitar espacios sólo del final o `lstrip()` par quitar espacios sólo del principio.\n",
    "\n",
    "Usamos `strip()` dentro de un constructo llamado *comprensión de lista* o *list comprehension*. Como un bucle de tipo *for each* (visto en el capítulo), permite recorrer una secuencia usando una variable que sirve para iterar sobre la secuencia (`verso` en el ejemplo).\n",
    "\n",
    "Para escribir el resultado en un archivo, vamos a crear una cadena con `\"\\n\".join()`, que concatena los elementos de la lista `texto_versos_limpio` usando un salto de línea como separador. (La sintaxis es diferente a OpenRefine, donde se da como argumento el separador `.join(\"\\n\")` en vez de la lista a concatenar)."
   ]
  },
  {
   "cell_type": "code",
   "execution_count": 12,
   "metadata": {
    "pycharm": {
     "is_executing": false,
     "name": "#%%\n"
    }
   },
   "outputs": [],
   "source": [
    "texto_poema_bruto = poema_ele.get_text()\n",
    "#arbol.select(\"div[class=poem] > p\")\n",
    "texto_versos = texto_poema_bruto.split(\"\\n\")\n",
    "texto_versos_limpio = [verso.strip() for verso in texto_versos]\n",
    "texto_final = \"\\n\".join(texto_versos_limpio)"
   ]
  },
  {
   "cell_type": "code",
   "execution_count": 13,
   "metadata": {
    "pycharm": {
     "is_executing": false,
     "name": "#%%\n"
    }
   },
   "outputs": [
    {
     "name": "stdout",
     "output_type": "stream",
     "text": [
      "['Tarde sucia de invierno. El caserío,', 'como si fuera un croquis al creyón,', 'se hunde en la noche. El humo de un bohío,', 'que sube en forma de tirabuzón;', '', '', 'mancha el paisaje que produce frío,', 'y debajo de la genuflexión', 'de la arboleda, somormuja el río', 'su canción, su somnífera canción.', '', '', 'Los labradores, camellón abajo,', 'retornan fatigosos del trabajo,', 'como un problema sin definición.', '', '', 'Y el dueño del terruño, indiferente,', 'rápidamente, muy rápidamente,', 'baja en su coche por el camellón.', '']\n",
      "Tarde sucia de invierno. El caserío,\n",
      "como si fuera un croquis al creyón,\n",
      "se hunde en la noche. El humo de un bohío,\n",
      "que sube en forma de tirabuzón;\n",
      "\n",
      "\n",
      "mancha el paisaje que produce frío,\n",
      "y debajo de la genuflexión\n",
      "de la arboleda, somormuja el río\n",
      "su canción, su somnífera canción.\n",
      "\n",
      "\n",
      "Los labradores, camellón abajo,\n",
      "retornan fatigosos del trabajo,\n",
      "como un problema sin definición.\n",
      "\n",
      "\n",
      "Y el dueño del terruño, indiferente,\n",
      "rápidamente, muy rápidamente,\n",
      "baja en su coche por el camellón.\n",
      "\n"
     ]
    }
   ],
   "source": [
    "print(texto_versos_limpio)\n",
    "print(texto_final)"
   ]
  },
  {
   "cell_type": "markdown",
   "metadata": {
    "pycharm": {
     "name": "#%% md\n"
    }
   },
   "source": [
    "Nota: Habría una manera compacta de conseguir el texto del poema, usando el método `select()`, cuyo argumento es un selector (una expresión para identificar un conjunto de nodos en un árbol HTML) que identifica los elementos `<p>` que son un hijo directo de un elemento `<div class=\"poem\">`, gracias al operador `>` que significa *hijo directo*:  "
   ]
  },
  {
   "cell_type": "markdown",
   "metadata": {
    "pycharm": {
     "is_executing": false,
     "name": "#%% md\n"
    }
   },
   "source": [
    "```python\n",
    "arbol.select(\"div[class=poem] > p\")[0].get_text()\n",
    "```"
   ]
  },
  {
   "cell_type": "markdown",
   "metadata": {},
   "source": [
    "<a name=\"salida-archivo\"></a>\n",
    "### Escribir la información extraída en archivos de salida\n",
    "\n",
    "Vamos a escribir el poema y sus metadatos en un archivo de salida.\n",
    "\n",
    "Una opción útil es crear un archivo delimitado (CSV, TSV, o de tipo hoja de cálculo). Para esto, se puede usar la biblioteca pandas.\n",
    "\n",
    "Crearemos una estructura de datos llamada dataframe, con las etapas siguientes:\n",
    "\n",
    "- El formato a utilizar se ve en la variable `datos`. Se declaran los nombres de las columnas, y, para cada columna, una lista con sus valores (ya hemos visto que los corchetes se suelen usar para representar listas entre otros usos).\n",
    "- Una vez que los datos están listos, el método `DataFrame` de la biblioteca pandas crea el objeto, con lo que `pd.DataFrame(datos)` crea la dataframe, que se ha asignado a una variable con nombre `df`."
   ]
  },
  {
   "cell_type": "code",
   "execution_count": 14,
   "metadata": {
    "pycharm": {
     "is_executing": false,
     "name": "#%%\n"
    }
   },
   "outputs": [],
   "source": [
    "import pandas as pd\n",
    "\n",
    "datos = {\"autora\": [autora],\n",
    "         \"titulo\": [titulo],\n",
    "         \"textoPoema\": [texto_final]} \n",
    "\n",
    "df = pd.DataFrame(datos)"
   ]
  },
  {
   "cell_type": "code",
   "execution_count": 15,
   "metadata": {
    "pycharm": {
     "is_executing": false,
     "name": "#%%\n"
    }
   },
   "outputs": [
    {
     "data": {
      "text/html": [
       "<div>\n",
       "<style scoped>\n",
       "    .dataframe tbody tr th:only-of-type {\n",
       "        vertical-align: middle;\n",
       "    }\n",
       "\n",
       "    .dataframe tbody tr th {\n",
       "        vertical-align: top;\n",
       "    }\n",
       "\n",
       "    .dataframe thead th {\n",
       "        text-align: right;\n",
       "    }\n",
       "</style>\n",
       "<table border=\"1\" class=\"dataframe\">\n",
       "  <thead>\n",
       "    <tr style=\"text-align: right;\">\n",
       "      <th></th>\n",
       "      <th>autora</th>\n",
       "      <th>titulo</th>\n",
       "      <th>textoPoema</th>\n",
       "    </tr>\n",
       "  </thead>\n",
       "  <tbody>\n",
       "    <tr>\n",
       "      <th>0</th>\n",
       "      <td>Delmira Agustini</td>\n",
       "      <td>Una viñeta</td>\n",
       "      <td>Tarde sucia de invierno. El caserío,\\ncomo si ...</td>\n",
       "    </tr>\n",
       "  </tbody>\n",
       "</table>\n",
       "</div>"
      ],
      "text/plain": [
       "             autora      titulo  \\\n",
       "0  Delmira Agustini  Una viñeta   \n",
       "\n",
       "                                          textoPoema  \n",
       "0  Tarde sucia de invierno. El caserío,\\ncomo si ...  "
      ]
     },
     "execution_count": 15,
     "metadata": {},
     "output_type": "execute_result"
    }
   ],
   "source": [
    "df"
   ]
  },
  {
   "cell_type": "markdown",
   "metadata": {
    "pycharm": {
     "name": "#%% md\n"
    }
   },
   "source": [
    "Vamos a escribir los resultados en archivos de salida con distintos formatos, aprovechando las posibilidades de pandas.\n",
    "\n",
    "Para crear las rutas (la localización en el disco de cada archivo) usamos el módulo `pathlib`. \n",
    "\n",
    "- Se obtiene el directorio donde reside este notebook con `pathlib.Path.cwd()`\n",
    "- A partir de ahí, se crea el resto de la ruta con `.joinpath()`. Cada etapa de la ruta (cada directorio y el archivo final) se da como argumento  "
   ]
  },
  {
   "cell_type": "code",
   "execution_count": 16,
   "metadata": {
    "pycharm": {
     "is_executing": false,
     "name": "#%%\n"
    }
   },
   "outputs": [],
   "source": [
    "import pathlib\n",
    "\n",
    "directorio_actual = pathlib.Path.cwd()\n",
    "dir_resultados = directorio_actual.joinpath(\"resultados\", \"desde-html\")\n",
    "nombre_fichero = \"agustini_poema\"\n",
    "salida_csv = dir_resultados.joinpath(nombre_fichero + \".csv\")\n",
    "salida_tsv = dir_resultados.joinpath(nombre_fichero + \".tsv\")\n",
    "salida_excel = dir_resultados.joinpath(nombre_fichero + \".xlsx\")"
   ]
  },
  {
   "cell_type": "markdown",
   "metadata": {
    "pycharm": {
     "name": "#%% md\n"
    }
   },
   "source": [
    "Con las instrucciones anteriores hemos creado una representación de las rutas de los archivos de salida, pero no los archivos en sí, ni tampoco los directorios (*resultados*, *desde-html*).\n",
    "\n",
    "Si los directorios no existen, los podemos crear con `.mkdir(parents=True)` (si ya existen, esta instrucción dará un error). La opción `parents=True` crea también directorios intermedios en caso de que parte de la ruta no exista.\n",
    "\n",
    "Para no ejecutar la instrucción, dejar la celda sin ejecutar o comentar la instrucción prefijando el signo `#`, con lo que será ignorada."
   ]
  },
  {
   "cell_type": "code",
   "execution_count": 17,
   "metadata": {
    "pycharm": {
     "is_executing": false,
     "name": "#%%\n"
    }
   },
   "outputs": [],
   "source": [
    "#dir_resultados.mkdir(parents=True)"
   ]
  },
  {
   "cell_type": "markdown",
   "metadata": {
    "pycharm": {
     "name": "#%% md\n"
    }
   },
   "source": [
    "Para escribir el contenido de las dataframes a los archivos, usamos métodos disponibles desde el objeto dataframe, que aquí se ha llamado `df` (es un nombre habitual).\n",
    "- El método `to_csv()` escribe archivos delimitados por comas, a no ser que se le dé el argumento `sep=\"\\t\"` en cuyo caso utilizará tabulaciones como delimitador (lo que se llama a veces archivo TSV en vez de CSV). Tanto los CSV como los TSV se pueden abrir fácilmente con LibreOffice Calc o con Excel\n",
    "- El método `to_excel()` crea archivos en formato XLSX (Excel)\n",
    "- La opción `index=False` se usa ya que de lo contrario, pandas añade una primera columna con el número de fila, lo cual no es informativo para lo que estamos haciendo\n"
   ]
  },
  {
   "cell_type": "code",
   "execution_count": 18,
   "metadata": {
    "pycharm": {
     "is_executing": false,
     "name": "#%%\n"
    }
   },
   "outputs": [],
   "source": [
    "df.to_csv(salida_csv, index=False)\n",
    "df.to_csv(salida_tsv, sep=\"\\t\", index=False)\n",
    "df.to_excel(salida_excel, index=False)"
   ]
  },
  {
   "cell_type": "markdown",
   "metadata": {
    "pycharm": {
     "name": "#%% md\n"
    }
   },
   "source": [
    "Al abrir los resultados con una hoja de cálculo (en este caso LibreOffice Calc), se ven así:\n",
    "\n",
    "|tsv|xlsx|\n",
    "| :---: | :---: |\n",
    "|![imagen](./img/02_html_01_tsv.png)|![imagen](./img/02_html_02_excel.png)|\n",
    "\n",
    "\n",
    "<a name=\"extraccion-poema-multiple\"></a>\n",
    "# Extracción de múltiples poemas a partir de una lista de URLs\n",
    "\n",
    "Usamos el mismo ejemplo que en el capítulo, los poemas de Alfonsina Storni en Wikisource: [https://es.wikisource.org/wiki/Autor:Alfonsina_Storni](https://es.wikisource.org/wiki/Autor:Alfonsina_Storni)\n",
    "\n",
    "Usaremos las mismas bibliotecas que en el ejemplo anterior sobre la [extracción de un poema individual](#extraccion-poema-indiv), y si no se han importado antes, habrá que importarlas."
   ]
  },
  {
   "cell_type": "code",
   "execution_count": 19,
   "metadata": {
    "pycharm": {
     "is_executing": false,
     "name": "#%%\n"
    }
   },
   "outputs": [],
   "source": [
    "import requests\n",
    "from bs4 import BeautifulSoup\n",
    "import pandas as pd"
   ]
  },
  {
   "cell_type": "markdown",
   "metadata": {
    "pycharm": {
     "name": "#%% md\n"
    }
   },
   "source": [
    "<a name=\"crear-lista-urls\"></a>\n",
    "## Crear la lista de URLs\n",
    "\n",
    "Crearemos primero una lista con los enlaces a los poemas.\n",
    "\n",
    "Como se vio en el capítulo y como muestra la imagen siguiente, nos interesan los elementos `<a>` que son descendientes de elementos `<ul>`, si bien no todos los `<ul>` de la página nos interesan, ya que el primero (*Obras*) no contiene enlaces a poemas individuales.\n",
    "\n",
    "![img](./img/02_html_03_firefox-dev-tools-ul-a.png)"
   ]
  },
  {
   "cell_type": "code",
   "execution_count": 20,
   "metadata": {
    "pycharm": {
     "is_executing": false,
     "name": "#%%\n"
    }
   },
   "outputs": [],
   "source": [
    "url_inicial = \"https://es.wikisource.org/wiki/Autor:Alfonsina_Storni\"\n",
    "respuesta = requests.get(url_inicial)\n",
    "html_inicial = respuesta.text"
   ]
  },
  {
   "cell_type": "markdown",
   "metadata": {},
   "source": [
    "Creamos un árbol con el contenido y extraemos los enlaces deseados, con BeautifulSoup. Podríamos hacerlo de forma más compacta (con menos líneas de código), pero usando instrucciones simples, se pueden seguir la siguientes etapas:\n",
    "\n",
    "1. Se crea el árbol a partir de la cadena de texto que expresa el HTML bajado para la página, este árbol se asigna a la variable `arbol` (aunque, como para toda variable, cualquier otro nombre de variable válido en python sería posible)\n",
    "1. Se declara una lista llamada `enlaces`, donde guardaremos los enlaces\n",
    "1. Ya que los enlaces que nos interesan están dentro de listas no ordenadas (elementos `<ul>`), recuperamos todos los elementos `<ul>` de la página con `find_all(\"ul\")`. De modo más exacto, no queremos todas los elementos `<ul>`, sino que queremos ignorar el primero. Por eso seleccionamos los miembros desde el segundo, con `[1:]` (el primer elemento lleva el índice 0, así que para seleccionar desde el segundo, se empieza por el índice 1. Para seleccionar hasta el final, en las listas de Python se puede usar `:`). Una vez seleccionados desde el segundo hasta el último `<ul>`, se asigna el resultado a la variable `elems_ul`.   \n",
    "1. Un bucle recorre la lista `elems_ul`, usando `elem` como iterador para recorrerla. Es decir, el valor de `elem` corresponderá iterativamente a cada elemento de la lista, hasta terminar de recorrerla. Para cada elemento de la lista, buscamos todos los enlaces que este contiene, con `find_all(\"a\")`. Como sabemos, `find_all()` devuelve una lista. Como vimos en el punto (2), tenemos ya una variable de tipo lista preparada para guardar los enlaces, se trata de la variable `enlaces`. Podríamos guardar el resultado de `find_all()` en esta lista, pero esto nos crearía listas anidadas (listas dentro de listas). Esto añade una complejidad que no es necesaria. Lo que vamos a hacer es añadir los miembros del resultado de `find_all()` directamente a `enlaces`. No la lista resultante, sino sus miembros. Para añadir a una lista A los miembros de otra lista B, la instrucción es `A.extend(B)`. Por eso usamos `enlaces.extend(elem.find_all(\"a\")` dentro del bucle. "
   ]
  },
  {
   "cell_type": "code",
   "execution_count": 21,
   "metadata": {
    "pycharm": {
     "is_executing": false,
     "name": "#%%\n"
    }
   },
   "outputs": [],
   "source": [
    "arbol = BeautifulSoup(html_inicial)\n",
    "enlaces = []\n",
    "elems_ul = arbol.find_all(\"ul\")[1:]\n",
    "for elem in elems_ul:\n",
    "    enlaces.extend(elem.find_all(\"a\"))"
   ]
  },
  {
   "cell_type": "code",
   "execution_count": 22,
   "metadata": {
    "scrolled": true
   },
   "outputs": [
    {
     "data": {
      "text/plain": [
       "[<a href=\"/wiki/Agrio_est%C3%A1_el_mundo\" title=\"Agrio está el mundo\">Agrio está el mundo</a>,\n",
       " <a href=\"/wiki/Alma_desnuda\" title=\"Alma desnuda\">Alma desnuda</a>,\n",
       " <a href=\"/wiki/As%C3%AD\" title=\"Así\">Así</a>,\n",
       " <a href=\"/wiki/Aspecto\" title=\"Aspecto\">Aspecto</a>,\n",
       " <a href=\"/wiki/Buenos_Aires_(Storni)\" title=\"Buenos Aires (Storni)\">Buenos Aires</a>,\n",
       " <a href=\"/wiki/Calle\" title=\"Calle\">Calle</a>,\n",
       " <a href=\"/wiki/Carta_l%C3%ADrica_a_otra_mujer\" title=\"Carta lírica a otra mujer\">Carta lírica a otra mujer</a>,\n",
       " <a href=\"/wiki/Contra_voz\" title=\"Contra voz\">Contra voz</a>,\n",
       " <a href=\"/wiki/Date_a_volar\" title=\"Date a volar\">Date a volar</a>,\n",
       " <a href=\"/wiki/Dolor_(Storni)\" title=\"Dolor (Storni)\">Dolor</a>,\n",
       " <a href=\"/wiki/Dos_palabras\" title=\"Dos palabras\">Dos palabras</a>,\n",
       " <a href=\"/wiki/Dulce_tortura\" title=\"Dulce tortura\">Dulce tortura</a>,\n",
       " <a href=\"/wiki/El_canal\" title=\"El canal\">El canal</a>,\n",
       " <a href=\"/wiki/El_cisne_enfermo\" title=\"El cisne enfermo\">El cisne enfermo</a>,\n",
       " <a href=\"/wiki/El_divino_amor\" title=\"El divino amor\">El divino amor</a>,\n",
       " <a href=\"/wiki/El_hijo_de_un_avaro\" title=\"El hijo de un avaro\">El hijo de un avaro</a>,\n",
       " <a href=\"/wiki/El_parque\" title=\"El parque\">El parque</a>,\n",
       " <a href=\"/wiki/El_racimo_inocente\" title=\"El racimo inocente\">El racimo inocente</a>,\n",
       " <a class=\"mw-disambig\" href=\"/wiki/El_silencio\" title=\"El silencio\">El silencio</a>,\n",
       " <a href=\"/wiki/El_sue%C3%B1o_(Storni)\" title=\"El sueño (Storni)\">El sueño</a>,\n",
       " <a href=\"/wiki/Esta_tarde\" title=\"Esta tarde\">Esta tarde</a>,\n",
       " <a href=\"/wiki/Este_libro\" title=\"Este libro\">Este libro</a>,\n",
       " <a href=\"/wiki/Frase\" title=\"Frase\">Frase</a>,\n",
       " <a href=\"/wiki/Frente_al_mar\" title=\"Frente al mar\">Frente al mar</a>,\n",
       " <a href=\"/wiki/La_inquietud_del_rosal\" title=\"La inquietud del rosal\">La inquietud del rosal</a>,\n",
       " <a href=\"/wiki/La_mirada_(Storni)\" title=\"La mirada (Storni)\">La mirada</a>,\n",
       " <a href=\"/wiki/La_que_comprende\" title=\"La que comprende\">La que comprende</a>,\n",
       " <a href=\"/wiki/Llama\" title=\"Llama\">Llama</a>,\n",
       " <a href=\"/wiki/Ma%C3%B1ana_gris\" title=\"Mañana gris\">Mañana gris</a>,\n",
       " <a href=\"/wiki/Melancol%C3%ADa_(Storni)\" title=\"Melancolía (Storni)\">Melancolía</a>,\n",
       " <a href=\"/wiki/Mi_hermana\" title=\"Mi hermana\">Mi hermana</a>,\n",
       " <a href=\"/wiki/Mundo_de_siete_pozos_(poema)\" title=\"Mundo de siete pozos (poema)\">Mundo de siete pozos</a>,\n",
       " <a href=\"/wiki/Naturaleza_m%C3%ADa\" title=\"Naturaleza mía\">Naturaleza mía</a>,\n",
       " <a href=\"/wiki/Odio\" title=\"Odio\">Odio</a>,\n",
       " <a href=\"/wiki/Plaza_en_invierno\" title=\"Plaza en invierno\">Plaza en invierno</a>,\n",
       " <a href=\"/wiki/Par%C3%A1sitos\" title=\"Parásitos\">Parásitos</a>,\n",
       " <a href=\"/wiki/Paz\" title=\"Paz\">Paz</a>,\n",
       " <a href=\"/wiki/Peso_ancestral\" title=\"Peso ancestral\">Peso ancestral</a>,\n",
       " <a href=\"/wiki/Piedra_miserable\" title=\"Piedra miserable\">Piedra miserable</a>,\n",
       " <a href=\"/wiki/Presentimiento_(Storni)\" title=\"Presentimiento (Storni)\">Presentimiento</a>,\n",
       " <a href=\"/wiki/Queja\" title=\"Queja\">Queja</a>,\n",
       " <a href=\"/wiki/Regreso_en_sue%C3%B1os\" title=\"Regreso en sueños\">Regreso en sueños</a>,\n",
       " <a href=\"/wiki/S%C3%A1bado\" title=\"Sábado\">Sábado</a>,\n",
       " <a href=\"/wiki/Sab%C3%A9is_algo\" title=\"Sabéis algo\">Sabéis algo</a>,\n",
       " <a href=\"/wiki/Siesta_(Storni)\" title=\"Siesta (Storni)\">Siesta</a>,\n",
       " <a href=\"/wiki/Siete_vidas\" title=\"Siete vidas\">Siete vidas</a>,\n",
       " <a href=\"/wiki/Soy_esa_flor\" title=\"Soy esa flor\">Soy esa flor</a>,\n",
       " <a href=\"/wiki/Tu_me_quieres_blanca\" title=\"Tu me quieres blanca\">Tu me quieres blanca</a>,\n",
       " <a href=\"/wiki/Un_cementerio_que_mira_al_mar\" title=\"Un cementerio que mira al mar\">Un cementerio que mira al mar</a>,\n",
       " <a href=\"/wiki/Un_d%C3%ADa\" title=\"Un día\">Un día</a>,\n",
       " <a href=\"/wiki/Un_sol\" title=\"Un sol\">Un sol</a>,\n",
       " <a href=\"/wiki/Voluntad\" title=\"Voluntad\">Voluntad</a>,\n",
       " <a href=\"/wiki/Voz\" title=\"Voz\">Voz</a>,\n",
       " <a href=\"/wiki/Y_t%C3%BA\" title=\"Y tú\">Y tú</a>,\n",
       " <a href=\"/wiki/A_Eros\" title=\"A Eros\">A Eros</a>,\n",
       " <a href=\"/wiki/A_Madona\" title=\"A Madona\">A Madona</a>,\n",
       " <a href=\"/wiki/Amor_(Storni)\" title=\"Amor (Storni)\">Amor</a>,\n",
       " <a href=\"/wiki/Canci%C3%B3n_de_la_mujer_astuta\" title=\"Canción de la mujer astuta\">Canción de la mujer astuta</a>,\n",
       " <a href=\"/wiki/Cara_copiada\" title=\"Cara copiada\">Cara copiada</a>,\n",
       " <a href=\"/wiki/Duerme_tranquilo\" title=\"Duerme tranquilo\">Duerme tranquilo</a>,\n",
       " <a href=\"/wiki/El_hijo_(Storni)\" title=\"El hijo (Storni)\">El hijo</a>,\n",
       " <a href=\"/wiki/El_hombre_(Storni)\" title=\"El hombre (Storni)\">El hombre</a>,\n",
       " <a href=\"/wiki/El_sue%C3%B1o_2_(Storni)\" title=\"El sueño 2 (Storni)\">El sueño</a>,\n",
       " <a href=\"/wiki/Encuentro_(Storni)\" title=\"Encuentro (Storni)\">Encuentro</a>,\n",
       " <a href=\"/wiki/Fiesta\" title=\"Fiesta\">Fiesta</a>,\n",
       " <a href=\"/wiki/Humildad_(Storni)\" title=\"Humildad (Storni)\">Humildad</a>,\n",
       " <a href=\"/wiki/La_v%C3%ADa_lactea\" title=\"La vía lactea\">La vía lactea</a>,\n",
       " <a href=\"/wiki/Noche_divina\" title=\"Noche divina\">Noche divina</a>,\n",
       " <a href=\"/wiki/Olvido\" title=\"Olvido\">Olvido</a>,\n",
       " <a href=\"/wiki/Palabras_a_mi_madre\" title=\"Palabras a mi madre\">Palabras a mi madre</a>,\n",
       " <a href=\"/wiki/Pasi%C3%B3n_(Storni)\" title=\"Pasión (Storni)\">Pasión</a>,\n",
       " <a href=\"/wiki/Pudiera_ser\" title=\"Pudiera ser\">Pudiera ser</a>,\n",
       " <a href=\"/wiki/Ruego_a_Prometeo\" title=\"Ruego a Prometeo\">Ruego a Prometeo</a>,\n",
       " <a href=\"/wiki/Soy\" title=\"Soy\">Soy</a>,\n",
       " <a href=\"/wiki/Sugesti%C3%B3n_de_una_cuna_vac%C3%ADa\" title=\"Sugestión de una cuna vacía\">Sugestión de una cuna vacía</a>,\n",
       " <a class=\"mw-disambig\" href=\"/wiki/Una_mirada\" title=\"Una mirada\">Una mirada</a>,\n",
       " <a href=\"/wiki/Vida\" title=\"Vida\">Vida</a>,\n",
       " <a href=\"/wiki/Voy_a_dormir\" title=\"Voy a dormir\">Voy a dormir</a>,\n",
       " <a class=\"mw-redirect\" href=\"/wiki/Delfina_Bunge\" title=\"Delfina Bunge\">Delfina Bunge</a>,\n",
       " <a href=\"/wiki/Categor%C3%ADa:DP-Autores-80\" title=\"Categoría:DP-Autores-80\">DP-Autores-80</a>,\n",
       " <a href=\"/wiki/Categor%C3%ADa:N1892\" title=\"Categoría:N1892\">N1892</a>,\n",
       " <a href=\"/wiki/Categor%C3%ADa:F1938\" title=\"Categoría:F1938\">F1938</a>,\n",
       " <a href=\"/wiki/Categor%C3%ADa:Autores_del_Siglo_XX\" title=\"Categoría:Autores del Siglo XX\">Autores del Siglo XX</a>,\n",
       " <a href=\"/wiki/Categor%C3%ADa:Autores\" title=\"Categoría:Autores\">Autores</a>,\n",
       " <a href=\"/wiki/Categor%C3%ADa:Autores_argentinos\" title=\"Categoría:Autores argentinos\">Autores argentinos</a>,\n",
       " <a href=\"/wiki/Categor%C3%ADa:Autores-S\" title=\"Categoría:Autores-S\">Autores-S</a>,\n",
       " <a href=\"/wiki/Categor%C3%ADa:Autores/20%2B\" title=\"Categoría:Autores/20+\">Autores/20+</a>,\n",
       " <a accesskey=\"n\" href=\"/wiki/Especial:MiDiscusi%C3%B3n\" title=\"Discusión sobre ediciones hechas desde esta dirección IP [n]\"><span>Discusión</span></a>,\n",
       " <a accesskey=\"y\" href=\"/wiki/Especial:MisContribuciones\" title=\"Una lista de modificaciones hechas desde esta dirección IP [y]\"><span>Contribuciones</span></a>,\n",
       " <a href=\"/w/index.php?title=Especial:Crear_una_cuenta&amp;returnto=Autor%3AAlfonsina+Storni\" title=\"Te recomendamos crear una cuenta e iniciar sesión; sin embargo, no es obligatorio\"><span>Crear una cuenta</span></a>,\n",
       " <a accesskey=\"o\" href=\"/w/index.php?title=Especial:Entrar&amp;returnto=Autor%3AAlfonsina+Storni\" title=\"Te recomendamos iniciar sesión, aunque no es obligatorio [o]\"><span>Acceder</span></a>,\n",
       " <a href=\"/wiki/Autor:Alfonsina_Storni\"><span>Autor</span></a>,\n",
       " <a accesskey=\"t\" href=\"/w/index.php?title=Autor_discusi%C3%B3n:Alfonsina_Storni&amp;action=edit&amp;redlink=1\" rel=\"discussion\" title=\"Discusión acerca de la página (la página no existe) [t]\"><span>Discusión</span></a>,\n",
       " <a href=\"/wiki/Autor:Alfonsina_Storni\"><span>Leer</span></a>,\n",
       " <a accesskey=\"e\" href=\"/w/index.php?title=Autor:Alfonsina_Storni&amp;action=edit\" title=\"Editar esta página [e]\"><span>Editar</span></a>,\n",
       " <a accesskey=\"h\" href=\"/w/index.php?title=Autor:Alfonsina_Storni&amp;action=history\" title=\"Versiones anteriores de esta página [h]\"><span>Ver historial</span></a>,\n",
       " <a accesskey=\"z\" href=\"/wiki/Portada\" title=\"Visitar la página principal [z]\"><span>Portada</span></a>,\n",
       " <a href=\"/wiki/Wikisource:Portal_de_la_comunidad\" title=\"Acerca del proyecto, lo que puedes hacer, dónde encontrar información\"><span>Portal de la comunidad</span></a>,\n",
       " <a href=\"/wiki/Wikisource:Caf%C3%A9\" title=\"Encuentra información de contexto sobre acontecimientos actuales\"><span>Café</span></a>,\n",
       " <a accesskey=\"r\" href=\"/wiki/Especial:CambiosRecientes\" title=\"Lista de cambios recientes en la wiki [r]\"><span>Cambios recientes</span></a>,\n",
       " <a href=\"/wiki/Especial:RandomRootpage/Main\"><span>Obra aleatoria</span></a>,\n",
       " <a href=\"/wiki/Especial:RandomRootpage/%C3%8Dndice\"><span>Libro aleatorio</span></a>,\n",
       " <a href=\"https://es.wikisource.org/wiki/Wikisource:Ayuda\" title=\"El lugar para aprender\"><span>Ayuda</span></a>,\n",
       " <a href=\"//donate.wikimedia.org/wiki/Special:FundraiserRedirector?utm_source=donate&amp;utm_medium=sidebar&amp;utm_campaign=C13_es.wikisource.org&amp;uselang=es\" title=\"Apóyanos\"><span>Donaciones</span></a>,\n",
       " <a accesskey=\"j\" href=\"/wiki/Especial:LoQueEnlazaAqu%C3%AD/Autor:Alfonsina_Storni\" title=\"Lista de todas las páginas de la wiki que enlazan aquí [j]\"><span>Lo que enlaza aquí</span></a>,\n",
       " <a accesskey=\"k\" href=\"/wiki/Especial:CambiosEnEnlazadas/Autor:Alfonsina_Storni\" rel=\"nofollow\" title=\"Cambios recientes en las páginas que enlazan con esta [k]\"><span>Cambios relacionados</span></a>,\n",
       " <a accesskey=\"u\" href=\"//commons.wikimedia.org/wiki/Special:UploadWizard?uselang=es\" title=\"Subir archivos [u]\"><span>Subir archivo</span></a>,\n",
       " <a accesskey=\"q\" href=\"/wiki/Especial:P%C3%A1ginasEspeciales\" title=\"Lista de todas las páginas especiales [q]\"><span>Páginas especiales</span></a>,\n",
       " <a href=\"/w/index.php?title=Autor:Alfonsina_Storni&amp;oldid=1213367\" title=\"Enlace permanente a esta versión de la página\"><span>Enlace permanente</span></a>,\n",
       " <a href=\"/w/index.php?title=Autor:Alfonsina_Storni&amp;action=info\" title=\"Más información sobre esta página\"><span>Información de la página</span></a>,\n",
       " <a accesskey=\"g\" href=\"https://www.wikidata.org/wiki/Special:EntityPage/Q238557\" title=\"Enlace al elemento conectado del repositorio de datos [g]\"><span>Elemento de Wikidata</span></a>,\n",
       " <a href=\"/w/index.php?title=Especial:Libro&amp;bookcmd=book_creator&amp;referer=Autor%3AAlfonsina+Storni\"><span>Crear un libro</span></a>,\n",
       " <a href=\"/w/index.php?title=Especial:DownloadAsPdf&amp;page=Autor%3AAlfonsina_Storni&amp;action=show-download-screen\"><span>Descargar como PDF</span></a>,\n",
       " <a accesskey=\"p\" href=\"/w/index.php?title=Autor:Alfonsina_Storni&amp;printable=yes\" title=\"Versión imprimible de esta página [p]\"><span>Versión para imprimir</span></a>,\n",
       " <a href=\"https://commons.wikimedia.org/wiki/Category:Alfonsina_Storni\" hreflang=\"en\"><span>Wikimedia Commons</span></a>,\n",
       " <a href=\"https://es.wikipedia.org/wiki/Alfonsina_Storni\" hreflang=\"es\"><span>Wikipedia</span></a>,\n",
       " <a href=\"https://es.wikiquote.org/wiki/Alfonsina_Storni\" hreflang=\"es\"><span>Wikiquote</span></a>,\n",
       " <a href=\"https://creativecommons.org/licenses/by-sa/3.0/deed.es\">Licencia Creative Commons Atribución-CompartirIgual 3.0</a>,\n",
       " <a href=\"https://foundation.wikimedia.org/wiki/Terms_of_Use/es\">Términos de uso</a>,\n",
       " <a href=\"https://meta.wikimedia.org/wiki/Privacy_policy/es\">Política de privacidad</a>,\n",
       " <a href=\"/wiki/Wikisource:Acerca_de\">Acerca de Wikisource</a>,\n",
       " <a href=\"/wiki/Wikisource:Limitaci%C3%B3n_general_de_responsabilidad\">Aviso legal</a>,\n",
       " <a class=\"noprint stopMobileRedirectToggle\" href=\"//es.m.wikisource.org/w/index.php?title=Autor:Alfonsina_Storni&amp;mobileaction=toggle_view_mobile\">Versión para móviles</a>,\n",
       " <a href=\"https://developer.wikimedia.org\">Desarrolladores</a>,\n",
       " <a href=\"https://stats.wikimedia.org/#/es.wikisource.org\">Estadísticas</a>,\n",
       " <a href=\"https://foundation.wikimedia.org/wiki/Cookie_statement/es\">Declaración de cookies</a>,\n",
       " <a href=\"https://wikimediafoundation.org/\"><img alt=\"Wikimedia Foundation\" height=\"31\" loading=\"lazy\" src=\"/static/images/footer/wikimedia-button.png\" srcset=\"/static/images/footer/wikimedia-button-1.5x.png 1.5x, /static/images/footer/wikimedia-button-2x.png 2x\" width=\"88\"/></a>,\n",
       " <a href=\"https://www.mediawiki.org/\"><img alt=\"Powered by MediaWiki\" height=\"31\" loading=\"lazy\" src=\"/static/images/footer/poweredby_mediawiki_88x31.png\" srcset=\"/static/images/footer/poweredby_mediawiki_132x47.png 1.5x, /static/images/footer/poweredby_mediawiki_176x62.png 2x\" width=\"88\"/></a>]"
      ]
     },
     "execution_count": 22,
     "metadata": {},
     "output_type": "execute_result"
    }
   ],
   "source": [
    "enlaces"
   ]
  },
  {
   "cell_type": "markdown",
   "metadata": {},
   "source": [
    "Como vimos en el capítulo, algunos enlaces no se refieren a poemas. Vimos que se refieren a poemas los enlaces que cumplen tres condiciones:\n",
    "\n",
    "1. contienen la expresión \"/wiki/\"\n",
    "1. o bien no llevan atributo `class`, o bien, si lo llevan, su valor no es *mw-redirect*\n",
    "1. su URL (en el atributo `href` del elemento `<a>` para el enlace no corresponde a la expresión regular `:|Portada` (no puede contenir ni el signo dos puntos ni la palabra *Portada*; el operador `|` en la expresión significa una alternancia)\n",
    "\n",
    "Ya que vamos a utilizar expresiones regulares o regex, debemos importar el módulo que permite usarlas en Python, llamado `re` (iniciales de *Regular Expression*), con `import re`.\n",
    "\n",
    "El resto del código siguiente recorre la lista `enlaces` con un bucle `for`, usando un iterador para el que se ha elegido el nombre `enlace`, y verifica cada uno de los elementos `<a>` que esta contiene. Si el elemento cumple las condiciones, se guarda en otra lista declarada antes del bucle, llamada `enlaces_limpios`.\n",
    "\n",
    "1. El atributo `href` de cada miembro de la lista inicial se asigna a la variable `enlace_url`. Para obtener el valor de un atributo (aquí, el atributo `href` de `enlace`), la sintaxis es `enlace[\"href\"]` (también se puede usar la sintaxis `enlace.attrs[\"href\"]`, pero es más larga)\n",
    "1. Varios tests (estructura `if ... elif ... else`) verifican las condiciones deseadas, siguiendo la sintaxis que se ve en el ejemplo.\n",
    "  1. El primer test es `if \"/wiki/\" not in enlace_url`. Si la cadena no se encuentra en el `href` del elemento (asignado a `enlace_url`), el bucle pasa al elemento siguiente, con `continue`, sin mirar el resto de condiciones\n",
    "  1. El segundo test es `elif \"class\" in enlace.attrs and enlace[\"class\"][0] == \"mw-redirect\"`. Esto mira primero si `class` forma parte de los atributos del elemento, y, en ese caso, comprueba si el valor de `class` es *mw-redirect*. Los atributos se dan en una lista, por eso debemos hacer `[0]` en `enlace[\"class\"][0]`. En caso afirmativo, debemos ignorar el elemento, con lo que `continue` pasa al siguiente elemento de la lista `enlaces`, sin mirar siquiera el resto de tests\n",
    "  1. El tercer test verifica si el `href` corresponde a la expresión regular `:|Portada`, que describe los links que queremos evitar, con el método `search` del módulo `re`: `re.search(r\":|Portada\", enlace_url)`. Como se ve, la sintaxis consiste a pasar como primer argumento la expresión regular, entre comillas y precedida de `r`, y como segundo argumento la cadena de texto en la que hay que buscar la expresión, en este caso `enlace_url`. Si el texto del link corresponde a la regex, el bucle pasa al siguiente elemento, con `continue`\n",
    "1. Después de hacer los tests, para cada elemento el bucle llega a la parte `else`. Si el bucle llega hasta aquí para un elemento, quiere decir que el elemento cumple las condiciones de los links que queremos guardar. Por esta razón, añadimos este link a la lista `enlaces_limpios` con la instrucción `append()` que sirve para añadir un miembro a una lista, sin olvidar prefijar la cadena https://es.wikisource.org que forma parte del link necesario para bajar los poemas, pero que estaba omitida en los atributos `href`"
   ]
  },
  {
   "cell_type": "code",
   "execution_count": 34,
   "metadata": {
    "pycharm": {
     "is_executing": false,
     "name": "#%%\n"
    }
   },
   "outputs": [],
   "source": [
    "import re\n",
    "\n",
    "enlaces_limpios = []\n",
    "\n",
    "for enlace in enlaces:\n",
    "    enlace_url = enlace[\"href\"]\n",
    "    if \"/wiki/\" not in enlace_url:\n",
    "        continue\n",
    "    elif \"class\" in enlace.attrs and enlace[\"class\"][0] == \"mw-redirect\":\n",
    "        continue\n",
    "    elif re.search(r\":|Portada\", enlace_url):\n",
    "        continue\n",
    "    else:\n",
    "        enlaces_limpios.append(\"https://es.wikisource.org\" + enlace_url)"
   ]
  },
  {
   "cell_type": "markdown",
   "metadata": {},
   "source": [
    "Podemos comprobar que esta lista solo contiene links a poemas individuales:"
   ]
  },
  {
   "cell_type": "code",
   "execution_count": 35,
   "metadata": {
    "pycharm": {
     "is_executing": false,
     "name": "#%%\n"
    },
    "scrolled": true
   },
   "outputs": [
    {
     "data": {
      "text/plain": [
       "['https://es.wikisource.org/wiki/Agrio_est%C3%A1_el_mundo',\n",
       " 'https://es.wikisource.org/wiki/Alma_desnuda',\n",
       " 'https://es.wikisource.org/wiki/As%C3%AD',\n",
       " 'https://es.wikisource.org/wiki/Aspecto',\n",
       " 'https://es.wikisource.org/wiki/Buenos_Aires_(Storni)',\n",
       " 'https://es.wikisource.org/wiki/Calle',\n",
       " 'https://es.wikisource.org/wiki/Carta_l%C3%ADrica_a_otra_mujer',\n",
       " 'https://es.wikisource.org/wiki/Contra_voz',\n",
       " 'https://es.wikisource.org/wiki/Date_a_volar',\n",
       " 'https://es.wikisource.org/wiki/Dolor_(Storni)',\n",
       " 'https://es.wikisource.org/wiki/Dos_palabras',\n",
       " 'https://es.wikisource.org/wiki/Dulce_tortura',\n",
       " 'https://es.wikisource.org/wiki/El_canal',\n",
       " 'https://es.wikisource.org/wiki/El_cisne_enfermo',\n",
       " 'https://es.wikisource.org/wiki/El_divino_amor',\n",
       " 'https://es.wikisource.org/wiki/El_hijo_de_un_avaro',\n",
       " 'https://es.wikisource.org/wiki/El_parque',\n",
       " 'https://es.wikisource.org/wiki/El_racimo_inocente',\n",
       " 'https://es.wikisource.org/wiki/El_silencio',\n",
       " 'https://es.wikisource.org/wiki/El_sue%C3%B1o_(Storni)',\n",
       " 'https://es.wikisource.org/wiki/Esta_tarde',\n",
       " 'https://es.wikisource.org/wiki/Este_libro',\n",
       " 'https://es.wikisource.org/wiki/Frase',\n",
       " 'https://es.wikisource.org/wiki/Frente_al_mar',\n",
       " 'https://es.wikisource.org/wiki/La_inquietud_del_rosal',\n",
       " 'https://es.wikisource.org/wiki/La_mirada_(Storni)',\n",
       " 'https://es.wikisource.org/wiki/La_que_comprende',\n",
       " 'https://es.wikisource.org/wiki/Llama',\n",
       " 'https://es.wikisource.org/wiki/Ma%C3%B1ana_gris',\n",
       " 'https://es.wikisource.org/wiki/Melancol%C3%ADa_(Storni)',\n",
       " 'https://es.wikisource.org/wiki/Mi_hermana',\n",
       " 'https://es.wikisource.org/wiki/Mundo_de_siete_pozos_(poema)',\n",
       " 'https://es.wikisource.org/wiki/Naturaleza_m%C3%ADa',\n",
       " 'https://es.wikisource.org/wiki/Odio',\n",
       " 'https://es.wikisource.org/wiki/Plaza_en_invierno',\n",
       " 'https://es.wikisource.org/wiki/Par%C3%A1sitos',\n",
       " 'https://es.wikisource.org/wiki/Paz',\n",
       " 'https://es.wikisource.org/wiki/Peso_ancestral',\n",
       " 'https://es.wikisource.org/wiki/Piedra_miserable',\n",
       " 'https://es.wikisource.org/wiki/Presentimiento_(Storni)',\n",
       " 'https://es.wikisource.org/wiki/Queja',\n",
       " 'https://es.wikisource.org/wiki/Regreso_en_sue%C3%B1os',\n",
       " 'https://es.wikisource.org/wiki/S%C3%A1bado',\n",
       " 'https://es.wikisource.org/wiki/Sab%C3%A9is_algo',\n",
       " 'https://es.wikisource.org/wiki/Siesta_(Storni)',\n",
       " 'https://es.wikisource.org/wiki/Siete_vidas',\n",
       " 'https://es.wikisource.org/wiki/Soy_esa_flor',\n",
       " 'https://es.wikisource.org/wiki/Tu_me_quieres_blanca',\n",
       " 'https://es.wikisource.org/wiki/Un_cementerio_que_mira_al_mar',\n",
       " 'https://es.wikisource.org/wiki/Un_d%C3%ADa',\n",
       " 'https://es.wikisource.org/wiki/Un_sol',\n",
       " 'https://es.wikisource.org/wiki/Voluntad',\n",
       " 'https://es.wikisource.org/wiki/Voz',\n",
       " 'https://es.wikisource.org/wiki/Y_t%C3%BA',\n",
       " 'https://es.wikisource.org/wiki/A_Eros',\n",
       " 'https://es.wikisource.org/wiki/A_Madona',\n",
       " 'https://es.wikisource.org/wiki/Amor_(Storni)',\n",
       " 'https://es.wikisource.org/wiki/Canci%C3%B3n_de_la_mujer_astuta',\n",
       " 'https://es.wikisource.org/wiki/Cara_copiada',\n",
       " 'https://es.wikisource.org/wiki/Duerme_tranquilo',\n",
       " 'https://es.wikisource.org/wiki/El_hijo_(Storni)',\n",
       " 'https://es.wikisource.org/wiki/El_hombre_(Storni)',\n",
       " 'https://es.wikisource.org/wiki/El_sue%C3%B1o_2_(Storni)',\n",
       " 'https://es.wikisource.org/wiki/Encuentro_(Storni)',\n",
       " 'https://es.wikisource.org/wiki/Fiesta',\n",
       " 'https://es.wikisource.org/wiki/Humildad_(Storni)',\n",
       " 'https://es.wikisource.org/wiki/La_v%C3%ADa_lactea',\n",
       " 'https://es.wikisource.org/wiki/Noche_divina',\n",
       " 'https://es.wikisource.org/wiki/Olvido',\n",
       " 'https://es.wikisource.org/wiki/Palabras_a_mi_madre',\n",
       " 'https://es.wikisource.org/wiki/Pasi%C3%B3n_(Storni)',\n",
       " 'https://es.wikisource.org/wiki/Pudiera_ser',\n",
       " 'https://es.wikisource.org/wiki/Ruego_a_Prometeo',\n",
       " 'https://es.wikisource.org/wiki/Soy',\n",
       " 'https://es.wikisource.org/wiki/Sugesti%C3%B3n_de_una_cuna_vac%C3%ADa',\n",
       " 'https://es.wikisource.org/wiki/Una_mirada',\n",
       " 'https://es.wikisource.org/wiki/Vida',\n",
       " 'https://es.wikisource.org/wiki/Voy_a_dormir']"
      ]
     },
     "execution_count": 35,
     "metadata": {},
     "output_type": "execute_result"
    }
   ],
   "source": [
    "enlaces_limpios"
   ]
  },
  {
   "cell_type": "markdown",
   "metadata": {},
   "source": [
    "<a name=\"crear-lista-urls\"></a>\n",
    "## Bajar el contenido\n",
    "\n",
    "Vamos a bajar el contenido para cada uno de estos URLs. Si bien no es necesario, me parece recomendable guardar este contenido en un archivo. Así, en caso de que tengamos errores o queramos modificar nuestro tratamiento de la página, no hay que volver a hacer una llamada al servidor cada vez que queremos modificar el resultado.\n",
    "\n",
    "Hemos visto la mayor parte de las instrucciones y constructos que permiten hacer esto en el ejemplo sobre un poema individual: bajar páginas, crear un directorio y archivos de salida, y bucles para aplicar esto a una secuencia.\n",
    "\n",
    "En el código siguiente se hacen varias importaciones:\n",
    "1. La instrucción `sleep` del paquete `time`: Se usará para esperar un número de segundos entre petición y petición al servidor al bajar las páginas (similar a lo visto con la opción *Throttle delay* de la interfaz de OpenRefine\n",
    "1. La instrucción `unquote` de `urllib.parse` y el módulo `unicodedata`. Esto se usará para crear nombres de archivos viables a partir de los URL. Hay comentarios (líneas precedidas de `#`) en el código y no daré más detalles en el texto del notebook\n",
    "\n",
    "Las etapas para bajar el contenido son:\n",
    "\n",
    "1. Crear un directorio para guardar las páginas (esto en sí es opcional ya que podríamos guardar todo en memoria, extraer el contenido y escribir sólo el resultado de la extracción, pero se ha decidido hacer por las razones mencionadas)\n",
    "1. En el bucle, se obtiene con `requests` el HTML para cada página.\n",
    "1. Varias manipulaciones para crear un nombre de archivo a partir de cada URL\n",
    "1. Escritura del contenido en un archivo, con `with` en las líneas finales. La sintaxis consiste a abrir un descriptor de fichero, asignado al alias `defi`. El descriptor se abre en modo escritura, con la sintaxis `with open(ruta-de-acceso, mode=\"w\") as descriptor:`. Después solo falta escribir el contenido en el archivo con la sintaxis `descriptor.write(contenido)`"
   ]
  },
  {
   "cell_type": "code",
   "execution_count": 45,
   "metadata": {
    "scrolled": true
   },
   "outputs": [
    {
     "name": "stdout",
     "output_type": "stream",
     "text": [
      "https://es.wikisource.org/wiki/Agrio_esta_el_mundo\n",
      "https://es.wikisource.org/wiki/Alma_desnuda\n",
      "https://es.wikisource.org/wiki/Asi\n",
      "https://es.wikisource.org/wiki/Aspecto\n",
      "https://es.wikisource.org/wiki/Buenos_Aires_(Storni)\n",
      "https://es.wikisource.org/wiki/Calle\n",
      "https://es.wikisource.org/wiki/Carta_lirica_a_otra_mujer\n",
      "https://es.wikisource.org/wiki/Contra_voz\n",
      "https://es.wikisource.org/wiki/Date_a_volar\n",
      "https://es.wikisource.org/wiki/Dolor_(Storni)\n",
      "https://es.wikisource.org/wiki/Dos_palabras\n",
      "https://es.wikisource.org/wiki/Dulce_tortura\n",
      "https://es.wikisource.org/wiki/El_canal\n",
      "https://es.wikisource.org/wiki/El_cisne_enfermo\n",
      "https://es.wikisource.org/wiki/El_divino_amor\n",
      "https://es.wikisource.org/wiki/El_hijo_de_un_avaro\n",
      "https://es.wikisource.org/wiki/El_parque\n",
      "https://es.wikisource.org/wiki/El_racimo_inocente\n",
      "https://es.wikisource.org/wiki/El_silencio\n",
      "https://es.wikisource.org/wiki/El_sueno_(Storni)\n",
      "https://es.wikisource.org/wiki/Esta_tarde\n",
      "https://es.wikisource.org/wiki/Este_libro\n",
      "https://es.wikisource.org/wiki/Frase\n",
      "https://es.wikisource.org/wiki/Frente_al_mar\n",
      "https://es.wikisource.org/wiki/La_inquietud_del_rosal\n",
      "https://es.wikisource.org/wiki/La_mirada_(Storni)\n",
      "https://es.wikisource.org/wiki/La_que_comprende\n",
      "https://es.wikisource.org/wiki/Llama\n",
      "https://es.wikisource.org/wiki/Manana_gris\n",
      "https://es.wikisource.org/wiki/Melancolia_(Storni)\n",
      "https://es.wikisource.org/wiki/Mi_hermana\n",
      "https://es.wikisource.org/wiki/Mundo_de_siete_pozos_(poema)\n",
      "https://es.wikisource.org/wiki/Naturaleza_mia\n",
      "https://es.wikisource.org/wiki/Odio\n",
      "https://es.wikisource.org/wiki/Plaza_en_invierno\n",
      "https://es.wikisource.org/wiki/Parasitos\n",
      "https://es.wikisource.org/wiki/Paz\n",
      "https://es.wikisource.org/wiki/Peso_ancestral\n",
      "https://es.wikisource.org/wiki/Piedra_miserable\n",
      "https://es.wikisource.org/wiki/Presentimiento_(Storni)\n",
      "https://es.wikisource.org/wiki/Queja\n",
      "https://es.wikisource.org/wiki/Regreso_en_suenos\n",
      "https://es.wikisource.org/wiki/Sabado\n",
      "https://es.wikisource.org/wiki/Sabeis_algo\n",
      "https://es.wikisource.org/wiki/Siesta_(Storni)\n",
      "https://es.wikisource.org/wiki/Siete_vidas\n",
      "https://es.wikisource.org/wiki/Soy_esa_flor\n",
      "https://es.wikisource.org/wiki/Tu_me_quieres_blanca\n",
      "https://es.wikisource.org/wiki/Un_cementerio_que_mira_al_mar\n",
      "https://es.wikisource.org/wiki/Un_dia\n",
      "https://es.wikisource.org/wiki/Un_sol\n",
      "https://es.wikisource.org/wiki/Voluntad\n",
      "https://es.wikisource.org/wiki/Voz\n",
      "https://es.wikisource.org/wiki/Y_tu\n",
      "https://es.wikisource.org/wiki/A_Eros\n",
      "https://es.wikisource.org/wiki/A_Madona\n",
      "https://es.wikisource.org/wiki/Amor_(Storni)\n",
      "https://es.wikisource.org/wiki/Cancion_de_la_mujer_astuta\n",
      "https://es.wikisource.org/wiki/Cara_copiada\n",
      "https://es.wikisource.org/wiki/Duerme_tranquilo\n",
      "https://es.wikisource.org/wiki/El_hijo_(Storni)\n",
      "https://es.wikisource.org/wiki/El_hombre_(Storni)\n",
      "https://es.wikisource.org/wiki/El_sueno_2_(Storni)\n",
      "https://es.wikisource.org/wiki/Encuentro_(Storni)\n",
      "https://es.wikisource.org/wiki/Fiesta\n",
      "https://es.wikisource.org/wiki/Humildad_(Storni)\n",
      "https://es.wikisource.org/wiki/La_via_lactea\n",
      "https://es.wikisource.org/wiki/Noche_divina\n",
      "https://es.wikisource.org/wiki/Olvido\n",
      "https://es.wikisource.org/wiki/Palabras_a_mi_madre\n",
      "https://es.wikisource.org/wiki/Pasion_(Storni)\n",
      "https://es.wikisource.org/wiki/Pudiera_ser\n",
      "https://es.wikisource.org/wiki/Ruego_a_Prometeo\n",
      "https://es.wikisource.org/wiki/Soy\n",
      "https://es.wikisource.org/wiki/Sugestion_de_una_cuna_vacia\n",
      "https://es.wikisource.org/wiki/Una_mirada\n",
      "https://es.wikisource.org/wiki/Vida\n",
      "https://es.wikisource.org/wiki/Voy_a_dormir\n"
     ]
    }
   ],
   "source": [
    "from time import sleep\n",
    "from urllib.parse import unquote\n",
    "import unicodedata\n",
    "\n",
    "html_indiv_dir = pathlib.Path.cwd().joinpath(\"resultados\", \"desde-html\", \"html-poemas-storni\")\n",
    "if not html_indiv_dir.is_dir():\n",
    "    html_indiv_dir.mkdir(parents=True)\n",
    "\n",
    "for enli in enlaces_limpios:\n",
    "    respuesta = requests.get(enli)\n",
    "    sleep(2.5)\n",
    "    html_poema = respuesta.text\n",
    "    # todo lo que sigue es para escribir el contenido del HTML en un archivo\n",
    "    #  sustituir secuencias del URL como caracteres acentuados por el carácter respectivo: As%C3%AD --> Así\n",
    "    url_unquoted = unquote(enli)\n",
    "    #  quitar caracteres acentuados de los URL para crear nombres de archivo\n",
    "    url_normalizado = unicodedata.normalize('NFKD', url_unquoted).encode('ascii', 'ignore').decode('utf8')\n",
    "    print(url_normalizado)\n",
    "    #  para crear el nombre del archivo, quitar todo el URL menos lo que sigue la última barra /\n",
    "    nombre_archivo = url_normalizado.split(\"/\")[-1]\n",
    "    #  quitar paréntesis para obtener el nombre de archivo final\n",
    "    nombre_archivo = nombre_archivo.replace(\"(\", \"\").replace(\")\", \"\")\n",
    "    # escritura del html\n",
    "    with open(html_indiv_dir.joinpath(nombre_archivo + \".html\"), mode=\"w\") as defi_html:\n",
    "        defi_html.write(html_poema)"
   ]
  },
  {
   "cell_type": "code",
   "execution_count": 43,
   "metadata": {},
   "outputs": [
    {
     "data": {
      "text/plain": [
       "False"
      ]
     },
     "execution_count": 43,
     "metadata": {},
     "output_type": "execute_result"
    }
   ],
   "source": [
    "html_indiv_dir.joinpath(nombre_archivo + \".html\").is_file()"
   ]
  },
  {
   "cell_type": "markdown",
   "metadata": {},
   "source": [
    "<a name=\"extraer-contenido-multiple\"></a>\n",
    "## Extraer la información\n",
    "\n",
    "\n"
   ]
  },
  {
   "cell_type": "markdown",
   "metadata": {},
   "source": [
    "\n",
    "<a name=\"salida-archivos\"></a>\n",
    "## Guardar los resultados"
   ]
  }
 ],
 "metadata": {
  "kernelspec": {
   "display_name": "PyCharm (repo)",
   "language": "python",
   "name": "pycharm-fb3330b0"
  },
  "language_info": {
   "codemirror_mode": {
    "name": "ipython",
    "version": 3
   },
   "file_extension": ".py",
   "mimetype": "text/x-python",
   "name": "python",
   "nbconvert_exporter": "python",
   "pygments_lexer": "ipython3",
   "version": "3.8.11"
  },
  "pycharm": {
   "stem_cell": {
    "cell_type": "raw",
    "metadata": {
     "collapsed": false
    },
    "source": []
   }
  }
 },
 "nbformat": 4,
 "nbformat_minor": 1
}
