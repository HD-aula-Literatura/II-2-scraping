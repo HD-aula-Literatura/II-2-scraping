{
 "cells": [
  {
   "cell_type": "markdown",
   "source": [
    "# Extracción de contenido (*scraping*) con el lenguaje de programación Python\n",
    "\n",
    "- [Introducción](#intro)\n",
    "- [Extracción de un poema dado su URL](#extraccion-poema-indiv)\n",
    "    - [Bajar el contenido de un URL](#bajar-url)\n",
    "    - [Extraer el contenido](#extraer-contenido)\n",
    "        - [Obtener los metadatos](#metadatos-indiv)\n",
    "        - [Obtener el texto del poema](#texto-indiv)\n",
    "    - [Escribir la información extraída en archivos de salida](#salida-archivo)\n",
    "\n",
    "# Introducción\n",
    "<a name=\"intro\"></a>\n",
    "\n",
    "Veremos cómo efectuar las operaciones siguientes:\n",
    "\n",
    "- Bajar el contenido (en HTML) de uno o varios URL\n",
    "- Analizar (parsing) el HTML de forma automática para extraer el contenido de las etiquetas que nos interesan\n",
    "- Crear archivos de salida con la información extraída y archivos de entrada con información a explotar para la extracción\n",
    "\n",
    "<html><!--\n",
    "%TODO% añadir información sobre cómo usar un notebook Jupyter\n",
    "-->\n",
    "</html>\n",
    "\n",
    "## Extraer el contenido y metadatos de un poema, dado sur URL\n",
    "<a name=\"extraccion-poema-indiv\"></a>\n",
    "\n",
    "Esta tarea corresponde a lo realizado con OpenRefine en la sección 4.1 del capítulo.\n",
    "\n",
    "### Bajar el contenido de un URL\n",
    "<a name=\"bajar-url\"></a>\n",
    "\n",
    "Para bajar el contenido usamos la biblioteca (conjunto de instrucciones que podemos utilizar desde código Python) [requests](https://requests.readthedocs.io/en/latest/)\n",
    "\n",
    "En caso de que la biblioteca no esté instalada (lo cual se verá ya que, al intentar usarla, habrá un mensaje de error que lo indique), se puede instalar con `pip install requests` (ver [documentación](https://requests.readthedocs.io/en/latest/))\n",
    "\n",
    "En el código siguiente, se siguen varias etapas:\n",
    "- importamos los paquetes o bibliotecas a utilizar\n",
    "- el URL se asigna, como cadena de caracteres (entre comillas), a una variable llamada `url_pagina` \n",
    "- hacemos una petición para obtener el contenido de la página, con `requests.get()`\n",
    "- obtenemos una respuesta, asignada a la variable `respuesta`. Esta respuesta tiene propiedades interesantes, como las siguientes\n",
    "  - `.status_code`, que será 200 si el contenido se ha bajado correctamente, u otro código (p. ej. 404 o 500) en caso de error\n",
    "  - `.text`: devuelve una cadena de texto que representa el contenido de la página. En este caso se trata de contenido HTML (una cadena de texto que representa el HTML de la página).\n",
    "- Asignamos el contenido de la página (`respuesta.text`) a la variable `html_pagina`. Necesitamos este contenido para crear el árbol HTML que explotaremos para la extracción"
   ],
   "metadata": {
    "collapsed": false
   }
  },
  {
   "cell_type": "code",
   "execution_count": 20,
   "metadata": {
    "collapsed": true,
    "pycharm": {
     "name": "#%%\n",
     "is_executing": false
    }
   },
   "outputs": [],
   "source": [
    "import requests\n",
    "url_pagina = \"https://es.wikisource.org/wiki/Una_vi%C3%B1eta\"\n",
    "respuesta = requests.get(url_pagina)\n",
    "html_pagina = respuesta.text"
   ]
  },
  {
   "cell_type": "markdown",
   "source": [
    "### Extraer el contenido\n",
    "<a name=\"extraer-contenido\"></a>\n",
    "\n",
    "Usaremos el árbol HTML para esto. Ya vimos este tipo de enfoque, con OpenRefine, cuyo lenguaje [GREL](https://docs.openrefine.org/manual/grelfunctions) tiene une instrucción `parseHtml()` para crear el árbol\n",
    "\n",
    "Con Python, para crear el árbol HTML y extraer el contenido, utilizaremos la \"biblioteca\" [BeautifulSoup](https://www.crummy.com/software/BeautifulSoup/bs4/doc/), ampliamente utilizada. Etapas:\n",
    "\n",
    "- Importamos la biblioteca, con la instrucción `from bs4 import BeautifulSoup`\n",
    "- En caso de que la biblioteca no esté instalada (lo cual se verá ya que, al intentar usarla, habrá un mensaje de error que lo indique), se puede instalar con `pip install beautifulsoup4` (ver [documentación](https://www.crummy.com/software/BeautifulSoup/bs4/doc/))\n",
    "- Creamos el árbol HTML a partir de la cadena de texto que lo representa (obtenida más arriva), con `BeautifulSoup(html_pagina)`\n",
    "\n",
    "Nota: Es habitual llamar \"soup\" o \"sopa\" a la representación de contenido HTML analizado con una biblioteca (BeautifulSoup en Python, [JSoup](https://jsoup.org/apidocs/org/jsoup/select/Selector.html) en Java; por cierto OpenRefine en tanto que herramienta creada en Java usa JSoup)"
   ],
   "metadata": {
    "collapsed": false,
    "pycharm": {
     "name": "#%% md\n"
    }
   }
  },
  {
   "cell_type": "code",
   "execution_count": 23,
   "outputs": [],
   "source": [
    "from bs4 import BeautifulSoup\n",
    "arbol = BeautifulSoup(html_pagina)"
   ],
   "metadata": {
    "collapsed": false,
    "pycharm": {
     "name": "#%%\n",
     "is_executing": false
    }
   }
  },
  {
   "cell_type": "markdown",
   "source": [
    "#### Obtener los metadatos\n",
    "<a name=\"metadatos-indiv\"></a>\n",
    "\n",
    "Una vez que el árbol está disponible, podemos extraer información basándonos en el nombre y atributos de los elementos, como hicimos con OpenRefine en el capítulo.\n",
    "\n",
    "- Para el elemento de la autora, buscaremos un elemento `<span class='ws-author'>` (es decir, un elemento `span` con un atributo `class` cuyo valor es `ws-author`).\n",
    "\n",
    "- Para el elemento del título, buscaremos un elemento `<span class='ws-title'>` (es decir, un elemento `span` con un atributo `class` cuyo valor es `ws-title`).\n",
    "\n",
    "Para hacer esta búsqueda, podemos usar el método `find_all()`, disponible a partir del objeto árbol (que está asignado a la variable `arbol`). Hay varias formas posibles de proceder (ver [documentación](https://www.crummy.com/software/BeautifulSoup/bs4/doc/#find-all)), pero una manera genérica es la siguiente:\n",
    "\n",
    "```python\n",
    "arbol.find_all(\"span\", attrs={\"class\": 'ws-title'})\n",
    "``` \n",
    "Como se ve en el ejemplo, como argumentos a `find_all()` se da el nombre del elemento, y después la sequencia `attrs=` seguida del nombre y valor del atributo buscado, respetando la sintaxis del ejemplo (cadenas entrecomilladas separadas por el signo dos puntos)\n",
    "\n",
    "<html><!--Comentario si usamos class_ Cabe mencionar que la clave de búsqueda no es `class` sino `class`, ya que la palabra *class* ya tiene otra utilización en Python.--></html> \n",
    "\n",
    "Asignaremos el resultado de cada búsqueda a una variable."
   ],
   "metadata": {
    "collapsed": false,
    "pycharm": {
     "name": "#%% md\n"
    }
   }
  },
  {
   "cell_type": "code",
   "execution_count": 24,
   "outputs": [],
   "source": [
    "autora_ele = arbol.find_all(\"span\", attrs={\"class\": \"ws-author\"})\n",
    "titulo_ele = arbol.find_all(\"span\", attrs={\"class\": \"ws-title\"})"
   ],
   "metadata": {
    "collapsed": false,
    "pycharm": {
     "name": "#%%\n",
     "is_executing": false
    }
   }
  },
  {
   "cell_type": "markdown",
   "source": [
    "Si miramos el contenido de las variables, veremos que, como pasaba con `select()` en las consultas de HTML en OpenRefine, `find_all()` devuelve una lista de valores.\n",
    "\n",
    "Podemos examinar el contenido de las variables simplemente escribiendo su nombre en una celda de notebook Jupyter o en una consola de Python, o con la función `print()`, pasándole el nombre de la variable como argumento."
   ],
   "metadata": {
    "collapsed": false,
    "pycharm": {
     "name": "#%% md\n"
    }
   }
  },
  {
   "cell_type": "code",
   "execution_count": 25,
   "outputs": [
    {
     "data": {
      "text/plain": "[<span class=\"ws-author\">Delmira Agustini</span>]"
     },
     "metadata": {},
     "output_type": "execute_result",
     "execution_count": 25
    }
   ],
   "source": [
    "# comentario: escribir nombre de variable para ver su valor\n",
    "autora_ele"
   ],
   "metadata": {
    "collapsed": false,
    "pycharm": {
     "name": "#%%\n",
     "is_executing": false
    }
   }
  },
  {
   "cell_type": "code",
   "execution_count": 26,
   "outputs": [
    {
     "name": "stdout",
     "text": [
      "[<span class=\"ws-author\">Delmira Agustini</span>]\n"
     ],
     "output_type": "stream"
    }
   ],
   "source": [
    "# ver valor de una variable con print()\n",
    "print(autora_ele)"
   ],
   "metadata": {
    "collapsed": false,
    "pycharm": {
     "name": "#%%\n",
     "is_executing": false
    }
   }
  },
  {
   "cell_type": "markdown",
   "source": [
    "En tanto que listas, accederemos a su contenido con índices numéricos, y se empieza a contar por cero: `autora_ele[0]`.\n",
    "\n",
    "Como pasaba con OpenRefine, como salida de nuestro procesamiento no queremos un \"elemento\", un \"nodo\" de un árbol con propiedades útiles para su análisis con funciones de manipulación del árbol, sino una cadena de texto. Para esto, podemos usar el método `get_text()` de los elementos tal que analizados por BeautifulSoup. "
   ],
   "metadata": {
    "collapsed": false,
    "pycharm": {
     "name": "#%% md\n"
    }
   }
  },
  {
   "cell_type": "code",
   "execution_count": 27,
   "outputs": [],
   "source": [
    "autora = autora_ele[0].get_text()\n",
    "titulo = titulo_ele[0].get_text()"
   ],
   "metadata": {
    "collapsed": false,
    "pycharm": {
     "name": "#%%\n",
     "is_executing": false
    }
   }
  },
  {
   "cell_type": "markdown",
   "source": [
    "Si inspeccionamos el contenido de las variables con `print()`, veremos que ahora sí contienen una cadena de texto con la información deseada"
   ],
   "metadata": {
    "collapsed": false,
    "pycharm": {
     "name": "#%% md\n"
    }
   }
  },
  {
   "cell_type": "code",
   "execution_count": 28,
   "outputs": [
    {
     "name": "stdout",
     "text": [
      "Delmira Agustini\n",
      "Una viñeta\n"
     ],
     "output_type": "stream"
    }
   ],
   "source": [
    "print(autora)\n",
    "print(titulo)"
   ],
   "metadata": {
    "collapsed": false,
    "pycharm": {
     "name": "#%%\n",
     "is_executing": false
    }
   }
  },
  {
   "cell_type": "markdown",
   "source": [
    "#### Obtener el texto del poema\n",
    "<a name=\"texto-indiv\"></a>\n",
    "\n",
    "Pasamos a la extracción del texto. Hay varias formas de hacer esto, algunas muy compactas. Usamos aquí una manera de hacerlo similar a lo que se hizo en el capítulo con OpenRefine.\n",
    "\n",
    "Se trata de identficar elementos `<div class='poem'>`. Podríamos usar la misma sintaxis que antes, que era `arbol.find_all(\"div\", attrs={\"class\":\"poem\"}`, pero cuando el atributo con el que trabajamos es `class`, podemos usar una sintaxis abreviada, como en el ejemplo.\n",
    "\n",
    "Además de `find_all()`, que devuelve una lista, también hay un método `find()` que devuelve directamente un elemento en vez de una lista. Vamos a usarlo esta vez."
   ],
   "metadata": {
    "collapsed": false,
    "pycharm": {
     "name": "#%% md\n"
    }
   }
  },
  {
   "cell_type": "code",
   "execution_count": 29,
   "outputs": [],
   "source": [
    "poema_div = arbol.find(\"div\", \"poem\")"
   ],
   "metadata": {
    "collapsed": false,
    "pycharm": {
     "name": "#%% \n",
     "is_executing": false
    }
   }
  },
  {
   "cell_type": "code",
   "execution_count": 30,
   "outputs": [
    {
     "name": "stdout",
     "text": [
      "<div class=\"poem\">\n",
      "<p> Tarde sucia de invierno. El caserío,   <br/>\n",
      " como si fuera un croquis al creyón,   <br/>\n",
      " se hunde en la noche. El humo de un bohío,   <br/>\n",
      " que sube en forma de tirabuzón;   <br/>\n",
      " <br/>\n",
      "<br/>\n",
      " mancha el paisaje que produce frío,  <br/>\n",
      " y debajo de la genuflexión   <br/>\n",
      " de la arboleda, somormuja el río   <br/>\n",
      " su canción, su somnífera canción.   <br/>\n",
      " <br/>\n",
      "<br/>\n",
      " Los labradores, camellón abajo,   <br/>\n",
      " retornan fatigosos del trabajo,  <br/>\n",
      " como un problema sin definición.   <br/>\n",
      " <br/>\n",
      "<br/>\n",
      " Y el dueño del terruño, indiferente,   <br/>\n",
      " rápidamente, muy rápidamente,   <br/>\n",
      " baja en su coche por el camellón.\n",
      "</p>\n",
      "</div>\n"
     ],
     "output_type": "stream"
    }
   ],
   "source": [
    "print(poema_div)"
   ],
   "metadata": {
    "collapsed": false,
    "pycharm": {
     "name": "#%%\n",
     "is_executing": false
    }
   }
  },
  {
   "cell_type": "markdown",
   "source": [
    "No hemos llegado todavía al elemento que contiene el poema, que es en realidad un `<p>` bajo el `<div class='poem'>`. Una manera fácil de hacerlo es con el método `find()` de nuevo."
   ],
   "metadata": {
    "collapsed": false,
    "pycharm": {
     "name": "#%% md\n"
    }
   }
  },
  {
   "cell_type": "code",
   "execution_count": 31,
   "outputs": [],
   "source": [
    "poema_ele = poema_div.find(\"p\")"
   ],
   "metadata": {
    "collapsed": false,
    "pycharm": {
     "name": "#%%\n",
     "is_executing": false
    }
   }
  },
  {
   "cell_type": "markdown",
   "source": [
    "Para obtener el texto, existe el método `get_text()`. Devuelve el texto como una cadena. A partir del resultado, lo vamos a dividir en versos usando un salto de línea y también vamos a eliminar espacios en blanco de los extremos de cada verso (como hicimos con OpenRefine).\n",
    "\n",
    "El método para elminiar espacios en blanco de los extremos de una cadena en Python es `strip()` (similar a `trim()` en OpenRefine). También hay `rstrip()` para quitar espacios sólo del final o `lstrip()` par quitar espacios sólo del principio.\n",
    "\n",
    "Usamos `strip()` dentro de un constructo llamado *comprensión de lista* o *list comprehension*. Como un bucle de tipo *for each* (visto en el capítulo), permite recorrer una secuencia usando una variable que sirve para iterar sobre la secuencia (`verso` en el ejemplo).\n",
    "\n",
    "Para escribir el resultado en un archivo, vamos a crear una cadena con `\"\\n\".join()`, que concatena los elementos de la lista `texto_versos_limpio` usando un salto de línea como separador. (La sintaxis es diferente a OpenRefine, donde se da como argumento el separador `.join(\"\\n\")` en vez de la lista a concatenar)."
   ],
   "metadata": {
    "collapsed": false,
    "pycharm": {
     "name": "#%% md\n"
    }
   }
  },
  {
   "cell_type": "code",
   "execution_count": 32,
   "outputs": [],
   "source": [
    "texto_poema_bruto = poema_ele.get_text()\n",
    "#arbol.select(\"div[class=poem] > p\")\n",
    "texto_versos = texto_poema_bruto.split(\"\\n\")\n",
    "texto_versos_limpio = [verso.strip() for verso in texto_versos]\n",
    "texto_versos_limpio\n",
    "texto_final = \"\\n\".join(texto_versos_limpio)"
   ],
   "metadata": {
    "collapsed": false,
    "pycharm": {
     "name": "#%%\n",
     "is_executing": false
    }
   }
  },
  {
   "cell_type": "code",
   "execution_count": 33,
   "outputs": [
    {
     "name": "stdout",
     "text": [
      "['Tarde sucia de invierno. El caserío,', 'como si fuera un croquis al creyón,', 'se hunde en la noche. El humo de un bohío,', 'que sube en forma de tirabuzón;', '', '', 'mancha el paisaje que produce frío,', 'y debajo de la genuflexión', 'de la arboleda, somormuja el río', 'su canción, su somnífera canción.', '', '', 'Los labradores, camellón abajo,', 'retornan fatigosos del trabajo,', 'como un problema sin definición.', '', '', 'Y el dueño del terruño, indiferente,', 'rápidamente, muy rápidamente,', 'baja en su coche por el camellón.', '']\n",
      "Tarde sucia de invierno. El caserío,\n",
      "como si fuera un croquis al creyón,\n",
      "se hunde en la noche. El humo de un bohío,\n",
      "que sube en forma de tirabuzón;\n",
      "\n",
      "\n",
      "mancha el paisaje que produce frío,\n",
      "y debajo de la genuflexión\n",
      "de la arboleda, somormuja el río\n",
      "su canción, su somnífera canción.\n",
      "\n",
      "\n",
      "Los labradores, camellón abajo,\n",
      "retornan fatigosos del trabajo,\n",
      "como un problema sin definición.\n",
      "\n",
      "\n",
      "Y el dueño del terruño, indiferente,\n",
      "rápidamente, muy rápidamente,\n",
      "baja en su coche por el camellón.\n",
      "\n"
     ],
     "output_type": "stream"
    }
   ],
   "source": [
    "print(texto_versos_limpio)\n",
    "print(texto_final)"
   ],
   "metadata": {
    "collapsed": false,
    "pycharm": {
     "name": "#%%\n",
     "is_executing": false
    }
   }
  },
  {
   "cell_type": "markdown",
   "source": [
    "Nota: Habría una manera compacta de conseguir el texto del poema, usando el método `select()`, cuyo argumento es un selector (una expresión para identificar un conjunto de nodos en un árbol HTML) que identifica los elementos `<p>` que son un hijo directo de un elemento `<div class=\"poem\">`, gracias al operador `>` que significa *hijo directo*:  "
   ],
   "metadata": {
    "collapsed": false,
    "pycharm": {
     "name": "#%% md\n"
    }
   }
  },
  {
   "cell_type": "markdown",
   "source": [
    "```python\n",
    "arbol.select(\"div[class=poem] > p\")[0].get_text()\n",
    "```"
   ],
   "metadata": {
    "collapsed": false,
    "pycharm": {
     "name": "#%% md\n",
     "is_executing": false
    }
   }
  },
  {
   "cell_type": "markdown",
   "source": [
    "### Escribir la información extraída en archivos de salida\n",
    "<a name=\"salida-archivo\"></a>\n",
    "\n",
    "Vamos a escribir el poema y sus metadatos en un archivo de salida.\n",
    "\n",
    "Una opción útil es crear un archivo delimitado (CSV, TSV, o de tipo hoja de cálculo). Para esto, se puede usar la biblioteca pandas.\n",
    "\n",
    "Crearemos una estructura de datos llamada dataframe, con las etapas siguientes:\n",
    "\n",
    "- El formato a utilizar se ve en la variable `datos`. Se declaran los nombres de las columnas, y, para cada columna, una lista con sus valores (ya hemos visto que los corchetes se suelen usar para representar listas entre otros usos).\n",
    "- Una vez que los datos están listos, el método `DataFrame` de la biblioteca pandas crea el objeto, con lo que `pd.DataFrame(datos)` crea la dataframe, que se ha asignado a una variable con nombre `df`."
   ],
   "metadata": {
    "collapsed": false
   }
  },
  {
   "cell_type": "code",
   "execution_count": 35,
   "outputs": [],
   "source": [
    "import pandas as pd\n",
    "\n",
    "datos = {\"autora\": [autora],\n",
    "         \"titulo\": [titulo],\n",
    "         \"textoPoema\": [texto_final]} \n",
    "\n",
    "df = pd.DataFrame(datos)"
   ],
   "metadata": {
    "collapsed": false,
    "pycharm": {
     "name": "#%%\n",
     "is_executing": false
    }
   }
  },
  {
   "cell_type": "code",
   "execution_count": 36,
   "outputs": [
    {
     "data": {
      "text/plain": "             autora      titulo  \\\n0  Delmira Agustini  Una viñeta   \n\n                                          textoPoema  \n0  Tarde sucia de invierno. El caserío,\\ncomo si ...  ",
      "text/html": "<div>\n<style scoped>\n    .dataframe tbody tr th:only-of-type {\n        vertical-align: middle;\n    }\n\n    .dataframe tbody tr th {\n        vertical-align: top;\n    }\n\n    .dataframe thead th {\n        text-align: right;\n    }\n</style>\n<table border=\"1\" class=\"dataframe\">\n  <thead>\n    <tr style=\"text-align: right;\">\n      <th></th>\n      <th>autora</th>\n      <th>titulo</th>\n      <th>textoPoema</th>\n    </tr>\n  </thead>\n  <tbody>\n    <tr>\n      <th>0</th>\n      <td>Delmira Agustini</td>\n      <td>Una viñeta</td>\n      <td>Tarde sucia de invierno. El caserío,\\ncomo si ...</td>\n    </tr>\n  </tbody>\n</table>\n</div>"
     },
     "metadata": {},
     "output_type": "execute_result",
     "execution_count": 36
    }
   ],
   "source": [
    "df"
   ],
   "metadata": {
    "collapsed": false,
    "pycharm": {
     "name": "#%%\n",
     "is_executing": false
    }
   }
  },
  {
   "cell_type": "markdown",
   "source": [
    "Vamos a escribir los resultados en archivos de salida con distintos formatos, aprovechando las posibilidades de pandas.\n",
    "\n",
    "Para crear las rutas (la localización en el disco de cada archivo) usamos el módulo `pathlib`. \n",
    "\n",
    "- Se obtiene el directorio donde reside este notebook con `pathlib.Path.cwd()`\n",
    "- A partir de ahí, se crea el resto de la ruta con `.joinpath()`. Cada etapa de la ruta (cada directorio y el archivo final) se da como argumento  \n",
    "\n",
    "Para escribir el contenido de las dataframes a los archivos, usamos métodos disponibles desde el objeto dataframe, que aquí se ha llamado `df` (es un nombre habitual).\n",
    "- El método `to_csv()` escribe archivos delimitados por comas, a no ser que se le dé el argumento `sep=\"\\t\"` en cuyo caso utilizará tabulaciones como delimitador (lo que se llama a veces archivo TSV en vez de CSV). Tanto los CSV como los TSV se pueden abrir fácilmente con LibreOffice Calc o con Excel\n",
    "- El método `to_excel()` crea archivos en formato XLSX (Excel)\n",
    "- La opción `index=False` se usa ya que de lo contrario, pandas añade una primera columna con el número de fila, lo cual no es informativo para lo que estamos haciendo"
   ],
   "metadata": {
    "collapsed": false,
    "pycharm": {
     "name": "#%% md\n"
    }
   }
  },
  {
   "cell_type": "code",
   "execution_count": 37,
   "outputs": [],
   "source": [
    "import pathlib\n",
    "\n",
    "directorio_actual = pathlib.Path.cwd()\n",
    "dir_resultados = directorio_actual.joinpath(\"resultados\", \"desde-html\")\n",
    "nombre_fichero = \"agustini_poema\"\n",
    "salida_csv = dir_resultados.joinpath(nombre_fichero + \".csv\")\n",
    "salida_tsv = dir_resultados.joinpath(nombre_fichero + \".tsv\")\n",
    "salida_excel = dir_resultados.joinpath(nombre_fichero + \".xlsx\")"
   ],
   "metadata": {
    "collapsed": false,
    "pycharm": {
     "name": "#%%\n",
     "is_executing": false
    }
   }
  },
  {
   "cell_type": "code",
   "execution_count": 38,
   "outputs": [],
   "source": [
    "df.to_csv(salida_csv, index=False)\n",
    "df.to_csv(salida_tsv, sep=\"\\t\", index=False)\n",
    "df.to_excel(salida_excel, index=False)"
   ],
   "metadata": {
    "collapsed": false,
    "pycharm": {
     "name": "#%%\n",
     "is_executing": false
    }
   }
  }
 ],
 "metadata": {
  "kernelspec": {
   "name": "pycharm-fb3330b0",
   "language": "python",
   "display_name": "PyCharm (repo)"
  },
  "language_info": {
   "codemirror_mode": {
    "name": "ipython",
    "version": 2
   },
   "file_extension": ".py",
   "mimetype": "text/x-python",
   "name": "python",
   "nbconvert_exporter": "python",
   "pygments_lexer": "ipython2",
   "version": "2.7.6"
  },
  "pycharm": {
   "stem_cell": {
    "cell_type": "raw",
    "source": [],
    "metadata": {
     "collapsed": false
    }
   }
  }
 },
 "nbformat": 4,
 "nbformat_minor": 0
}