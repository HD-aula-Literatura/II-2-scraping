{
 "cells": [
  {
   "cell_type": "markdown",
   "source": [
    "# Extracción de contenido (*scraping*) con el lenguaje de programación Python\n",
    "\n",
    "Veremos cómo efectuar las operaciones siguientes:\n",
    "\n",
    "- Bajar el contenido (en HTML) de uno o varios URL\n",
    "- Analizar (parsing) el HTML de forma automática para extraer el contenido de las etiquetas que nos interesan\n",
    "- Crear archivos de salida con la información extraída y archivos de entrada con información a explotar para la extracción\n",
    "- %TODO% añadir información sobre cómo usar un notebook Jupyter\n",
    "\n",
    "## Extraer el contenido y metadatos de un poema, dado sur URL\n",
    "\n",
    "Esta tarea corresponde a lo realizado con OpenRefine en la sección 4.1 del capítulo.\n",
    "\n",
    "### Bajar el contenido de un URL\n",
    "\n",
    "Para bajar el contenido usamos la biblioteca (conjunto de instrucciones que podemos utilizar desde código Python) [requests](https://requests.readthedocs.io/en/latest/)\n",
    "\n",
    "En caso de que la biblioteca no esté instalada (lo cual se verá ya que, al intentar usarla, habrá un mensaje de error que lo indique), se puede instalar con `pip install requests` (ver [documentación](https://requests.readthedocs.io/en/latest/))\n",
    "\n",
    "\n",
    "\n",
    "En el código siguiente, se siguen varias etapas:\n",
    "- importamos los paquetes o bibliotecas a utilizar\n",
    "- el URL se asigna, como cadena de caracteres (entre comillas), a una variable llamada `url_pagina` \n",
    "- hacemos una petición para obtener el contenido de la página, con `requests.get()`\n",
    "- obtenemos una respuesta, asignada a la variable `respuesta`. Esta respuesta tiene propiedades interesantes, como las siguientes\n",
    "  - `.status_code`, que será 200 si el contenido se ha bajado correctamente, u otro código (p. ej. 404 o 500) en caso de error\n",
    "  - `.text`: devuelve una cadena de texto que representa el contenido de la página. En este caso se trata de contenido HTML (una cadena de texto que representa el HTML de la página).\n",
    "- Asignamos el contenido de la página (`respuesta.text`) a la variable `html_pagina`. Necesitamos este contenido para crear el árbol HTML que explotaremos para la extracción"
   ],
   "metadata": {
    "collapsed": false
   }
  },
  {
   "cell_type": "code",
   "execution_count": 18,
   "metadata": {
    "collapsed": true,
    "pycharm": {
     "name": "#%%\n",
     "is_executing": false
    }
   },
   "outputs": [],
   "source": [
    "import requests\n",
    "url_pagina = \"https://es.wikisource.org/wiki/Una_vi%C3%B1eta\"\n",
    "respuesta = requests.get(url_pagina)\n",
    "html_pagina = respuesta.text"
   ]
  },
  {
   "cell_type": "code",
   "execution_count": 13,
   "outputs": [
    {
     "data": {
      "text/plain": "<PreparedRequest [GET]>"
     },
     "metadata": {},
     "output_type": "execute_result",
     "execution_count": 13
    }
   ],
   "source": [
    "respuesta.request"
   ],
   "metadata": {
    "collapsed": false,
    "pycharm": {
     "name": "#%%\n",
     "is_executing": false
    }
   }
  },
  {
   "cell_type": "code",
   "execution_count": 19,
   "outputs": [
    {
     "data": {
      "text/plain": "'<!DOCTYPE html>\\n<html class=\"client-nojs\" lang=\"es\" dir=\"ltr\">\\n<head>\\n<meta charset=\"UTF-8\"/>\\n<title>Una viñeta - Wikisource</title>\\n<script>document.documentElement.className=\"client-js\";RLCONF={\"wgBreakFrames\":false,\"wgSeparatorTransformTable\":[\",\\\\t.\",\"\\xa0\\\\t,\"],\"wgDigitTransformTable\":[\"\",\"\"],\"wgDefaultDateFormat\":\"dmy\",\"wgMonthNames\":[\"\",\"enero\",\"febrero\",\"marzo\",\"abril\",\"mayo\",\"junio\",\"julio\",\"agosto\",\"septiembre\",\"octubre\",\"noviembre\",\"diciembre\"],\"wgRequestId\":\"d17cc5b2-9958-46ac-b53d-05127ef0ca4e\",\"wgCSPNonce\":false,\"wgCanonicalNamespace\":\"\",\"wgCanonicalSpecialPageName\":false,\"wgNamespaceNumber\":0,\"wgPageName\":\"Una_viñeta\",\"wgTitle\":\"Una viñeta\",\"wgCurRevisionId\":1193682,\"wgRevisionId\":1193682,\"wgArticleId\":27121,\"wgIsArticle\":true,\"wgIsRedirect\":false,\"wgAction\":\"view\",\"wgUserName\":null,\"wgUserGroups\":[\"*\"],\"wgCategories\":[\"ES-U\",\"Sonetos\",\"Sonetos de Delmira Agustini\",\"Literatura uruguaya (Títulos)\"],\"wgPageContentLanguage\":\"es\",\"wgPageContentModel\":\"wikitext\",\"wgRelevantPageName\":\"Una_viñeta\",\"wgRelevantArticleId\":27121,\"wgIsProbablyEditable\":true,\"wgRelevantPageIsProbablyEditable\":true,\"wgRestrictionEdit\":[],\\n\"wgRestrictionMove\":[],\"wgVisualEditor\":{\"pageLanguageCode\":\"es\",\"pageLanguageDir\":\"ltr\",\"pageVariantFallbacks\":\"es\"},\"wgMFDisplayWikibaseDescriptions\":{\"search\":true,\"nearby\":true,\"watchlist\":true,\"tagline\":false},\"wgWMESchemaEditAttemptStepOversample\":false,\"wgWMEPageLength\":800,\"wgNoticeProject\":\"wikisource\",\"wgMediaViewerOnClick\":true,\"wgMediaViewerEnabledByDefault\":true,\"wgULSCurrentAutonym\":\"español\",\"wgEditSubmitButtonLabelPublish\":true,\"wgCentralAuthMobileDomain\":false,\"wgULSPosition\":\"interlanguage\",\"wgULSisCompactLinksEnabled\":false,\"wgWikibaseItemId\":\"Q19492667\"};RLSTATE={\"ext.globalCssJs.user.styles\":\"ready\",\"site.styles\":\"ready\",\"user.styles\":\"ready\",\"ext.globalCssJs.user\":\"ready\",\"user\":\"ready\",\"user.options\":\"loading\",\"oojs-ui-core.styles\":\"ready\",\"oojs-ui.styles.indicators\":\"ready\",\"mediawiki.widgets.styles\":\"ready\",\"oojs-ui-core.icons\":\"ready\",\"ext.wikisource.icons\":\"ready\",\"skins.vector.styles.legacy\":\"ready\",\"ext.visualEditor.desktopArticleTarget.noscript\":\"ready\",\\n\"ext.wikimediaBadges\":\"ready\",\"ext.uls.interlanguage\":\"ready\",\"wikibase.client.init\":\"ready\"};RLPAGEMODULES=[\"ext.wikisource.download\",\"site\",\"mediawiki.page.ready\",\"skins.vector.legacy.js\",\"mmv.head\",\"mmv.bootstrap.autostart\",\"ext.visualEditor.desktopArticleTarget.init\",\"ext.visualEditor.targetLoader\",\"ext.eventLogging\",\"ext.wikimediaEvents\",\"ext.navigationTiming\",\"ext.centralNotice.geoIP\",\"ext.centralNotice.startUp\",\"ext.centralauth.centralautologin\",\"ext.uls.interface\"];</script>\\n<script>(RLQ=window.RLQ||[]).push(function(){mw.loader.implement(\"user.options@12s5i\",function($,jQuery,require,module){mw.user.tokens.set({\"patrolToken\":\"+\\\\\\\\\",\"watchToken\":\"+\\\\\\\\\",\"csrfToken\":\"+\\\\\\\\\"});});});</script>\\n<link rel=\"stylesheet\" href=\"/w/load.php?lang=es&amp;modules=ext.uls.interlanguage%7Cext.visualEditor.desktopArticleTarget.noscript%7Cext.wikimediaBadges%7Cext.wikisource.icons%7Cmediawiki.widgets.styles%7Coojs-ui-core.icons%2Cstyles%7Coojs-ui.styles.indicators%7Cskins.vector.styles.legacy%7Cwikibase.client.init&amp;only=styles&amp;skin=vector\"/>\\n<script async=\"\" src=\"/w/load.php?lang=es&amp;modules=startup&amp;only=scripts&amp;raw=1&amp;skin=vector\"></script>\\n<meta name=\"ResourceLoaderDynamicStyles\" content=\"\"/>\\n<link rel=\"stylesheet\" href=\"/w/load.php?lang=es&amp;modules=site.styles&amp;only=styles&amp;skin=vector\"/>\\n<meta name=\"generator\" content=\"MediaWiki 1.39.0-wmf.23\"/>\\n<meta name=\"referrer\" content=\"origin\"/>\\n<meta name=\"referrer\" content=\"origin-when-crossorigin\"/>\\n<meta name=\"referrer\" content=\"origin-when-cross-origin\"/>\\n<meta name=\"format-detection\" content=\"telephone=no\"/>\\n<meta name=\"viewport\" content=\"width=1000, initial-scale=1.0\"/>\\n<meta property=\"og:title\" content=\"Una viñeta - Wikisource\"/>\\n<meta property=\"og:type\" content=\"website\"/>\\n<link rel=\"preconnect\" href=\"//upload.wikimedia.org\"/>\\n<link rel=\"alternate\" media=\"only screen and (max-width: 720px)\" href=\"//es.m.wikisource.org/wiki/Una_vi%C3%B1eta\"/>\\n<link rel=\"alternate\" type=\"application/x-wiki\" title=\"Editar\" href=\"/w/index.php?title=Una_vi%C3%B1eta&amp;action=edit\"/>\\n<link rel=\"shortcut icon\" href=\"/static/favicon/wikisource.ico\"/>\\n<link rel=\"search\" type=\"application/opensearchdescription+xml\" href=\"/w/opensearch_desc.php\" title=\"Wikisource (es)\"/>\\n<link rel=\"EditURI\" type=\"application/rsd+xml\" href=\"//es.wikisource.org/w/api.php?action=rsd\"/>\\n<link rel=\"license\" href=\"https://creativecommons.org/licenses/by-sa/3.0/\"/>\\n<link rel=\"canonical\" href=\"https://es.wikisource.org/wiki/Una_vi%C3%B1eta\"/>\\n<link rel=\"dns-prefetch\" href=\"//meta.wikimedia.org\" />\\n<link rel=\"dns-prefetch\" href=\"//login.wikimedia.org\"/>\\n</head>\\n<body class=\"mediawiki ltr sitedir-ltr mw-hide-empty-elt ns-0 ns-subject mw-editable page-Una_viñeta rootpage-Una_viñeta skin-vector action-view skin-vector-legacy\"><div id=\"mw-page-base\" class=\"noprint\"></div>\\n<div id=\"mw-head-base\" class=\"noprint\"></div>\\n<div id=\"content\" class=\"mw-body\" role=\"main\">\\n\\t<a id=\"top\"></a>\\n\\t<div id=\"siteNotice\"><!-- CentralNotice --></div>\\n\\t<div class=\"mw-indicators\">\\n\\t<div id=\"mw-indicator-~ext-wikisource-download\" class=\"mw-indicator\"><span id=\\'ooui-php-1\\' class=\\'ext-wikisource-download-button oo-ui-widget oo-ui-widget-enabled oo-ui-buttonElement oo-ui-buttonElement-framed oo-ui-labelElement oo-ui-flaggedElement-primary oo-ui-flaggedElement-progressive oo-ui-buttonWidget\\' data-ooui=\\'{\"_\":\"OO.ui.ButtonWidget\",\"href\":\"https:\\\\/\\\\/ws-export.wmcloud.org\\\\/?format=epub&amp;lang=es&amp;page=Una_vi%C3%B1eta\",\"rel\":[\"nofollow\"],\"label\":\"Descargar\",\"title\":\"Descargar una versi\\\\u00f3n EPUB de esta obra\",\"flags\":[\"primary\",\"progressive\"],\"data\":{\"wsExportUrl\":\"https:\\\\/\\\\/ws-export.wmcloud.org\"},\"classes\":[\"ext-wikisource-download-button\"]}\\'><a role=\\'button\\' title=\\'Descargar una versión EPUB de esta obra\\' tabindex=\\'0\\' href=\\'https://ws-export.wmcloud.org/?format=epub&amp;lang=es&amp;page=Una_vi%C3%B1eta\\' rel=\\'nofollow\\' class=\\'oo-ui-buttonElement-button\\'><span class=\\'oo-ui-iconElement-icon oo-ui-iconElement-noIcon oo-ui-image-invert\\'></span><span class=\\'oo-ui-labelElement-label\\'>Descargar</span><span class=\\'oo-ui-indicatorElement-indicator oo-ui-indicatorElement-noIndicator oo-ui-image-invert\\'></span></a></span></div>\\n\\t</div>\\n\\t<h1 id=\"firstHeading\" class=\"firstHeading mw-first-heading\">Una viñeta</h1>\\n\\t<div id=\"bodyContent\" class=\"vector-body\">\\n\\t\\t<div id=\"siteSub\" class=\"noprint\">De Wikisource, la biblioteca libre.</div>\\n\\t\\t<div id=\"contentSub\"></div>\\n\\t\\t<div id=\"contentSub2\"></div>\\n\\t\\t\\n\\t\\t<div id=\"jump-to-nav\"></div>\\n\\t\\t<a class=\"mw-jump-link\" href=\"#mw-head\">Ir a la navegación</a>\\n\\t\\t<a class=\"mw-jump-link\" href=\"#searchInput\">Ir a la búsqueda</a>\\n\\t\\t<div id=\"mw-content-text\" class=\"mw-body-content mw-content-ltr\" lang=\"es\" dir=\"ltr\"><div class=\"mw-parser-output\"><style data-mw-deduplicate=\"TemplateStyles:r1188054\">.mw-parser-output #headertemplate{text-align:center;padding:1em;background:#F4F0E5;border-top:1px solid #A0A0A0;border-bottom:1px solid #A0A0A0;margin:10px auto;display:table;width:95%}.mw-parser-output #headerprevious,.mw-parser-output #footerprevious{padding:0;display:table-cell;vertical-align:middle;width:16%}.mw-parser-output #headernext,.mw-parser-output #footernext{padding:0;display:table-cell;vertical-align:middle;width:16%}.mw-parser-output .prev-span{float:left;display:block;font-size:smaller}.mw-parser-output .prev-span-arrow{margin-right:0.5em;position:relative;top:1.5px}.mw-parser-output .middle-div{width:68%;display:table-cell;vertical-align:middle}.mw-parser-output .next-span{float:right;display:block;font-size:smaller}.mw-parser-output .next-span-arrow{margin-left:0.5em;position:relative;top:1.5px}.mw-parser-output .lower-div{clear:both;padding:0.5em;text-align:center;margin:0 auto;font-size:80%}.mw-parser-output .notes{font-size:90%;width:95%;margin:-10px auto 10px}</style>\\n<div id=\"headertemplate\" class=\"noprint ws-noexport\"><div id=\"headerprevious\"></div><div class=\"middle-div\"><i><b>&#8203;Una viñeta&#8203;</b></i>&#160;de&#160;<a href=\"/wiki/Autor:Delmira_Agustini\" title=\"Autor:Delmira Agustini\">Delmira Agustini</a><br /><div class=\"noprint plainlinks lower-div\"><a href=\"/wiki/Archivo:Wikidata-logo.svg\" class=\"image\"><img alt=\"Wikidata-logo.svg\" src=\"//upload.wikimedia.org/wikipedia/commons/thumb/f/ff/Wikidata-logo.svg/16px-Wikidata-logo.svg.png\" decoding=\"async\" width=\"16\" height=\"9\" srcset=\"//upload.wikimedia.org/wikipedia/commons/thumb/f/ff/Wikidata-logo.svg/24px-Wikidata-logo.svg.png 1.5x, //upload.wikimedia.org/wikipedia/commons/thumb/f/ff/Wikidata-logo.svg/32px-Wikidata-logo.svg.png 2x\" data-file-width=\"1050\" data-file-height=\"590\" /></a>&#160;<a href=\"https://www.wikidata.org/wiki/Q19492667\" class=\"extiw\" title=\"d:Q19492667\">metadatos</a>.&#160;&#160;&#160;<div style=\"font-size:80%\">Descargar como &#160;<a href=\"https://wsexport.toolforge.org/tool/book.php?lang=es&amp;format=epub&amp;page=Una+vi%C3%B1eta\" title=\"Descargar en formato ePub\"><img alt=\"Descargar en formato ePub\" src=\"//upload.wikimedia.org/wikipedia/commons/thumb/d/d5/EPUB_silk_icon.svg/12px-EPUB_silk_icon.svg.png\" decoding=\"async\" width=\"12\" height=\"12\" srcset=\"//upload.wikimedia.org/wikipedia/commons/thumb/d/d5/EPUB_silk_icon.svg/18px-EPUB_silk_icon.svg.png 1.5x, //upload.wikimedia.org/wikipedia/commons/thumb/d/d5/EPUB_silk_icon.svg/24px-EPUB_silk_icon.svg.png 2x\" data-file-width=\"512\" data-file-height=\"512\" /></a>&#160;<a href=\"https://wsexport.toolforge.org/tool/book.php?lang=es&amp;page=Una+vi%C3%B1eta&amp;format=pdf-a5\" title=\"Descargar en formato PDF\"><img alt=\"Descargar en formato PDF\" src=\"//upload.wikimedia.org/wikipedia/commons/thumb/5/5f/Document-pdf.svg/15px-Document-pdf.svg.png\" decoding=\"async\" width=\"15\" height=\"14\" srcset=\"//upload.wikimedia.org/wikipedia/commons/thumb/5/5f/Document-pdf.svg/23px-Document-pdf.svg.png 1.5x, //upload.wikimedia.org/wikipedia/commons/thumb/5/5f/Document-pdf.svg/30px-Document-pdf.svg.png 2x\" data-file-width=\"714\" data-file-height=\"672\" /></a>&#160;<a href=\"https://wsexport.toolforge.org/tool/book.php?lang=es&amp;page=Una+vi%C3%B1eta&amp;format=mobi\" title=\"Descargar en formato mobi\"><img alt=\"Descargar en formato mobi\" src=\"//upload.wikimedia.org/wikipedia/commons/thumb/a/ae/Mobi_icon.svg/22px-Mobi_icon.svg.png\" decoding=\"async\" width=\"22\" height=\"13\" srcset=\"//upload.wikimedia.org/wikipedia/commons/thumb/a/ae/Mobi_icon.svg/33px-Mobi_icon.svg.png 1.5x, //upload.wikimedia.org/wikipedia/commons/thumb/a/ae/Mobi_icon.svg/44px-Mobi_icon.svg.png 2x\" data-file-width=\"273\" data-file-height=\"163\" /></a></div></div></div><div id=\"headernext\"></div></div><div id=\"ws-data\" class=\"ws-noexport\" style=\"display:none\"><span class=\"ws-title\">Una viñeta</span><span class=\"ws-author\">Delmira Agustini</span></div>\\n<p><br />\\n</p>\\n<div class=\"poem\">\\n<p>&#160;Tarde sucia de invierno. El caserío,   <br />\\n&#160;como si fuera un croquis al creyón,   <br />\\n&#160;se hunde en la noche. El humo de un bohío,   <br />\\n&#160;que sube en forma de tirabuzón;   <br />\\n&#160;<br />\\n<br />\\n&#160;mancha el paisaje que produce frío,  <br />\\n&#160;y debajo de la genuflexión   <br />\\n&#160;de la arboleda, somormuja el río   <br />\\n&#160;su canción, su somnífera canción.   <br />\\n&#160;<br />\\n<br />\\n&#160;Los labradores, camellón abajo,   <br />\\n&#160;retornan fatigosos del trabajo,  <br />\\n&#160;como un problema sin definición.   <br />\\n&#160;<br />\\n<br />\\n&#160;Y el dueño del terruño, indiferente,   <br />\\n&#160;rápidamente, muy rápidamente,   <br />\\n&#160;baja en su coche por el camellón.\\n</p>\\n</div>\\n<!-- \\nNewPP limit report\\nParsed by mw1409\\nCached time: 20220802160034\\nCache expiry: 1814400\\nReduced expiry: false\\nComplications: []\\nCPU time usage: 0.076 seconds\\nReal time usage: 0.104 seconds\\nPreprocessor visited node count: 31/1000000\\nPost‐expand include size: 2167/2097152 bytes\\nTemplate argument size: 0/2097152 bytes\\nHighest expansion depth: 4/100\\nExpensive parser function count: 0/500\\nUnstrip recursion depth: 1/20\\nUnstrip post‐expand size: 2370/5000000 bytes\\nLua time usage: 0.023/10.000 seconds\\nLua memory usage: 836150/52428800 bytes\\nNumber of Wikibase entities loaded: 1/400\\n-->\\n<!--\\nTransclusion expansion time report (%,ms,calls,template)\\n100.00%   80.396      1 -total\\n100.00%   80.396      1 Plantilla:Encabezado\\n 12.75%   10.252      1 Plantilla:Interwiki-extra\\n-->\\n\\n<!-- Saved in parser cache with key eswikisource:pcache:idhash:27121-0!canonical and timestamp 20220802160034 and revision id 1193682.\\n -->\\n</div><noscript><img src=\"//es.wikisource.org/wiki/Special:CentralAutoLogin/start?type=1x1\" alt=\"\" title=\"\" width=\"1\" height=\"1\" style=\"border: none; position: absolute;\" /></noscript>\\n<div class=\"printfooter\">Obtenido de «<a dir=\"ltr\" href=\"https://es.wikisource.org/w/index.php?title=Una_viñeta&amp;oldid=1193682\">https://es.wikisource.org/w/index.php?title=Una_viñeta&amp;oldid=1193682</a>»</div></div>\\n\\t\\t<div id=\"catlinks\" class=\"catlinks\" data-mw=\"interface\"><div id=\"mw-normal-catlinks\" class=\"mw-normal-catlinks\"><a href=\"/wiki/Especial:Categor%C3%ADas\" title=\"Especial:Categorías\">Categorías</a>: <ul><li><a href=\"/wiki/Categor%C3%ADa:ES-U\" title=\"Categoría:ES-U\">ES-U</a></li><li><a href=\"/wiki/Categor%C3%ADa:Sonetos\" title=\"Categoría:Sonetos\">Sonetos</a></li><li><a href=\"/wiki/Categor%C3%ADa:Sonetos_de_Delmira_Agustini\" title=\"Categoría:Sonetos de Delmira Agustini\">Sonetos de Delmira Agustini</a></li><li><a href=\"/wiki/Categor%C3%ADa:Literatura_uruguaya_(T%C3%ADtulos)\" title=\"Categoría:Literatura uruguaya (Títulos)\">Literatura uruguaya (Títulos)</a></li></ul></div></div>\\n\\t</div>\\n</div>\\n\\n<div id=\"mw-navigation\">\\n\\t<h2>Menú de navegación</h2>\\n\\t<div id=\"mw-head\">\\n\\t\\t\\n\\n<nav id=\"p-personal\" class=\"vector-menu mw-portlet mw-portlet-personal vector-user-menu-legacy\" aria-labelledby=\"p-personal-label\" role=\"navigation\"  >\\n\\t<h3\\n\\t\\tid=\"p-personal-label\"\\n\\t\\t\\n\\t\\tclass=\"vector-menu-heading \"\\n\\t>\\n\\t\\t<span class=\"vector-menu-heading-label\">Herramientas personales</span>\\n\\t</h3>\\n\\t<div class=\"vector-menu-content\">\\n\\t\\t\\n\\t\\t<ul class=\"vector-menu-content-list\"><li id=\"pt-anonuserpage\" class=\"mw-list-item\"><span title=\"La página de usuario de la IP desde la que editas\">No has accedido</span></li><li id=\"pt-anontalk\" class=\"mw-list-item\"><a href=\"/wiki/Especial:MiDiscusi%C3%B3n\" title=\"Discusión sobre ediciones hechas desde esta dirección IP [n]\" accesskey=\"n\"><span>Discusión</span></a></li><li id=\"pt-anoncontribs\" class=\"mw-list-item\"><a href=\"/wiki/Especial:MisContribuciones\" title=\"Una lista de modificaciones hechas desde esta dirección IP [y]\" accesskey=\"y\"><span>Contribuciones</span></a></li><li id=\"pt-createaccount\" class=\"mw-list-item\"><a href=\"/w/index.php?title=Especial:Crear_una_cuenta&amp;returnto=Una+vi%C3%B1eta\" title=\"Te recomendamos crear una cuenta e iniciar sesión; sin embargo, no es obligatorio\"><span>Crear una cuenta</span></a></li><li id=\"pt-login\" class=\"mw-list-item\"><a href=\"/w/index.php?title=Especial:Entrar&amp;returnto=Una+vi%C3%B1eta\" title=\"Te recomendamos iniciar sesión, aunque no es obligatorio [o]\" accesskey=\"o\"><span>Acceder</span></a></li></ul>\\n\\t\\t\\n\\t</div>\\n</nav>\\n\\n\\t\\t<div id=\"left-navigation\">\\n\\t\\t\\t\\n\\n<nav id=\"p-namespaces\" class=\"vector-menu mw-portlet mw-portlet-namespaces vector-menu-tabs vector-menu-tabs-legacy\" aria-labelledby=\"p-namespaces-label\" role=\"navigation\"  >\\n\\t<h3\\n\\t\\tid=\"p-namespaces-label\"\\n\\t\\t\\n\\t\\tclass=\"vector-menu-heading \"\\n\\t>\\n\\t\\t<span class=\"vector-menu-heading-label\">Espacios de nombres</span>\\n\\t</h3>\\n\\t<div class=\"vector-menu-content\">\\n\\t\\t\\n\\t\\t<ul class=\"vector-menu-content-list\"><li id=\"ca-nstab-main\" class=\"selected mw-list-item\"><a href=\"/wiki/Una_vi%C3%B1eta\" title=\"Ver la página de contenido [c]\" accesskey=\"c\"><span>Página</span></a></li><li id=\"ca-talk\" class=\"new mw-list-item\"><a href=\"/w/index.php?title=Discusi%C3%B3n:Una_vi%C3%B1eta&amp;action=edit&amp;redlink=1\" rel=\"discussion\" title=\"Discusión acerca de la página (la página no existe) [t]\" accesskey=\"t\"><span>Discusión</span></a></li></ul>\\n\\t\\t\\n\\t</div>\\n</nav>\\n\\n\\t\\t\\t\\n\\n<nav id=\"p-variants\" class=\"vector-menu mw-portlet mw-portlet-variants emptyPortlet vector-menu-dropdown-noicon vector-menu-dropdown\" aria-labelledby=\"p-variants-label\" role=\"navigation\"  >\\n\\t<input type=\"checkbox\"\\n\\t\\tid=\"p-variants-checkbox\"\\n\\t\\trole=\"button\"\\n\\t\\taria-haspopup=\"true\"\\n\\t\\tdata-event-name=\"ui.dropdown-p-variants\"\\n\\t\\tclass=\"vector-menu-checkbox\"\\n\\t\\taria-labelledby=\"p-variants-label\"\\n\\t/>\\n\\t<label\\n\\t\\tid=\"p-variants-label\"\\n\\t\\t aria-label=\"Cambiar variante de idioma\"\\n\\t\\tclass=\"vector-menu-heading \"\\n\\t>\\n\\t\\t<span class=\"vector-menu-heading-label\">español</span>\\n\\t</label>\\n\\t<div class=\"vector-menu-content\">\\n\\t\\t\\n\\t\\t<ul class=\"vector-menu-content-list\"></ul>\\n\\t\\t\\n\\t</div>\\n</nav>\\n\\n\\t\\t</div>\\n\\t\\t<div id=\"right-navigation\">\\n\\t\\t\\t\\n\\n<nav id=\"p-views\" class=\"vector-menu mw-portlet mw-portlet-views vector-menu-tabs vector-menu-tabs-legacy\" aria-labelledby=\"p-views-label\" role=\"navigation\"  >\\n\\t<h3\\n\\t\\tid=\"p-views-label\"\\n\\t\\t\\n\\t\\tclass=\"vector-menu-heading \"\\n\\t>\\n\\t\\t<span class=\"vector-menu-heading-label\">Vistas</span>\\n\\t</h3>\\n\\t<div class=\"vector-menu-content\">\\n\\t\\t\\n\\t\\t<ul class=\"vector-menu-content-list\"><li id=\"ca-view\" class=\"selected mw-list-item\"><a href=\"/wiki/Una_vi%C3%B1eta\"><span>Leer</span></a></li><li id=\"ca-edit\" class=\"mw-list-item\"><a href=\"/w/index.php?title=Una_vi%C3%B1eta&amp;action=edit\" title=\"Editar esta página [e]\" accesskey=\"e\"><span>Editar</span></a></li><li id=\"ca-history\" class=\"mw-list-item\"><a href=\"/w/index.php?title=Una_vi%C3%B1eta&amp;action=history\" title=\"Versiones anteriores de esta página [h]\" accesskey=\"h\"><span>Ver historial</span></a></li></ul>\\n\\t\\t\\n\\t</div>\\n</nav>\\n\\n\\t\\t\\t\\n\\n<nav id=\"p-cactions\" class=\"vector-menu mw-portlet mw-portlet-cactions emptyPortlet vector-menu-dropdown-noicon vector-menu-dropdown\" aria-labelledby=\"p-cactions-label\" role=\"navigation\"  title=\"Más opciones\" >\\n\\t<input type=\"checkbox\"\\n\\t\\tid=\"p-cactions-checkbox\"\\n\\t\\trole=\"button\"\\n\\t\\taria-haspopup=\"true\"\\n\\t\\tdata-event-name=\"ui.dropdown-p-cactions\"\\n\\t\\tclass=\"vector-menu-checkbox\"\\n\\t\\taria-labelledby=\"p-cactions-label\"\\n\\t/>\\n\\t<label\\n\\t\\tid=\"p-cactions-label\"\\n\\t\\t\\n\\t\\tclass=\"vector-menu-heading \"\\n\\t>\\n\\t\\t<span class=\"vector-menu-heading-label\">Más</span>\\n\\t</label>\\n\\t<div class=\"vector-menu-content\">\\n\\t\\t\\n\\t\\t<ul class=\"vector-menu-content-list\"></ul>\\n\\t\\t\\n\\t</div>\\n</nav>\\n\\n\\t\\t\\t\\n<div id=\"p-search\" role=\"search\" class=\"vector-search-box-vue  vector-search-box-show-thumbnail vector-search-box-auto-expand-width vector-search-box\">\\n\\t<div>\\n\\t\\t\\t<h3 >\\n\\t\\t\\t\\t<label for=\"searchInput\">Buscar</label>\\n\\t\\t\\t</h3>\\n\\t\\t<form action=\"/w/index.php\" id=\"searchform\"\\n\\t\\t\\tclass=\"vector-search-box-form\">\\n\\t\\t\\t<div id=\"simpleSearch\"\\n\\t\\t\\t\\tclass=\"vector-search-box-inner\"\\n\\t\\t\\t\\t data-search-loc=\"header-navigation\">\\n\\t\\t\\t\\t<input class=\"vector-search-box-input\"\\n\\t\\t\\t\\t\\t type=\"search\" name=\"search\" placeholder=\"Buscar en Wikisource\" aria-label=\"Buscar en Wikisource\" autocapitalize=\"sentences\" title=\"Buscar en Wikisource [f]\" accesskey=\"f\" id=\"searchInput\"\\n\\t\\t\\t\\t>\\n\\t\\t\\t\\t<input type=\"hidden\" name=\"title\" value=\"Especial:Buscar\">\\n\\t\\t\\t\\t<input id=\"mw-searchButton\"\\n\\t\\t\\t\\t\\t class=\"searchButton mw-fallbackSearchButton\" type=\"submit\" name=\"fulltext\" title=\"Buscar este texto en las páginas\" value=\"Buscar\">\\n\\t\\t\\t\\t<input id=\"searchButton\"\\n\\t\\t\\t\\t\\t class=\"searchButton\" type=\"submit\" name=\"go\" title=\"Ir a la página con este nombre exacto si existe\" value=\"Ir\">\\n\\t\\t\\t</div>\\n\\t\\t</form>\\n\\t</div>\\n</div>\\n\\n\\t\\t</div>\\n\\t</div>\\n\\t\\n\\n<div id=\"mw-panel\">\\n\\t<div id=\"p-logo\" role=\"banner\">\\n\\t\\t<a class=\"mw-wiki-logo\" href=\"/wiki/Portada\"\\n\\t\\t\\ttitle=\"Visitar la página principal\"></a>\\n\\t</div>\\n\\t\\n\\n<nav id=\"p-navigation\" class=\"vector-menu mw-portlet mw-portlet-navigation vector-menu-portal portal\" aria-labelledby=\"p-navigation-label\" role=\"navigation\"  >\\n\\t<h3\\n\\t\\tid=\"p-navigation-label\"\\n\\t\\t\\n\\t\\tclass=\"vector-menu-heading \"\\n\\t>\\n\\t\\t<span class=\"vector-menu-heading-label\">Navegación</span>\\n\\t</h3>\\n\\t<div class=\"vector-menu-content\">\\n\\t\\t\\n\\t\\t<ul class=\"vector-menu-content-list\"><li id=\"n-mainpage-description\" class=\"mw-list-item\"><a href=\"/wiki/Portada\" title=\"Visitar la página principal [z]\" accesskey=\"z\"><span>Portada</span></a></li><li id=\"n-portal\" class=\"mw-list-item\"><a href=\"/wiki/Wikisource:Portal_de_la_comunidad\" title=\"Acerca del proyecto, lo que puedes hacer, dónde encontrar información\"><span>Portal de la comunidad</span></a></li><li id=\"n-currentevents\" class=\"mw-list-item\"><a href=\"/wiki/Wikisource:Caf%C3%A9\" title=\"Encuentra información de contexto sobre acontecimientos actuales\"><span>Café</span></a></li><li id=\"n-recentchanges\" class=\"mw-list-item\"><a href=\"/wiki/Especial:CambiosRecientes\" title=\"Lista de cambios recientes en la wiki [r]\" accesskey=\"r\"><span>Cambios recientes</span></a></li><li id=\"n-Obra-aleatoria\" class=\"mw-list-item\"><a href=\"/wiki/Especial:RandomRootpage/Main\"><span>Obra aleatoria</span></a></li><li id=\"n-Libro-aleatorio\" class=\"mw-list-item\"><a href=\"/wiki/Especial:RandomRootpage/%C3%8Dndice\"><span>Libro aleatorio</span></a></li><li id=\"n-help\" class=\"mw-list-item\"><a href=\"https://es.wikisource.org/wiki/Wikisource:Ayuda\" title=\"El lugar para aprender\"><span>Ayuda</span></a></li><li id=\"n-sitesupport\" class=\"mw-list-item\"><a href=\"//donate.wikimedia.org/wiki/Special:FundraiserRedirector?utm_source=donate&amp;utm_medium=sidebar&amp;utm_campaign=C13_es.wikisource.org&amp;uselang=es\" title=\"Apóyanos\"><span>Donaciones</span></a></li></ul>\\n\\t\\t\\n\\t</div>\\n</nav>\\n\\n\\t\\n\\n<nav id=\"p-tb\" class=\"vector-menu mw-portlet mw-portlet-tb vector-menu-portal portal\" aria-labelledby=\"p-tb-label\" role=\"navigation\"  >\\n\\t<h3\\n\\t\\tid=\"p-tb-label\"\\n\\t\\t\\n\\t\\tclass=\"vector-menu-heading \"\\n\\t>\\n\\t\\t<span class=\"vector-menu-heading-label\">Herramientas</span>\\n\\t</h3>\\n\\t<div class=\"vector-menu-content\">\\n\\t\\t\\n\\t\\t<ul class=\"vector-menu-content-list\"><li id=\"t-whatlinkshere\" class=\"mw-list-item\"><a href=\"/wiki/Especial:LoQueEnlazaAqu%C3%AD/Una_vi%C3%B1eta\" title=\"Lista de todas las páginas de la wiki que enlazan aquí [j]\" accesskey=\"j\"><span>Lo que enlaza aquí</span></a></li><li id=\"t-recentchangeslinked\" class=\"mw-list-item\"><a href=\"/wiki/Especial:CambiosEnEnlazadas/Una_vi%C3%B1eta\" rel=\"nofollow\" title=\"Cambios recientes en las páginas que enlazan con esta [k]\" accesskey=\"k\"><span>Cambios relacionados</span></a></li><li id=\"t-upload\" class=\"mw-list-item\"><a href=\"//commons.wikimedia.org/wiki/Special:UploadWizard?uselang=es\" title=\"Subir archivos [u]\" accesskey=\"u\"><span>Subir archivo</span></a></li><li id=\"t-specialpages\" class=\"mw-list-item\"><a href=\"/wiki/Especial:P%C3%A1ginasEspeciales\" title=\"Lista de todas las páginas especiales [q]\" accesskey=\"q\"><span>Páginas especiales</span></a></li><li id=\"t-permalink\" class=\"mw-list-item\"><a href=\"/w/index.php?title=Una_vi%C3%B1eta&amp;oldid=1193682\" title=\"Enlace permanente a esta versión de la página\"><span>Enlace permanente</span></a></li><li id=\"t-info\" class=\"mw-list-item\"><a href=\"/w/index.php?title=Una_vi%C3%B1eta&amp;action=info\" title=\"Más información sobre esta página\"><span>Información de la página</span></a></li><li id=\"t-cite\" class=\"mw-list-item\"><a href=\"/w/index.php?title=Especial:Citar&amp;page=Una_vi%C3%B1eta&amp;id=1193682&amp;wpFormIdentifier=titleform\" title=\"Información sobre cómo citar esta página\"><span>Citar esta página</span></a></li><li id=\"t-wikibase\" class=\"mw-list-item\"><a href=\"https://www.wikidata.org/wiki/Special:EntityPage/Q19492667\" title=\"Enlace al elemento conectado del repositorio de datos [g]\" accesskey=\"g\"><span>Elemento de Wikidata</span></a></li></ul>\\n\\t\\t\\n\\t</div>\\n</nav>\\n\\n\\n<nav id=\"p-coll-print_export\" class=\"vector-menu mw-portlet mw-portlet-coll-print_export vector-menu-portal portal\" aria-labelledby=\"p-coll-print_export-label\" role=\"navigation\"  >\\n\\t<h3\\n\\t\\tid=\"p-coll-print_export-label\"\\n\\t\\t\\n\\t\\tclass=\"vector-menu-heading \"\\n\\t>\\n\\t\\t<span class=\"vector-menu-heading-label\">Imprimir/exportar</span>\\n\\t</h3>\\n\\t<div class=\"vector-menu-content\">\\n\\t\\t\\n\\t\\t<ul class=\"vector-menu-content-list\"><li id=\"coll-create_a_book\" class=\"mw-list-item\"><a href=\"/w/index.php?title=Especial:Libro&amp;bookcmd=book_creator&amp;referer=Una+vi%C3%B1eta\"><span>Crear un libro</span></a></li><li id=\"t-print\" class=\"mw-list-item\"><a href=\"/w/index.php?title=Una_vi%C3%B1eta&amp;printable=yes\" title=\"Versión imprimible de esta página [p]\" accesskey=\"p\"><span>Versión para imprimir</span></a></li><li id=\"wikisource-download-epub\" class=\"mw-list-item\"><a title=\"Descargar una versión EPUB de esta obra\" href=\"https://ws-export.wmcloud.org/?format=epub&amp;lang=es&amp;page=Una_vi%C3%B1eta\"><span>Descargar en EPUB</span></a></li><li id=\"wikisource-download-mobi\" class=\"mw-list-item\"><a title=\"Descargar una versión MOBI de esta obra\" href=\"https://ws-export.wmcloud.org/?format=mobi&amp;lang=es&amp;page=Una_vi%C3%B1eta\"><span>Descargar en MOBI</span></a></li><li id=\"wikisource-download-pdf\" class=\"mw-list-item\"><a title=\"Descargar una versión PDF de esta obra\" href=\"https://ws-export.wmcloud.org/?format=pdf&amp;lang=es&amp;page=Una_vi%C3%B1eta\"><span>Descargar en PDF</span></a></li><li id=\"wikisource-download-choose\" class=\"mw-list-item\"><a title=\"Abrir formulario para seleccionar otros formatos, fuentes, etc.\" href=\"https://ws-export.wmcloud.org/?lang=es&amp;title=Una_vi%C3%B1eta\"><span>Otros formatos</span></a></li></ul>\\n\\t\\t\\n\\t</div>\\n</nav>\\n\\n\\t\\n\\n<nav id=\"p-lang\" class=\"vector-menu mw-portlet mw-portlet-lang vector-menu-portal portal\" aria-labelledby=\"p-lang-label\" role=\"navigation\"  >\\n\\t<h3\\n\\t\\tid=\"p-lang-label\"\\n\\t\\t\\n\\t\\tclass=\"vector-menu-heading \"\\n\\t>\\n\\t\\t<span class=\"vector-menu-heading-label\">En otros idiomas</span>\\n\\t</h3>\\n\\t<div class=\"vector-menu-content\">\\n\\t\\t\\n\\t\\t<ul class=\"vector-menu-content-list\"></ul>\\n\\t\\t<div class=\"after-portlet after-portlet-lang\"><span class=\"uls-after-portlet-link\"></span><span class=\"wb-langlinks-add wb-langlinks-link\"><a href=\"https://www.wikidata.org/wiki/Special:EntityPage/Q19492667#sitelinks-wikisource\" title=\"Agregar enlaces interlingüísticos\" class=\"wbc-editpage\">Añadir enlaces</a></span></div>\\n\\t</div>\\n</nav>\\n\\n</div>\\n\\n</div>\\n\\n<footer id=\"footer\" class=\"mw-footer\" role=\"contentinfo\" >\\n\\t<ul id=\"footer-info\">\\n\\t<li id=\"footer-info-lastmod\"> Esta página se editó por última vez el 1 oct 2021 a las 21:49.</li>\\n\\t<li id=\"footer-info-copyright\">El texto está disponible bajo la <a href=\"https://creativecommons.org/licenses/by-sa/3.0/deed.es\">Licencia Creative Commons Atribución-CompartirIgual 3.0</a>;\\npueden aplicarse términos adicionales.\\nVéase <a href=\"https://foundation.wikimedia.org/wiki/Terms_of_Use/es\">Términos de uso</a> para más detalles.</li>\\n</ul>\\n\\n\\t<ul id=\"footer-places\">\\n\\t<li id=\"footer-places-privacy\"><a href=\"https://meta.wikimedia.org/wiki/Privacy_policy/es\">Política de privacidad</a></li>\\n\\t<li id=\"footer-places-about\"><a href=\"/wiki/Wikisource:Acerca_de\">Acerca de Wikisource</a></li>\\n\\t<li id=\"footer-places-disclaimer\"><a href=\"/wiki/Wikisource:Limitaci%C3%B3n_general_de_responsabilidad\">Aviso legal</a></li>\\n\\t<li id=\"footer-places-mobileview\"><a href=\"//es.m.wikisource.org/w/index.php?title=Una_vi%C3%B1eta&amp;mobileaction=toggle_view_mobile\" class=\"noprint stopMobileRedirectToggle\">Versión para móviles</a></li>\\n\\t<li id=\"footer-places-developers\"><a href=\"https://developer.wikimedia.org\">Desarrolladores</a></li>\\n\\t<li id=\"footer-places-statslink\"><a href=\"https://stats.wikimedia.org/#/es.wikisource.org\">Estadísticas</a></li>\\n\\t<li id=\"footer-places-cookiestatement\"><a href=\"https://foundation.wikimedia.org/wiki/Cookie_statement/es\">Declaración de cookies</a></li>\\n</ul>\\n\\n\\t<ul id=\"footer-icons\" class=\"noprint\">\\n\\t<li id=\"footer-copyrightico\"><a href=\"https://wikimediafoundation.org/\"><img src=\"/static/images/footer/wikimedia-button.png\" srcset=\"/static/images/footer/wikimedia-button-1.5x.png 1.5x, /static/images/footer/wikimedia-button-2x.png 2x\" width=\"88\" height=\"31\" alt=\"Wikimedia Foundation\" loading=\"lazy\" /></a></li>\\n\\t<li id=\"footer-poweredbyico\"><a href=\"https://www.mediawiki.org/\"><img src=\"/static/images/footer/poweredby_mediawiki_88x31.png\" alt=\"Powered by MediaWiki\" srcset=\"/static/images/footer/poweredby_mediawiki_132x47.png 1.5x, /static/images/footer/poweredby_mediawiki_176x62.png 2x\" width=\"88\" height=\"31\" loading=\"lazy\"/></a></li>\\n</ul>\\n\\n</footer>\\n\\n<script>(RLQ=window.RLQ||[]).push(function(){mw.config.set({\"wgPageParseReport\":{\"limitreport\":{\"cputime\":\"0.076\",\"walltime\":\"0.104\",\"ppvisitednodes\":{\"value\":31,\"limit\":1000000},\"postexpandincludesize\":{\"value\":2167,\"limit\":2097152},\"templateargumentsize\":{\"value\":0,\"limit\":2097152},\"expansiondepth\":{\"value\":4,\"limit\":100},\"expensivefunctioncount\":{\"value\":0,\"limit\":500},\"unstrip-depth\":{\"value\":1,\"limit\":20},\"unstrip-size\":{\"value\":2370,\"limit\":5000000},\"entityaccesscount\":{\"value\":1,\"limit\":400},\"timingprofile\":[\"100.00%   80.396      1 -total\",\"100.00%   80.396      1 Plantilla:Encabezado\",\" 12.75%   10.252      1 Plantilla:Interwiki-extra\"]},\"scribunto\":{\"limitreport-timeusage\":{\"value\":\"0.023\",\"limit\":\"10.000\"},\"limitreport-memusage\":{\"value\":836150,\"limit\":52428800}},\"cachereport\":{\"origin\":\"mw1409\",\"timestamp\":\"20220802160034\",\"ttl\":1814400,\"transientcontent\":false}}});});</script>\\n<script type=\"application/ld+json\">{\"@context\":\"https:\\\\/\\\\/schema.org\",\"@type\":\"Article\",\"name\":\"Una vi\\\\u00f1eta\",\"url\":\"https:\\\\/\\\\/es.wikisource.org\\\\/wiki\\\\/Una_vi%C3%B1eta\",\"sameAs\":\"http:\\\\/\\\\/www.wikidata.org\\\\/entity\\\\/Q19492667\",\"mainEntity\":\"http:\\\\/\\\\/www.wikidata.org\\\\/entity\\\\/Q19492667\",\"author\":{\"@type\":\"Organization\",\"name\":\"Colaboradores de los proyectos Wikimedia\"},\"publisher\":{\"@type\":\"Organization\",\"name\":\"Wikimedia Foundation, Inc.\",\"logo\":{\"@type\":\"ImageObject\",\"url\":\"https:\\\\/\\\\/www.wikimedia.org\\\\/static\\\\/images\\\\/wmf-hor-googpub.png\"}},\"datePublished\":\"2006-12-08T03:07:40Z\",\"dateModified\":\"2021-10-01T21:49:04Z\",\"headline\":\"soneto de Delmira Agustini\"}</script><script type=\"application/ld+json\">{\"@context\":\"https:\\\\/\\\\/schema.org\",\"@type\":\"Article\",\"name\":\"Una vi\\\\u00f1eta\",\"url\":\"https:\\\\/\\\\/es.wikisource.org\\\\/wiki\\\\/Una_vi%C3%B1eta\",\"sameAs\":\"http:\\\\/\\\\/www.wikidata.org\\\\/entity\\\\/Q19492667\",\"mainEntity\":\"http:\\\\/\\\\/www.wikidata.org\\\\/entity\\\\/Q19492667\",\"author\":{\"@type\":\"Organization\",\"name\":\"Colaboradores de los proyectos Wikimedia\"},\"publisher\":{\"@type\":\"Organization\",\"name\":\"Wikimedia Foundation, Inc.\",\"logo\":{\"@type\":\"ImageObject\",\"url\":\"https:\\\\/\\\\/www.wikimedia.org\\\\/static\\\\/images\\\\/wmf-hor-googpub.png\"}},\"datePublished\":\"2006-12-08T03:07:40Z\",\"dateModified\":\"2021-10-01T21:49:04Z\",\"headline\":\"soneto de Delmira Agustini\"}</script>\\n<script>(RLQ=window.RLQ||[]).push(function(){mw.config.set({\"wgBackendResponseTime\":109,\"wgHostname\":\"mw1416\"});});</script>\\n</body>\\n</html>'"
     },
     "metadata": {},
     "output_type": "execute_result",
     "execution_count": 19
    }
   ],
   "source": [
    "respuesta.text\n",
    "#dir(respuesta)\n"
   ],
   "metadata": {
    "collapsed": false,
    "pycharm": {
     "name": "#%%\n",
     "is_executing": false
    }
   }
  },
  {
   "cell_type": "markdown",
   "source": [
    "### Extraer el contenido\n",
    "\n",
    "Usaremos el árbol HTML para esto. Ya vimos este tipo de enfoque, con OpenRefine, cuyo lenguaje [GREL](https://docs.openrefine.org/manual/grelfunctions) tiene une instrucción `parseHtml()` para crear el árbol\n",
    "\n",
    "Con Python, para crear el árbol HTML y extraer el contenido, utilizaremos la \"biblioteca\" [BeautifulSoup](https://www.crummy.com/software/BeautifulSoup/bs4/doc/), ampliamente utilizada. Etapas:\n",
    "\n",
    "- Importamos la biblioteca, con la instrucción `from bs4 import BeautifulSoup`\n",
    "- En caso de que la biblioteca no esté instalada (lo cual se verá ya que, al intentar usarla, habrá un mensaje de error que lo indique), se puede instalar con `pip install beautifulsoup4` (ver [documentación](https://www.crummy.com/software/BeautifulSoup/bs4/doc/))\n",
    "- Creamos el árbol HTML a partir de la cadena de texto que lo representa (obtenida más arriva), con `BeautifulSoup(html_pagina)`\n",
    "\n",
    "Nota: Es habitual llamar \"soup\" o \"sopa\" a la representación de contenido HTML analizado con una biblioteca (BeautifulSoup en Python, [JSoup](https://jsoup.org/apidocs/org/jsoup/select/Selector.html) en Java; por cierto OpenRefine en tanto que herramienta creada en Java usa JSoup)"
   ],
   "metadata": {
    "collapsed": false,
    "pycharm": {
     "name": "#%% md\n"
    }
   }
  },
  {
   "cell_type": "code",
   "execution_count": 34,
   "outputs": [],
   "source": [
    "from bs4 import BeautifulSoup\n",
    "arbol = BeautifulSoup(html_pagina)"
   ],
   "metadata": {
    "collapsed": false,
    "pycharm": {
     "name": "#%%\n",
     "is_executing": false
    }
   }
  },
  {
   "cell_type": "markdown",
   "source": [
    "Una vez que el árbol está disponible, podemos extraer información basándonos en el nombre y atributos de los elementos, como hicimos con OpenRefine en el capítulo.\n",
    "\n",
    "Para el elementoo de la autora, buscaremos un elemento `<span class='ws-author'>` (es decir, un elemento `span` con un atributo `class` cuyo valor es `ws-author`).\n",
    "\n",
    "Para el elemento del título, buscaremos un elemento `<span class='ws-title'>` (es decir, un elemento `span` con un atributo `class` cuyo valor es `ws-title`).\n",
    "\n",
    "Para hacer esta búsqueda, podemos usar el método `find_all()`, disponible a partir del objeto árbol (que está asignado a la variable `arbol`). Hay varias formas posibles de proceder (ver [documentación](https://www.crummy.com/software/BeautifulSoup/bs4/doc/#find-all)), pero una manera genérica es la siguiente:\n",
    "\n",
    "```python\n",
    "arbol.find_all(\"span\", attrs={\"class\": 'ws-title'})\n",
    "``` \n",
    "Como se ve en el ejemplo, como argumentos a `find_all()` se da el nombre del elemento, y después la sequencia `attrs=` seguida del nombre y valor del atributo buscado, respetando la sintaxis del ejemplo (cadenas entrecomilladas separadas por el signo dos puntos)\n",
    "\n",
    "<html><!--Comentario si usamos class_ Cabe mencionar que la clave de búsqueda no es `class` sino `class`, ya que la palabra *class* ya tiene otra utilización en Python.--></html> \n",
    "\n",
    "Asignaremos el resultado de cada búsqueda a una variable."
   ],
   "metadata": {
    "collapsed": false,
    "pycharm": {
     "name": "#%% md\n"
    }
   }
  },
  {
   "cell_type": "code",
   "execution_count": 26,
   "outputs": [],
   "source": [
    "autora_ele = arbol.find_all(\"span\", attrs={\"class\": \"ws-author\"})\n",
    "titulo_ele = arbol.find_all(\"span\", attrs={\"class\": \"ws-title\"})"
   ],
   "metadata": {
    "collapsed": false,
    "pycharm": {
     "name": "#%%\n",
     "is_executing": false
    }
   }
  },
  {
   "cell_type": "markdown",
   "source": [
    "Si miramos el contenido de las variables, veremos que, como pasaba con `select()` en las consultas de HTML en OpenRefine, `find_all()` devuelve una lista de valores.\n",
    "\n",
    "Podemos examinar el contenido de las variables simplemente escribiendo su nombre en una celda de notebook Jupyter o en una consola de Python, o con la función `print()`, pasándole el nombre de la variable como argumento."
   ],
   "metadata": {
    "collapsed": false,
    "pycharm": {
     "name": "#%% md\n"
    }
   }
  },
  {
   "cell_type": "code",
   "execution_count": 25,
   "outputs": [
    {
     "data": {
      "text/plain": "[<span class=\"ws-author\">Delmira Agustini</span>]"
     },
     "metadata": {},
     "output_type": "execute_result",
     "execution_count": 25
    }
   ],
   "source": [
    "# comentario: escribir nombre de variable para ver su valor\n",
    "autora_ele"
   ],
   "metadata": {
    "collapsed": false,
    "pycharm": {
     "name": "#%%\n",
     "is_executing": false
    }
   }
  },
  {
   "cell_type": "code",
   "execution_count": 24,
   "outputs": [
    {
     "name": "stdout",
     "text": [
      "[<span class=\"ws-author\">Delmira Agustini</span>]\n"
     ],
     "output_type": "stream"
    }
   ],
   "source": [
    "# ver valor de una variable con print()\n",
    "print(autora_ele)"
   ],
   "metadata": {
    "collapsed": false,
    "pycharm": {
     "name": "#%%\n",
     "is_executing": false
    }
   }
  },
  {
   "cell_type": "markdown",
   "source": [
    "En tanto que listas, accederemos a su contenido con índices numéricos, y se empieza a contar por cero: `autora_ele[0]`.\n",
    "\n",
    "Como pasaba con OpenRefine, como salida de nuestro procesamiento no queremos un \"elemento\", un \"nodo\" de un árbol con propiedades útiles para su análisis con funciones de manipulación del árbol, sino una cadena de texto. Para esto, podemos usar el método `get_text()` de los elementos tal que analizados por BeautifulSoup. "
   ],
   "metadata": {
    "collapsed": false,
    "pycharm": {
     "name": "#%% md\n"
    }
   }
  },
  {
   "cell_type": "code",
   "execution_count": 31,
   "outputs": [],
   "source": [
    "autora = autora_ele[0].get_text()\n",
    "titulo = titulo_ele[0].get_text()"
   ],
   "metadata": {
    "collapsed": false,
    "pycharm": {
     "name": "#%%\n",
     "is_executing": false
    }
   }
  },
  {
   "cell_type": "markdown",
   "source": [
    "Si inspeccionamos el contenido de las variables con `print()`, veremos que ahora sí contienen una cadena de texto con la información deseada"
   ],
   "metadata": {
    "collapsed": false,
    "pycharm": {
     "name": "#%% md\n"
    }
   }
  },
  {
   "cell_type": "code",
   "execution_count": 32,
   "outputs": [
    {
     "name": "stdout",
     "text": [
      "Delmira Agustini\n",
      "Una viñeta\n"
     ],
     "output_type": "stream"
    }
   ],
   "source": [
    "print(autora)\n",
    "print(titulo)"
   ],
   "metadata": {
    "collapsed": false,
    "pycharm": {
     "name": "#%%\n",
     "is_executing": false
    }
   }
  },
  {
   "cell_type": "markdown",
   "source": [
    "Pasamos a la extracción del texto. Se trata de elementos `<div class='poem'>`. Podríamos usar la misma sintaxis que antes, que era `arbol.find_all(\"div\", attrs={\"class\":\"poem\"}`, pero cuando el atributo con el que trabajamos es `class`, podemos usar una sintaxis abreviada, como en el ejemplo:"
   ],
   "metadata": {
    "collapsed": false,
    "pycharm": {
     "name": "#%% md\n"
    }
   }
  },
  {
   "cell_type": "code",
   "execution_count": 47,
   "outputs": [],
   "source": [
    "poem_ele = arbol.find_all(\"div\", \"poem\")"
   ],
   "metadata": {
    "collapsed": false,
    "pycharm": {
     "name": "#%% \n",
     "is_executing": false
    }
   }
  },
  {
   "cell_type": "code",
   "execution_count": 48,
   "outputs": [
    {
     "name": "stdout",
     "text": [
      "[<div class=\"poem\">\n",
      "<p> Tarde sucia de invierno. El caserío,   <br/>\n",
      " como si fuera un croquis al creyón,   <br/>\n",
      " se hunde en la noche. El humo de un bohío,   <br/>\n",
      " que sube en forma de tirabuzón;   <br/>\n",
      " <br/>\n",
      "<br/>\n",
      " mancha el paisaje que produce frío,  <br/>\n",
      " y debajo de la genuflexión   <br/>\n",
      " de la arboleda, somormuja el río   <br/>\n",
      " su canción, su somnífera canción.   <br/>\n",
      " <br/>\n",
      "<br/>\n",
      " Los labradores, camellón abajo,   <br/>\n",
      " retornan fatigosos del trabajo,  <br/>\n",
      " como un problema sin definición.   <br/>\n",
      " <br/>\n",
      "<br/>\n",
      " Y el dueño del terruño, indiferente,   <br/>\n",
      " rápidamente, muy rápidamente,   <br/>\n",
      " baja en su coche por el camellón.\n",
      "</p>\n",
      "</div>]\n"
     ],
     "output_type": "stream"
    }
   ],
   "source": [
    "print(poem_ele)"
   ],
   "metadata": {
    "collapsed": false,
    "pycharm": {
     "name": "#%%\n",
     "is_executing": false
    }
   }
  },
  {
   "cell_type": "code",
   "execution_count": 55,
   "outputs": [
    {
     "data": {
      "text/plain": "['\\n',\n <p> Tarde sucia de invierno. El caserío,   <br/>\n  como si fuera un croquis al creyón,   <br/>\n  se hunde en la noche. El humo de un bohío,   <br/>\n  que sube en forma de tirabuzón;   <br/>\n  <br/>\n <br/>\n  mancha el paisaje que produce frío,  <br/>\n  y debajo de la genuflexión   <br/>\n  de la arboleda, somormuja el río   <br/>\n  su canción, su somnífera canción.   <br/>\n  <br/>\n <br/>\n  Los labradores, camellón abajo,   <br/>\n  retornan fatigosos del trabajo,  <br/>\n  como un problema sin definición.   <br/>\n  <br/>\n <br/>\n  Y el dueño del terruño, indiferente,   <br/>\n  rápidamente, muy rápidamente,   <br/>\n  baja en su coche por el camellón.\n </p>,\n '\\n']"
     },
     "metadata": {},
     "output_type": "execute_result",
     "execution_count": 55
    }
   ],
   "source": [
    "poem_ele[0].contents"
   ],
   "metadata": {
    "collapsed": false,
    "pycharm": {
     "name": "#%%\n",
     "is_executing": false
    }
   }
  },
  {
   "cell_type": "markdown",
   "source": [],
   "metadata": {
    "collapsed": false,
    "pycharm": {
     "name": "#%% md\n"
    }
   }
  },
  {
   "cell_type": "code",
   "execution_count": 56,
   "outputs": [
    {
     "data": {
      "text/plain": "[<p> Tarde sucia de invierno. El caserío,   <br/>\n  como si fuera un croquis al creyón,   <br/>\n  se hunde en la noche. El humo de un bohío,   <br/>\n  que sube en forma de tirabuzón;   <br/>\n  <br/>\n <br/>\n  mancha el paisaje que produce frío,  <br/>\n  y debajo de la genuflexión   <br/>\n  de la arboleda, somormuja el río   <br/>\n  su canción, su somnífera canción.   <br/>\n  <br/>\n <br/>\n  Los labradores, camellón abajo,   <br/>\n  retornan fatigosos del trabajo,  <br/>\n  como un problema sin definición.   <br/>\n  <br/>\n <br/>\n  Y el dueño del terruño, indiferente,   <br/>\n  rápidamente, muy rápidamente,   <br/>\n  baja en su coche por el camellón.\n </p>]"
     },
     "metadata": {},
     "output_type": "execute_result",
     "execution_count": 56
    }
   ],
   "source": [
    "arbol.select(\"div[class=poem] > p\")\n"
   ],
   "metadata": {
    "collapsed": false,
    "pycharm": {
     "name": "#%%\n",
     "is_executing": false
    }
   }
  },
  {
   "cell_type": "markdown",
   "source": [
    "No hemos llegado todavía al elemento que contiene el poema, que es en realidad un `<p>` bajo el `<div class='poem'>`\n",
    "\n",
    "Habría una manera de hacer esto en una sola instrucción, \n",
    "\n",
    "\n",
    "El método `get_text()` tiene funciones que nos interesan aquí"
   ],
   "metadata": {
    "collapsed": false,
    "pycharm": {
     "name": "#%% md\n"
    }
   }
  },
  {
   "cell_type": "code",
   "source": [],
   "metadata": {
    "collapsed": false,
    "pycharm": {
     "name": "#%% md Crear archivos de salida\n"
    }
   },
   "execution_count": null,
   "outputs": []
  }
 ],
 "metadata": {
  "kernelspec": {
   "display_name": "Python 3",
   "language": "python",
   "name": "python3"
  },
  "language_info": {
   "codemirror_mode": {
    "name": "ipython",
    "version": 2
   },
   "file_extension": ".py",
   "mimetype": "text/x-python",
   "name": "python",
   "nbconvert_exporter": "python",
   "pygments_lexer": "ipython2",
   "version": "2.7.6"
  },
  "pycharm": {
   "stem_cell": {
    "cell_type": "raw",
    "source": [],
    "metadata": {
     "collapsed": false
    }
   }
  }
 },
 "nbformat": 4,
 "nbformat_minor": 0
}