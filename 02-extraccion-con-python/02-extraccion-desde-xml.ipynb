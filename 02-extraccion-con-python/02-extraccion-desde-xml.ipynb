{
 "cells": [
  {
   "cell_type": "markdown",
   "id": "8155fd01",
   "metadata": {},
   "source": [
    "# Extracción de contenido con Python a partir de XML\n",
    "\n",
    "<html><p><span style=\"font-size:x-small\">En GitHub, los enlaces de la tabla de contenidos de un notebook Jupyter no funcionan. Para una versión con enlaces, abrir en <a href=\"https://nbviewer.org/github/HD-aula-Literatura/II-2-scraping/blob/main/02-extraccion-con-python/02-extraccion-desde-xml.ipynb\">NbViewer</a>. Para una versión interactiva del notebook, abrir en Binder:</span></p></html>\n",
    "\n",
    "- [Introducción: XML](#s-intro)\n",
    "  - [Sintaxis XML](#ss-sintaxis)\n",
    "- [Manipular un árbol XML](#s-manipular-xml)\n",
    "  - [Extracción del contenido](#ss-extraccion-xml)\n",
    "    - [Metadatos](#sss-metadatos)\n",
    "    - [Texto del poema](#sss-texto)\n",
    "  - [Guardar la información extraída en una dataframe](#ss-guardar-dataframe)\n",
    "\n",
    "<a name=\"s-intro\"></a>\n",
    "\n",
    "# Introducción: XML\n",
    "\n",
    "Como se vio en el capítulo, XML (eXtensible Markup Language) es un lenguaje utilizado para representar\n",
    "información de forma estructurada. Hablamos de él aquí ya que algunos documentos obtenidos por scraping pueden estar en XML, sin embargo las tecnologías XML se usan más típicamente para manipular corpus ya limpios y que han sido representados en XML. Como el HTML, se basa en una estructura arbórea, expresable mendiante una cadena de texto, en la que el contenido está incluido dentro de pares de etiquetas anidadas, y las etiquetas de abertura pueden tener atributos. Mientras que en HTML el conjunto de etiquetas posible está predefinido, y sus funciones se refieren a la estructuración y presentación de documentos web, en XML cada persona puede definir sus propias etiquetas (es extensible) y crear su propia especificación de marcado. Una especificación XML muy utilizada en humanidades es TEI (*Text Encoding Initiative*).\n",
    "\n",
    "Hay tecnologías específicas para manipular documentos XML, como XPath, XSLT o XQuery y entornos para este fin, com Oxygen o BaseX. OpenRefine tiene algunas funciones para manipular XML, presentadas en el [presente repositorio](../01-extraccion-con-openrefine/02-extraccion-desde-xml.md). \n",
    "\n",
    "\n",
    "<a name=\"ss-sintaxis\"></a>\n",
    "\n",
    "## Sintaxis\n",
    "\n",
    "Como se ha visto, para representar el árbol XML mediante una cadena de texto, se envuelve el contenido con pares de etiquetas anidables. Hay una etiqueta inicial de la que las demás descienden, representa el nodo raíz, en nuestro [ejemplo](#ejemplo-xml) es `<poema>`. Las etiquetas de abertura pueden llevar atributos; el valor del atributo va entre comillas o apóstrofes. Puede haber también etiquetas vacías o de autocierre, como `<fecha/>` en el [ejemplo](#ejemplo-xml).\n",
    "\n",
    "\n",
    "Como se ve en el [ejemplo](#ejemplo-xml), un \"prólogo\" puede preceder al nodo raíz, con la forma `<?xml version=\"1.0\" encoding=\"UTF-8\"?>`, en él se especifica la versión y la codificación de caracteres.\n",
    "\n",
    "Como en HTML, en XML hay también unas entidades predefinidas, cuyo uso es obligatorio en XML. Son las siguientes:\n",
    "\n",
    "|Carácter|Entidad|\n",
    "|:---:|:---:|\n",
    "|<|&amp;lt;|\n",
    "|>|&amp;gt;|\n",
    "|\"|&amp;quot;|\n",
    "|'|&amp;apos;|\n",
    "|&|&amp;amp;|\n",
    "\n",
    "Es necesario usar entidades para representar estos caracteres, porque estos caracteres, de forma literal (no como entidades) se usan ya para definir la sintaxis XML cuando representamos el árbol XML como cadena de texto. Como se ve en el [ejemplo](#ejemplo-xml) abajo, `<` abre una etiqueta y `>` la cierra. Las comillas o apóstrofes se usan para los valores de los atributos. Y `&` se usa justamente para definir entidades. Así que para escribir estos signos como caracteres, no como integrantes de la sintaxis, hay que usar las entidades.\n",
    "\n",
    "XML permite usar comentarios, que son ignorados por el parseador (el analizador que manipula el árbol del documento). Los documentos se introducen entre `<!-- -->` (misma sintaxis que los comentarios en HTML). Como se ve en el [ejemplo](#ejemplo-xml), dentro de los comentarios no hace falta usar entidades XML.\n",
    "\n",
    "\n",
    "<a name=\"frag-ejemplo-xml\"></a>\n",
    "\n",
    "**Ejemplo de documento expresado en XML**\n",
    "<html><span style=\"font-size:small\">Elaboración propia</span></html>\n",
    "\n",
    "```xml\n",
    "<?xml version=\"1.0\" encoding=\"UTF-8\"?>\n",
    "<poema>\n",
    "  <metadatos>\n",
    "    <autoria>\n",
    "      <nombre>Guillermo Carlos</nombre>  \n",
    "      <apellido>Guillermos</apellido>\n",
    "    </autoria>\n",
    "    <!-- el título es \"fruta & frigo's\" -->  \n",
    "    <titulo>fruta &amp; frigo&apos;s</titulo>\n",
    "    <fecha/>  \n",
    "  </metadatos>\n",
    "  <texto>\n",
    "    <titulo>fruta &amp; frigo&apos;s</titulo>\n",
    "    <estrofa tipo=\"haiku\">\n",
    "      <verso>come la fruta</verso>\n",
    "      <verso>del refrigerador</verso>\n",
    "      <verso>muy deliciosa</verso>\n",
    "    </estrofa>\n",
    "  </texto>\n",
    "</poema>\n",
    "\n",
    "```\n",
    "\n",
    "<a name=\"s-manipular-xml\"></a>\n",
    "\n",
    "# Manipular un árbol XML\n",
    "\n",
    "Como se dijo, hay lenguajes muy potentes para esto, como XPath, XSLT y XQuery. Aquí nos limitamos a la manipulación con bibliotecas de Python.\n",
    "\n",
    "Por paralelismo a lo que se ha hecho para le HTML, utilizaremos la biblioteca [BeautifulSoup](https://www.crummy.com/software/BeautifulSoup/bs4/doc/#id17), que también permite manipular XML aparte de HTML. Una biblioteca Python más específica para XML es [lxml](https://lxml.de/).\n",
    "\n",
    "Wikisource también puede ofrecer su contenido en XML, a través de comandos de su API (Application Programming Interface o interfaz de programación de aplicaciones, es decir, conjunto de instrucciones para interaccionar con un programa a partir de otro programa).\n",
    "\n",
    "Bajaremos con la API la página del poema ya visto en el capítulo, \"Una viñeta\" de Delmira Agustini. El URL es https://es.wikisource.org/w/api.php?action=parse&page=Una_vi%C3%B1eta&format=xml.\n",
    "\n",
    "No se dan detalles sobre el código ya que todo se ha visto en el [notebook](01-extraccion-desde-html.ipynb) sobre scraping desde HTML. La única diferencia es que, para crear un árbol XML con BeautifulSoup, como segundo argumento debemos dar la palabra `xml`: `arbol = BeautifulSoup(contenido, 'xml')`"
   ]
  },
  {
   "cell_type": "code",
   "execution_count": 2,
   "id": "9a54aa77",
   "metadata": {},
   "outputs": [],
   "source": [
    "import requests\n",
    "from bs4 import BeautifulSoup\n",
    "\n",
    "url_pagina = \"https://es.wikisource.org/w/api.php?action=parse&page=Una_vi%C3%B1eta&format=xml\"\n",
    "respuesta = requests.get(url_pagina)\n",
    "contenido = respuesta.text\n",
    "arbol = BeautifulSoup(contenido, \"xml\")"
   ]
  },
  {
   "cell_type": "code",
   "execution_count": 3,
   "id": "c7f651d2",
   "metadata": {},
   "outputs": [
    {
     "data": {
      "text/plain": [
       "<?xml version=\"1.0\" encoding=\"utf-8\"?>\n",
       "<api><parse displaytitle=\"Una viñeta\" pageid=\"27121\" revid=\"1193682\" title=\"Una viñeta\"><text xml:space=\"preserve\">&lt;div class=\"mw-parser-output\"&gt;&lt;style data-mw-deduplicate=\"TemplateStyles:r1188054\"&gt;.mw-parser-output #headertemplate{text-align:center;padding:1em;background:#F4F0E5;border-top:1px solid #A0A0A0;border-bottom:1px solid #A0A0A0;margin:10px auto;display:table;width:95%}.mw-parser-output #headerprevious,.mw-parser-output #footerprevious{padding:0;display:table-cell;vertical-align:middle;width:16%}.mw-parser-output #headernext,.mw-parser-output #footernext{padding:0;display:table-cell;vertical-align:middle;width:16%}.mw-parser-output .prev-span{float:left;display:block;font-size:smaller}.mw-parser-output .prev-span-arrow{margin-right:0.5em;position:relative;top:1.5px}.mw-parser-output .middle-div{width:68%;display:table-cell;vertical-align:middle}.mw-parser-output .next-span{float:right;display:block;font-size:smaller}.mw-parser-output .next-span-arrow{margin-left:0.5em;position:relative;top:1.5px}.mw-parser-output .lower-div{clear:both;padding:0.5em;text-align:center;margin:0 auto;font-size:80%}.mw-parser-output .notes{font-size:90%;width:95%;margin:-10px auto 10px}&lt;/style&gt;\n",
       "&lt;div id=\"headertemplate\" class=\"noprint ws-noexport\"&gt;&lt;div id=\"headerprevious\"&gt;&lt;/div&gt;&lt;div class=\"middle-div\"&gt;&lt;i&gt;&lt;b&gt;&amp;#8203;Una viñeta&amp;#8203;&lt;/b&gt;&lt;/i&gt;&amp;#160;de&amp;#160;&lt;a href=\"/wiki/Autor:Delmira_Agustini\" title=\"Autor:Delmira Agustini\"&gt;Delmira Agustini&lt;/a&gt;&lt;br /&gt;&lt;div class=\"noprint plainlinks lower-div\"&gt;&lt;a href=\"/wiki/Archivo:Wikidata-logo.svg\" class=\"image\"&gt;&lt;img alt=\"Wikidata-logo.svg\" src=\"//upload.wikimedia.org/wikipedia/commons/thumb/f/ff/Wikidata-logo.svg/16px-Wikidata-logo.svg.png\" decoding=\"async\" width=\"16\" height=\"9\" srcset=\"//upload.wikimedia.org/wikipedia/commons/thumb/f/ff/Wikidata-logo.svg/24px-Wikidata-logo.svg.png 1.5x, //upload.wikimedia.org/wikipedia/commons/thumb/f/ff/Wikidata-logo.svg/32px-Wikidata-logo.svg.png 2x\" data-file-width=\"1050\" data-file-height=\"590\" /&gt;&lt;/a&gt;&amp;#160;&lt;a href=\"https://www.wikidata.org/wiki/Q19492667\" class=\"extiw\" title=\"d:Q19492667\"&gt;metadatos&lt;/a&gt;.&amp;#160;&amp;#160;&amp;#160;&lt;div style=\"font-size:80%\"&gt;Descargar como &amp;#160;&lt;a href=\"https://wsexport.toolforge.org/tool/book.php?lang=es&amp;amp;format=epub&amp;amp;page=Una+vi%C3%B1eta\" title=\"Descargar en formato ePub\"&gt;&lt;img alt=\"Descargar en formato ePub\" src=\"//upload.wikimedia.org/wikipedia/commons/thumb/d/d5/EPUB_silk_icon.svg/12px-EPUB_silk_icon.svg.png\" decoding=\"async\" width=\"12\" height=\"12\" srcset=\"//upload.wikimedia.org/wikipedia/commons/thumb/d/d5/EPUB_silk_icon.svg/18px-EPUB_silk_icon.svg.png 1.5x, //upload.wikimedia.org/wikipedia/commons/thumb/d/d5/EPUB_silk_icon.svg/24px-EPUB_silk_icon.svg.png 2x\" data-file-width=\"512\" data-file-height=\"512\" /&gt;&lt;/a&gt;&amp;#160;&lt;a href=\"https://wsexport.toolforge.org/tool/book.php?lang=es&amp;amp;page=Una+vi%C3%B1eta&amp;amp;format=pdf-a5\" title=\"Descargar en formato PDF\"&gt;&lt;img alt=\"Descargar en formato PDF\" src=\"//upload.wikimedia.org/wikipedia/commons/thumb/5/5f/Document-pdf.svg/15px-Document-pdf.svg.png\" decoding=\"async\" width=\"15\" height=\"14\" srcset=\"//upload.wikimedia.org/wikipedia/commons/thumb/5/5f/Document-pdf.svg/23px-Document-pdf.svg.png 1.5x, //upload.wikimedia.org/wikipedia/commons/thumb/5/5f/Document-pdf.svg/30px-Document-pdf.svg.png 2x\" data-file-width=\"714\" data-file-height=\"672\" /&gt;&lt;/a&gt;&amp;#160;&lt;a href=\"https://wsexport.toolforge.org/tool/book.php?lang=es&amp;amp;page=Una+vi%C3%B1eta&amp;amp;format=mobi\" title=\"Descargar en formato mobi\"&gt;&lt;img alt=\"Descargar en formato mobi\" src=\"//upload.wikimedia.org/wikipedia/commons/thumb/a/ae/Mobi_icon.svg/22px-Mobi_icon.svg.png\" decoding=\"async\" width=\"22\" height=\"13\" srcset=\"//upload.wikimedia.org/wikipedia/commons/thumb/a/ae/Mobi_icon.svg/33px-Mobi_icon.svg.png 1.5x, //upload.wikimedia.org/wikipedia/commons/thumb/a/ae/Mobi_icon.svg/44px-Mobi_icon.svg.png 2x\" data-file-width=\"273\" data-file-height=\"163\" /&gt;&lt;/a&gt;&lt;/div&gt;&lt;/div&gt;&lt;/div&gt;&lt;div id=\"headernext\"&gt;&lt;/div&gt;&lt;/div&gt;&lt;div id=\"ws-data\" class=\"ws-noexport\" style=\"display:none\"&gt;&lt;span class=\"ws-title\"&gt;Una viñeta&lt;/span&gt;&lt;span class=\"ws-author\"&gt;Delmira Agustini&lt;/span&gt;&lt;/div&gt;\n",
       "&lt;p&gt;&lt;br /&gt;\n",
       "&lt;/p&gt;\n",
       "&lt;div class=\"poem\"&gt;\n",
       "&lt;p&gt;&amp;#160;Tarde sucia de invierno. El caserío,   &lt;br /&gt;\n",
       "&amp;#160;como si fuera un croquis al creyón,   &lt;br /&gt;\n",
       "&amp;#160;se hunde en la noche. El humo de un bohío,   &lt;br /&gt;\n",
       "&amp;#160;que sube en forma de tirabuzón;   &lt;br /&gt;\n",
       "&amp;#160;&lt;br /&gt;\n",
       "&lt;br /&gt;\n",
       "&amp;#160;mancha el paisaje que produce frío,  &lt;br /&gt;\n",
       "&amp;#160;y debajo de la genuflexión   &lt;br /&gt;\n",
       "&amp;#160;de la arboleda, somormuja el río   &lt;br /&gt;\n",
       "&amp;#160;su canción, su somnífera canción.   &lt;br /&gt;\n",
       "&amp;#160;&lt;br /&gt;\n",
       "&lt;br /&gt;\n",
       "&amp;#160;Los labradores, camellón abajo,   &lt;br /&gt;\n",
       "&amp;#160;retornan fatigosos del trabajo,  &lt;br /&gt;\n",
       "&amp;#160;como un problema sin definición.   &lt;br /&gt;\n",
       "&amp;#160;&lt;br /&gt;\n",
       "&lt;br /&gt;\n",
       "&amp;#160;Y el dueño del terruño, indiferente,   &lt;br /&gt;\n",
       "&amp;#160;rápidamente, muy rápidamente,   &lt;br /&gt;\n",
       "&amp;#160;baja en su coche por el camellón.\n",
       "&lt;/p&gt;\n",
       "&lt;/div&gt;\n",
       "&lt;!-- \n",
       "NewPP limit report\n",
       "Parsed by mw1409\n",
       "Cached time: 20220802160034\n",
       "Cache expiry: 1814400\n",
       "Reduced expiry: false\n",
       "Complications: []\n",
       "CPU time usage: 0.076 seconds\n",
       "Real time usage: 0.104 seconds\n",
       "Preprocessor visited node count: 31/1000000\n",
       "Post‐expand include size: 2167/2097152 bytes\n",
       "Template argument size: 0/2097152 bytes\n",
       "Highest expansion depth: 4/100\n",
       "Expensive parser function count: 0/500\n",
       "Unstrip recursion depth: 1/20\n",
       "Unstrip post‐expand size: 2370/5000000 bytes\n",
       "Lua time usage: 0.023/10.000 seconds\n",
       "Lua memory usage: 836150/52428800 bytes\n",
       "Number of Wikibase entities loaded: 1/400\n",
       "--&gt;\n",
       "&lt;!--\n",
       "Transclusion expansion time report (%,ms,calls,template)\n",
       "100.00%   80.396      1 -total\n",
       "100.00%   80.396      1 Plantilla:Encabezado\n",
       " 12.75%   10.252      1 Plantilla:Interwiki-extra\n",
       "--&gt;\n",
       "\n",
       "&lt;!-- Saved in parser cache with key eswikisource:pcache:idhash:27121-0!canonical and timestamp 20220802160034 and revision id 1193682.\n",
       " --&gt;\n",
       "&lt;/div&gt;</text><langlinks/><categories><cl sortkey=\"\" xml:space=\"preserve\">ES-U</cl><cl sortkey=\"\" xml:space=\"preserve\">Sonetos</cl><cl sortkey=\"\" xml:space=\"preserve\">Sonetos_de_Delmira_Agustini</cl><cl sortkey=\"\" xml:space=\"preserve\">Literatura_uruguaya_(Títulos)</cl></categories><links><pl exists=\"\" ns=\"106\" xml:space=\"preserve\">Autor:Delmira Agustini</pl></links><templates><tl exists=\"\" ns=\"10\" xml:space=\"preserve\">Plantilla:Encabezado</tl><tl exists=\"\" ns=\"10\" xml:space=\"preserve\">Plantilla:Encabezado/estilo.css</tl><tl exists=\"\" ns=\"10\" xml:space=\"preserve\">Plantilla:Interwiki-extra</tl><tl exists=\"\" ns=\"828\" xml:space=\"preserve\">Módulo:Encabezado</tl><tl exists=\"\" ns=\"828\" xml:space=\"preserve\">Módulo:Wikidata</tl><tl exists=\"\" ns=\"828\" xml:space=\"preserve\">Módulo:Tablas</tl><tl exists=\"\" ns=\"828\" xml:space=\"preserve\">Módulo:String</tl><tl exists=\"\" ns=\"828\" xml:space=\"preserve\">Módulo:Interwikis</tl></templates><images><img>Wikidata-logo.svg</img><img>EPUB_silk_icon.svg</img><img>Document-pdf.svg</img><img>Mobi_icon.svg</img></images><externallinks><el>https://wsexport.toolforge.org/tool/book.php?lang=es&amp;format=epub&amp;page=Una+vi%C3%B1eta</el><el>https://wsexport.toolforge.org/tool/book.php?lang=es&amp;page=Una+vi%C3%B1eta&amp;format=pdf-a5</el><el>https://wsexport.toolforge.org/tool/book.php?lang=es&amp;page=Una+vi%C3%B1eta&amp;format=mobi</el></externallinks><sections/><parsewarnings/><iwlinks><iw prefix=\"d\" url=\"https://www.wikidata.org/wiki/Q19492667\" xml:space=\"preserve\">d:Q19492667</iw></iwlinks><properties><pp name=\"wikibase_item\" xml:space=\"preserve\">Q19492667</pp></properties></parse></api>"
      ]
     },
     "execution_count": 3,
     "metadata": {},
     "output_type": "execute_result"
    }
   ],
   "source": [
    "arbol"
   ]
  },
  {
   "cell_type": "markdown",
   "id": "6028b0dc",
   "metadata": {},
   "source": [
    "<a name=\"ss-extraccion-xml\"></a>\n",
    "\n",
    "## Extracción de contenido\n",
    "\n",
    "Como se ve al mostrar el resultado, ahora tenemos un árbol XML, proveniente de la cadena de texto que expresa el contenido de la página con XML. Si miramos este XML, nos interesan los fragmentos siguientes:\n",
    "\n",
    "\n",
    "**Para el título**\n",
    "\n",
    "\n",
    "```xml\n",
    "<parse displaytitle=\"Una viñeta\" pageid=\"27121\" revid=\"1193682\" title=\"Una viñeta\">\n",
    "```\n",
    "\n",
    "**Para la autora**\n",
    "\n",
    "```xml\n",
    "<links><pl exists=\"\" ns=\"106\" xml:space=\"preserve\">Autor:Delmira Agustini</pl></links>\n",
    "```\n",
    "\n",
    "**Para el texto**\n",
    "```xml\n",
    "<text xml:space=\"preserve\"> ... </text>\n",
    "```\n",
    "\n",
    "En los casos del título y de la autora se ve claramente la localización de la información. En el caso del texto del poema, la API de Wikisource no da un campo específico con su contenido. Lo que hace es dar, dentro del elemento `<text>`, una cadena de texto que expresa una parte del contenido principal del cuerpo de la página en HTML (la parte central con el poema y algunos de sus metadatos). Así que debemos extraer esta cadena, crear un árbol HTML y extraer el texto del poema a partir de este. No es el uso más típico de XML pero nos permite combinar los conocimientos vistos en el capítulo\n",
    "\n",
    "<a name=\"sss-metadatos\"></a>\n",
    "\n",
    "### Metadatos\n",
    "\n",
    "Vamos a extraer el título y autora primero, asignándolos a una variable:"
   ]
  },
  {
   "cell_type": "code",
   "execution_count": 4,
   "id": "160ddc14",
   "metadata": {},
   "outputs": [],
   "source": [
    "titulo = arbol.find(\"parse\").attrs[\"title\"]"
   ]
  },
  {
   "cell_type": "code",
   "execution_count": 5,
   "id": "1c81c3e9",
   "metadata": {},
   "outputs": [
    {
     "name": "stdout",
     "output_type": "stream",
     "text": [
      "Una viñeta\n"
     ]
    }
   ],
   "source": [
    "print(titulo)"
   ]
  },
  {
   "cell_type": "code",
   "execution_count": 6,
   "id": "72926df5",
   "metadata": {},
   "outputs": [],
   "source": [
    "autora = arbol.find_all(\"links\")[0].find(\"pl\").get_text().replace(\"Autor:\", \"\")"
   ]
  },
  {
   "cell_type": "code",
   "execution_count": 7,
   "id": "721d9a4b",
   "metadata": {},
   "outputs": [
    {
     "name": "stdout",
     "output_type": "stream",
     "text": [
      "Delmira Agustini\n"
     ]
    }
   ],
   "source": [
    "print(autora)"
   ]
  },
  {
   "cell_type": "markdown",
   "id": "a6b58282",
   "metadata": {},
   "source": [
    "<a name=\"sss-texto\"></a>\n",
    "\n",
    "### Texto del poema\n",
    "\n",
    "Nos ocupamos ahora del texto. Primero extraemos la parte central del cuerpo de la página Wikisource que contiene el poema con alguna información más (como se ha dicho, la API no divide el contenido de forma más detallada)."
   ]
  },
  {
   "cell_type": "code",
   "execution_count": 8,
   "id": "5d0691bb",
   "metadata": {},
   "outputs": [],
   "source": [
    "contenido_cuerpo_pagina = arbol.find(\"text\").get_text()"
   ]
  },
  {
   "cell_type": "code",
   "execution_count": 9,
   "id": "0deb5a6b",
   "metadata": {
    "collapsed": true
   },
   "outputs": [
    {
     "name": "stdout",
     "output_type": "stream",
     "text": [
      "<div class=\"mw-parser-output\"><style data-mw-deduplicate=\"TemplateStyles:r1188054\">.mw-parser-output #headertemplate{text-align:center;padding:1em;background:#F4F0E5;border-top:1px solid #A0A0A0;border-bottom:1px solid #A0A0A0;margin:10px auto;display:table;width:95%}.mw-parser-output #headerprevious,.mw-parser-output #footerprevious{padding:0;display:table-cell;vertical-align:middle;width:16%}.mw-parser-output #headernext,.mw-parser-output #footernext{padding:0;display:table-cell;vertical-align:middle;width:16%}.mw-parser-output .prev-span{float:left;display:block;font-size:smaller}.mw-parser-output .prev-span-arrow{margin-right:0.5em;position:relative;top:1.5px}.mw-parser-output .middle-div{width:68%;display:table-cell;vertical-align:middle}.mw-parser-output .next-span{float:right;display:block;font-size:smaller}.mw-parser-output .next-span-arrow{margin-left:0.5em;position:relative;top:1.5px}.mw-parser-output .lower-div{clear:both;padding:0.5em;text-align:center;margin:0 auto;font-size:80%}.mw-parser-output .notes{font-size:90%;width:95%;margin:-10px auto 10px}</style>\n",
      "<div id=\"headertemplate\" class=\"noprint ws-noexport\"><div id=\"headerprevious\"></div><div class=\"middle-div\"><i><b>&#8203;Una viñeta&#8203;</b></i>&#160;de&#160;<a href=\"/wiki/Autor:Delmira_Agustini\" title=\"Autor:Delmira Agustini\">Delmira Agustini</a><br /><div class=\"noprint plainlinks lower-div\"><a href=\"/wiki/Archivo:Wikidata-logo.svg\" class=\"image\"><img alt=\"Wikidata-logo.svg\" src=\"//upload.wikimedia.org/wikipedia/commons/thumb/f/ff/Wikidata-logo.svg/16px-Wikidata-logo.svg.png\" decoding=\"async\" width=\"16\" height=\"9\" srcset=\"//upload.wikimedia.org/wikipedia/commons/thumb/f/ff/Wikidata-logo.svg/24px-Wikidata-logo.svg.png 1.5x, //upload.wikimedia.org/wikipedia/commons/thumb/f/ff/Wikidata-logo.svg/32px-Wikidata-logo.svg.png 2x\" data-file-width=\"1050\" data-file-height=\"590\" /></a>&#160;<a href=\"https://www.wikidata.org/wiki/Q19492667\" class=\"extiw\" title=\"d:Q19492667\">metadatos</a>.&#160;&#160;&#160;<div style=\"font-size:80%\">Descargar como &#160;<a href=\"https://wsexport.toolforge.org/tool/book.php?lang=es&amp;format=epub&amp;page=Una+vi%C3%B1eta\" title=\"Descargar en formato ePub\"><img alt=\"Descargar en formato ePub\" src=\"//upload.wikimedia.org/wikipedia/commons/thumb/d/d5/EPUB_silk_icon.svg/12px-EPUB_silk_icon.svg.png\" decoding=\"async\" width=\"12\" height=\"12\" srcset=\"//upload.wikimedia.org/wikipedia/commons/thumb/d/d5/EPUB_silk_icon.svg/18px-EPUB_silk_icon.svg.png 1.5x, //upload.wikimedia.org/wikipedia/commons/thumb/d/d5/EPUB_silk_icon.svg/24px-EPUB_silk_icon.svg.png 2x\" data-file-width=\"512\" data-file-height=\"512\" /></a>&#160;<a href=\"https://wsexport.toolforge.org/tool/book.php?lang=es&amp;page=Una+vi%C3%B1eta&amp;format=pdf-a5\" title=\"Descargar en formato PDF\"><img alt=\"Descargar en formato PDF\" src=\"//upload.wikimedia.org/wikipedia/commons/thumb/5/5f/Document-pdf.svg/15px-Document-pdf.svg.png\" decoding=\"async\" width=\"15\" height=\"14\" srcset=\"//upload.wikimedia.org/wikipedia/commons/thumb/5/5f/Document-pdf.svg/23px-Document-pdf.svg.png 1.5x, //upload.wikimedia.org/wikipedia/commons/thumb/5/5f/Document-pdf.svg/30px-Document-pdf.svg.png 2x\" data-file-width=\"714\" data-file-height=\"672\" /></a>&#160;<a href=\"https://wsexport.toolforge.org/tool/book.php?lang=es&amp;page=Una+vi%C3%B1eta&amp;format=mobi\" title=\"Descargar en formato mobi\"><img alt=\"Descargar en formato mobi\" src=\"//upload.wikimedia.org/wikipedia/commons/thumb/a/ae/Mobi_icon.svg/22px-Mobi_icon.svg.png\" decoding=\"async\" width=\"22\" height=\"13\" srcset=\"//upload.wikimedia.org/wikipedia/commons/thumb/a/ae/Mobi_icon.svg/33px-Mobi_icon.svg.png 1.5x, //upload.wikimedia.org/wikipedia/commons/thumb/a/ae/Mobi_icon.svg/44px-Mobi_icon.svg.png 2x\" data-file-width=\"273\" data-file-height=\"163\" /></a></div></div></div><div id=\"headernext\"></div></div><div id=\"ws-data\" class=\"ws-noexport\" style=\"display:none\"><span class=\"ws-title\">Una viñeta</span><span class=\"ws-author\">Delmira Agustini</span></div>\n",
      "<p><br />\n",
      "</p>\n",
      "<div class=\"poem\">\n",
      "<p>&#160;Tarde sucia de invierno. El caserío,   <br />\n",
      "&#160;como si fuera un croquis al creyón,   <br />\n",
      "&#160;se hunde en la noche. El humo de un bohío,   <br />\n",
      "&#160;que sube en forma de tirabuzón;   <br />\n",
      "&#160;<br />\n",
      "<br />\n",
      "&#160;mancha el paisaje que produce frío,  <br />\n",
      "&#160;y debajo de la genuflexión   <br />\n",
      "&#160;de la arboleda, somormuja el río   <br />\n",
      "&#160;su canción, su somnífera canción.   <br />\n",
      "&#160;<br />\n",
      "<br />\n",
      "&#160;Los labradores, camellón abajo,   <br />\n",
      "&#160;retornan fatigosos del trabajo,  <br />\n",
      "&#160;como un problema sin definición.   <br />\n",
      "&#160;<br />\n",
      "<br />\n",
      "&#160;Y el dueño del terruño, indiferente,   <br />\n",
      "&#160;rápidamente, muy rápidamente,   <br />\n",
      "&#160;baja en su coche por el camellón.\n",
      "</p>\n",
      "</div>\n",
      "<!-- \n",
      "NewPP limit report\n",
      "Parsed by mw1409\n",
      "Cached time: 20220802160034\n",
      "Cache expiry: 1814400\n",
      "Reduced expiry: false\n",
      "Complications: []\n",
      "CPU time usage: 0.076 seconds\n",
      "Real time usage: 0.104 seconds\n",
      "Preprocessor visited node count: 31/1000000\n",
      "Post‐expand include size: 2167/2097152 bytes\n",
      "Template argument size: 0/2097152 bytes\n",
      "Highest expansion depth: 4/100\n",
      "Expensive parser function count: 0/500\n",
      "Unstrip recursion depth: 1/20\n",
      "Unstrip post‐expand size: 2370/5000000 bytes\n",
      "Lua time usage: 0.023/10.000 seconds\n",
      "Lua memory usage: 836150/52428800 bytes\n",
      "Number of Wikibase entities loaded: 1/400\n",
      "-->\n",
      "<!--\n",
      "Transclusion expansion time report (%,ms,calls,template)\n",
      "100.00%   80.396      1 -total\n",
      "100.00%   80.396      1 Plantilla:Encabezado\n",
      " 12.75%   10.252      1 Plantilla:Interwiki-extra\n",
      "-->\n",
      "\n",
      "<!-- Saved in parser cache with key eswikisource:pcache:idhash:27121-0!canonical and timestamp 20220802160034 and revision id 1193682.\n",
      " -->\n",
      "</div>\n"
     ]
    }
   ],
   "source": [
    "print(contenido_cuerpo_pagina)"
   ]
  },
  {
   "cell_type": "markdown",
   "id": "f7131435",
   "metadata": {},
   "source": [
    "Ya que esta cadena expresa el HTML de la página, la analizaremos con el parseador de HTML y extraeremos el texto del poema, usando las mismas operaciones que ya se vieron en el [notebook](01-extraccion-desde-html.ipynb) sobre scraping desde HTML."
   ]
  },
  {
   "cell_type": "code",
   "execution_count": 12,
   "id": "52d72d77",
   "metadata": {},
   "outputs": [],
   "source": [
    "arbol_html = BeautifulSoup(contenido_cuerpo_pagina)"
   ]
  },
  {
   "cell_type": "code",
   "execution_count": 13,
   "id": "03040f07",
   "metadata": {},
   "outputs": [],
   "source": [
    "texto_bruto_poema = arbol_html.find_all(\"div\", attrs={\"class\": \"poem\"})[0].find(\"p\").get_text()"
   ]
  },
  {
   "cell_type": "code",
   "execution_count": 14,
   "id": "17784562",
   "metadata": {},
   "outputs": [
    {
     "data": {
      "text/plain": [
       "'\\xa0Tarde sucia de invierno. El caserío,   \\n\\xa0como si fuera un croquis al creyón,   \\n\\xa0se hunde en la noche. El humo de un bohío,   \\n\\xa0que sube en forma de tirabuzón;   \\n\\xa0\\n\\n\\xa0mancha el paisaje que produce frío,  \\n\\xa0y debajo de la genuflexión   \\n\\xa0de la arboleda, somormuja el río   \\n\\xa0su canción, su somnífera canción.   \\n\\xa0\\n\\n\\xa0Los labradores, camellón abajo,   \\n\\xa0retornan fatigosos del trabajo,  \\n\\xa0como un problema sin definición.   \\n\\xa0\\n\\n\\xa0Y el dueño del terruño, indiferente,   \\n\\xa0rápidamente, muy rápidamente,   \\n\\xa0baja en su coche por el camellón.\\n'"
      ]
     },
     "execution_count": 14,
     "metadata": {},
     "output_type": "execute_result"
    }
   ],
   "source": [
    "texto_bruto_poema"
   ]
  },
  {
   "cell_type": "code",
   "execution_count": 15,
   "id": "eed8d7a4",
   "metadata": {},
   "outputs": [],
   "source": [
    "versos_brutos = texto_bruto_poema.split(\"\\n\")"
   ]
  },
  {
   "cell_type": "code",
   "execution_count": 16,
   "id": "245ac6dc",
   "metadata": {
    "scrolled": true
   },
   "outputs": [
    {
     "data": {
      "text/plain": [
       "['\\xa0Tarde sucia de invierno. El caserío,   ',\n",
       " '\\xa0como si fuera un croquis al creyón,   ',\n",
       " '\\xa0se hunde en la noche. El humo de un bohío,   ',\n",
       " '\\xa0que sube en forma de tirabuzón;   ',\n",
       " '\\xa0',\n",
       " '',\n",
       " '\\xa0mancha el paisaje que produce frío,  ',\n",
       " '\\xa0y debajo de la genuflexión   ',\n",
       " '\\xa0de la arboleda, somormuja el río   ',\n",
       " '\\xa0su canción, su somnífera canción.   ',\n",
       " '\\xa0',\n",
       " '',\n",
       " '\\xa0Los labradores, camellón abajo,   ',\n",
       " '\\xa0retornan fatigosos del trabajo,  ',\n",
       " '\\xa0como un problema sin definición.   ',\n",
       " '\\xa0',\n",
       " '',\n",
       " '\\xa0Y el dueño del terruño, indiferente,   ',\n",
       " '\\xa0rápidamente, muy rápidamente,   ',\n",
       " '\\xa0baja en su coche por el camellón.',\n",
       " '']"
      ]
     },
     "execution_count": 16,
     "metadata": {},
     "output_type": "execute_result"
    }
   ],
   "source": [
    "versos_brutos"
   ]
  },
  {
   "cell_type": "code",
   "execution_count": 17,
   "id": "ad2ffabc",
   "metadata": {},
   "outputs": [],
   "source": [
    "versos_limpios = [verso.strip() for verso in versos_brutos]"
   ]
  },
  {
   "cell_type": "code",
   "execution_count": 18,
   "id": "af4419eb",
   "metadata": {
    "scrolled": true
   },
   "outputs": [
    {
     "data": {
      "text/plain": [
       "['Tarde sucia de invierno. El caserío,',\n",
       " 'como si fuera un croquis al creyón,',\n",
       " 'se hunde en la noche. El humo de un bohío,',\n",
       " 'que sube en forma de tirabuzón;',\n",
       " '',\n",
       " '',\n",
       " 'mancha el paisaje que produce frío,',\n",
       " 'y debajo de la genuflexión',\n",
       " 'de la arboleda, somormuja el río',\n",
       " 'su canción, su somnífera canción.',\n",
       " '',\n",
       " '',\n",
       " 'Los labradores, camellón abajo,',\n",
       " 'retornan fatigosos del trabajo,',\n",
       " 'como un problema sin definición.',\n",
       " '',\n",
       " '',\n",
       " 'Y el dueño del terruño, indiferente,',\n",
       " 'rápidamente, muy rápidamente,',\n",
       " 'baja en su coche por el camellón.',\n",
       " '']"
      ]
     },
     "execution_count": 18,
     "metadata": {},
     "output_type": "execute_result"
    }
   ],
   "source": [
    "versos_limpios"
   ]
  },
  {
   "cell_type": "code",
   "execution_count": 19,
   "id": "924c9863",
   "metadata": {},
   "outputs": [],
   "source": [
    "texto_poema = \"\\n\".join(versos_limpios)"
   ]
  },
  {
   "cell_type": "code",
   "execution_count": 20,
   "id": "d743583e",
   "metadata": {
    "scrolled": true
   },
   "outputs": [
    {
     "data": {
      "text/plain": [
       "'Tarde sucia de invierno. El caserío,\\ncomo si fuera un croquis al creyón,\\nse hunde en la noche. El humo de un bohío,\\nque sube en forma de tirabuzón;\\n\\n\\nmancha el paisaje que produce frío,\\ny debajo de la genuflexión\\nde la arboleda, somormuja el río\\nsu canción, su somnífera canción.\\n\\n\\nLos labradores, camellón abajo,\\nretornan fatigosos del trabajo,\\ncomo un problema sin definición.\\n\\n\\nY el dueño del terruño, indiferente,\\nrápidamente, muy rápidamente,\\nbaja en su coche por el camellón.\\n'"
      ]
     },
     "execution_count": 20,
     "metadata": {},
     "output_type": "execute_result"
    }
   ],
   "source": [
    "texto_poema"
   ]
  },
  {
   "cell_type": "code",
   "execution_count": 21,
   "id": "0535ef11",
   "metadata": {
    "scrolled": true
   },
   "outputs": [
    {
     "name": "stdout",
     "output_type": "stream",
     "text": [
      "Tarde sucia de invierno. El caserío,\n",
      "como si fuera un croquis al creyón,\n",
      "se hunde en la noche. El humo de un bohío,\n",
      "que sube en forma de tirabuzón;\n",
      "\n",
      "\n",
      "mancha el paisaje que produce frío,\n",
      "y debajo de la genuflexión\n",
      "de la arboleda, somormuja el río\n",
      "su canción, su somnífera canción.\n",
      "\n",
      "\n",
      "Los labradores, camellón abajo,\n",
      "retornan fatigosos del trabajo,\n",
      "como un problema sin definición.\n",
      "\n",
      "\n",
      "Y el dueño del terruño, indiferente,\n",
      "rápidamente, muy rápidamente,\n",
      "baja en su coche por el camellón.\n",
      "\n"
     ]
    }
   ],
   "source": [
    "print(texto_poema)"
   ]
  },
  {
   "cell_type": "markdown",
   "id": "038d806e",
   "metadata": {},
   "source": [
    "<a name=\"ss-guardar-dataframe\"></a>\n",
    "\n",
    "## Guardar la información extraída en una dataframe\n",
    "\n",
    "Gracias a la extracción, tenemos la información que nos interesa en las variables `titulo`, `autora` y `texto_poema`.\n",
    "\n",
    "Podemos guardar esto en una dataframe por ejemplo, como se vio en el [notebook](01-extraccion-desde-html.ipynb) sobre scraping desde HTML."
   ]
  },
  {
   "cell_type": "code",
   "execution_count": 22,
   "id": "27599e98",
   "metadata": {},
   "outputs": [],
   "source": [
    "import pandas as pd\n",
    "\n",
    "datos = {\"autora\": [autora],\n",
    "         \"titulo\": [titulo],\n",
    "         \"textoPoema\": [texto_poema]} \n",
    "\n",
    "df = pd.DataFrame(datos)"
   ]
  },
  {
   "cell_type": "code",
   "execution_count": 23,
   "id": "90305768",
   "metadata": {
    "scrolled": true
   },
   "outputs": [
    {
     "data": {
      "text/html": [
       "<div>\n",
       "<style scoped>\n",
       "    .dataframe tbody tr th:only-of-type {\n",
       "        vertical-align: middle;\n",
       "    }\n",
       "\n",
       "    .dataframe tbody tr th {\n",
       "        vertical-align: top;\n",
       "    }\n",
       "\n",
       "    .dataframe thead th {\n",
       "        text-align: right;\n",
       "    }\n",
       "</style>\n",
       "<table border=\"1\" class=\"dataframe\">\n",
       "  <thead>\n",
       "    <tr style=\"text-align: right;\">\n",
       "      <th></th>\n",
       "      <th>autora</th>\n",
       "      <th>titulo</th>\n",
       "      <th>textoPoema</th>\n",
       "    </tr>\n",
       "  </thead>\n",
       "  <tbody>\n",
       "    <tr>\n",
       "      <th>0</th>\n",
       "      <td>Delmira Agustini</td>\n",
       "      <td>Una viñeta</td>\n",
       "      <td>Tarde sucia de invierno. El caserío,\\ncomo si ...</td>\n",
       "    </tr>\n",
       "  </tbody>\n",
       "</table>\n",
       "</div>"
      ],
      "text/plain": [
       "             autora      titulo  \\\n",
       "0  Delmira Agustini  Una viñeta   \n",
       "\n",
       "                                          textoPoema  \n",
       "0  Tarde sucia de invierno. El caserío,\\ncomo si ...  "
      ]
     },
     "execution_count": 23,
     "metadata": {},
     "output_type": "execute_result"
    }
   ],
   "source": [
    "df"
   ]
  },
  {
   "cell_type": "markdown",
   "id": "b9764b01",
   "metadata": {},
   "source": [
    "Podemos ahora guardar este archivo en el disco."
   ]
  },
  {
   "cell_type": "code",
   "execution_count": 24,
   "id": "c9b3b951",
   "metadata": {},
   "outputs": [],
   "source": [
    "import pathlib\n",
    "\n",
    "# definir directorio para el archivo de salida\n",
    "directorio_actual = pathlib.Path.cwd()\n",
    "dir_resultados = directorio_actual.joinpath(\"resultados\", \"desde-xml\")\n",
    "\n",
    "# crear el directorio (si ya existe no será creado)\n",
    "if not dir_resultados.is_dir():\n",
    "    dir_resultados.mkdir(parents=True)\n",
    "\n",
    "# preparar los nombres de los archivos de salida para cada formato\n",
    "nombre_fichero = \"agustini_poema\"\n",
    "salida_csv = dir_resultados.joinpath(nombre_fichero + \".csv\")\n",
    "salida_tsv = dir_resultados.joinpath(nombre_fichero + \".tsv\")\n",
    "salida_excel = dir_resultados.joinpath(nombre_fichero + \".xlsx\")"
   ]
  },
  {
   "cell_type": "code",
   "execution_count": 25,
   "id": "61c65a58",
   "metadata": {},
   "outputs": [],
   "source": [
    "df.to_csv(salida_csv, index=False)\n",
    "df.to_csv(salida_tsv, sep=\"\\t\", index=False)\n",
    "df.to_excel(salida_excel, index=False)"
   ]
  },
  {
   "cell_type": "markdown",
   "id": "ca31fd81",
   "metadata": {},
   "source": [
    "Abriendo el archivo .xlsx con LibreOffice Calc, el resultado se muestra como sigue:\n",
    "\n",
    "\n",
    "![img](./img/02_xml_01_excel.png)"
   ]
  }
 ],
 "metadata": {
  "kernelspec": {
   "display_name": "Python 3 (ipykernel)",
   "language": "python",
   "name": "python3"
  },
  "language_info": {
   "codemirror_mode": {
    "name": "ipython",
    "version": 3
   },
   "file_extension": ".py",
   "mimetype": "text/x-python",
   "name": "python",
   "nbconvert_exporter": "python",
   "pygments_lexer": "ipython3",
   "version": "3.8.11"
  },
  "pycharm": {
   "stem_cell": {
    "cell_type": "raw",
    "source": [],
    "metadata": {
     "collapsed": false
    }
   }
  }
 },
 "nbformat": 4,
 "nbformat_minor": 5
}